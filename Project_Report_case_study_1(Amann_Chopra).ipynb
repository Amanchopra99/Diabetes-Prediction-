{
  "nbformat": 4,
  "nbformat_minor": 0,
  "metadata": {
    "kernelspec": {
      "display_name": "Python 3",
      "language": "python",
      "name": "python3"
    },
    "language_info": {
      "codemirror_mode": {
        "name": "ipython",
        "version": 3
      },
      "file_extension": ".py",
      "mimetype": "text/x-python",
      "name": "python",
      "nbconvert_exporter": "python",
      "pygments_lexer": "ipython3",
      "version": "3.6.3"
    },
    "colab": {
      "provenance": []
    }
  },
  "cells": [
    {
      "cell_type": "code",
      "metadata": {
        "id": "ZjzKaETf3AmV"
      },
      "source": [
        "import pandas as pd\n",
        "import numpy as np\n",
        "import matplotlib.pyplot as plt\n",
        "%matplotlib inline"
      ],
      "execution_count": null,
      "outputs": []
    },
    {
      "cell_type": "code",
      "metadata": {
        "id": "FHdffWlWnNPo",
        "colab": {
          "base_uri": "https://localhost:8080/",
          "height": 74
        },
        "outputId": "f42d31dc-317e-400f-f767-ab3ca1250cfb"
      },
      "source": [
        "from google.colab import files\n",
        "df = files.upload()"
      ],
      "execution_count": null,
      "outputs": [
        {
          "output_type": "display_data",
          "data": {
            "text/plain": [
              "<IPython.core.display.HTML object>"
            ],
            "text/html": [
              "\n",
              "     <input type=\"file\" id=\"files-74915489-4b16-4195-bbc7-aa567a00807c\" name=\"files[]\" multiple disabled\n",
              "        style=\"border:none\" />\n",
              "     <output id=\"result-74915489-4b16-4195-bbc7-aa567a00807c\">\n",
              "      Upload widget is only available when the cell has been executed in the\n",
              "      current browser session. Please rerun this cell to enable.\n",
              "      </output>\n",
              "      <script>// Copyright 2017 Google LLC\n",
              "//\n",
              "// Licensed under the Apache License, Version 2.0 (the \"License\");\n",
              "// you may not use this file except in compliance with the License.\n",
              "// You may obtain a copy of the License at\n",
              "//\n",
              "//      http://www.apache.org/licenses/LICENSE-2.0\n",
              "//\n",
              "// Unless required by applicable law or agreed to in writing, software\n",
              "// distributed under the License is distributed on an \"AS IS\" BASIS,\n",
              "// WITHOUT WARRANTIES OR CONDITIONS OF ANY KIND, either express or implied.\n",
              "// See the License for the specific language governing permissions and\n",
              "// limitations under the License.\n",
              "\n",
              "/**\n",
              " * @fileoverview Helpers for google.colab Python module.\n",
              " */\n",
              "(function(scope) {\n",
              "function span(text, styleAttributes = {}) {\n",
              "  const element = document.createElement('span');\n",
              "  element.textContent = text;\n",
              "  for (const key of Object.keys(styleAttributes)) {\n",
              "    element.style[key] = styleAttributes[key];\n",
              "  }\n",
              "  return element;\n",
              "}\n",
              "\n",
              "// Max number of bytes which will be uploaded at a time.\n",
              "const MAX_PAYLOAD_SIZE = 100 * 1024;\n",
              "\n",
              "function _uploadFiles(inputId, outputId) {\n",
              "  const steps = uploadFilesStep(inputId, outputId);\n",
              "  const outputElement = document.getElementById(outputId);\n",
              "  // Cache steps on the outputElement to make it available for the next call\n",
              "  // to uploadFilesContinue from Python.\n",
              "  outputElement.steps = steps;\n",
              "\n",
              "  return _uploadFilesContinue(outputId);\n",
              "}\n",
              "\n",
              "// This is roughly an async generator (not supported in the browser yet),\n",
              "// where there are multiple asynchronous steps and the Python side is going\n",
              "// to poll for completion of each step.\n",
              "// This uses a Promise to block the python side on completion of each step,\n",
              "// then passes the result of the previous step as the input to the next step.\n",
              "function _uploadFilesContinue(outputId) {\n",
              "  const outputElement = document.getElementById(outputId);\n",
              "  const steps = outputElement.steps;\n",
              "\n",
              "  const next = steps.next(outputElement.lastPromiseValue);\n",
              "  return Promise.resolve(next.value.promise).then((value) => {\n",
              "    // Cache the last promise value to make it available to the next\n",
              "    // step of the generator.\n",
              "    outputElement.lastPromiseValue = value;\n",
              "    return next.value.response;\n",
              "  });\n",
              "}\n",
              "\n",
              "/**\n",
              " * Generator function which is called between each async step of the upload\n",
              " * process.\n",
              " * @param {string} inputId Element ID of the input file picker element.\n",
              " * @param {string} outputId Element ID of the output display.\n",
              " * @return {!Iterable<!Object>} Iterable of next steps.\n",
              " */\n",
              "function* uploadFilesStep(inputId, outputId) {\n",
              "  const inputElement = document.getElementById(inputId);\n",
              "  inputElement.disabled = false;\n",
              "\n",
              "  const outputElement = document.getElementById(outputId);\n",
              "  outputElement.innerHTML = '';\n",
              "\n",
              "  const pickedPromise = new Promise((resolve) => {\n",
              "    inputElement.addEventListener('change', (e) => {\n",
              "      resolve(e.target.files);\n",
              "    });\n",
              "  });\n",
              "\n",
              "  const cancel = document.createElement('button');\n",
              "  inputElement.parentElement.appendChild(cancel);\n",
              "  cancel.textContent = 'Cancel upload';\n",
              "  const cancelPromise = new Promise((resolve) => {\n",
              "    cancel.onclick = () => {\n",
              "      resolve(null);\n",
              "    };\n",
              "  });\n",
              "\n",
              "  // Wait for the user to pick the files.\n",
              "  const files = yield {\n",
              "    promise: Promise.race([pickedPromise, cancelPromise]),\n",
              "    response: {\n",
              "      action: 'starting',\n",
              "    }\n",
              "  };\n",
              "\n",
              "  cancel.remove();\n",
              "\n",
              "  // Disable the input element since further picks are not allowed.\n",
              "  inputElement.disabled = true;\n",
              "\n",
              "  if (!files) {\n",
              "    return {\n",
              "      response: {\n",
              "        action: 'complete',\n",
              "      }\n",
              "    };\n",
              "  }\n",
              "\n",
              "  for (const file of files) {\n",
              "    const li = document.createElement('li');\n",
              "    li.append(span(file.name, {fontWeight: 'bold'}));\n",
              "    li.append(span(\n",
              "        `(${file.type || 'n/a'}) - ${file.size} bytes, ` +\n",
              "        `last modified: ${\n",
              "            file.lastModifiedDate ? file.lastModifiedDate.toLocaleDateString() :\n",
              "                                    'n/a'} - `));\n",
              "    const percent = span('0% done');\n",
              "    li.appendChild(percent);\n",
              "\n",
              "    outputElement.appendChild(li);\n",
              "\n",
              "    const fileDataPromise = new Promise((resolve) => {\n",
              "      const reader = new FileReader();\n",
              "      reader.onload = (e) => {\n",
              "        resolve(e.target.result);\n",
              "      };\n",
              "      reader.readAsArrayBuffer(file);\n",
              "    });\n",
              "    // Wait for the data to be ready.\n",
              "    let fileData = yield {\n",
              "      promise: fileDataPromise,\n",
              "      response: {\n",
              "        action: 'continue',\n",
              "      }\n",
              "    };\n",
              "\n",
              "    // Use a chunked sending to avoid message size limits. See b/62115660.\n",
              "    let position = 0;\n",
              "    do {\n",
              "      const length = Math.min(fileData.byteLength - position, MAX_PAYLOAD_SIZE);\n",
              "      const chunk = new Uint8Array(fileData, position, length);\n",
              "      position += length;\n",
              "\n",
              "      const base64 = btoa(String.fromCharCode.apply(null, chunk));\n",
              "      yield {\n",
              "        response: {\n",
              "          action: 'append',\n",
              "          file: file.name,\n",
              "          data: base64,\n",
              "        },\n",
              "      };\n",
              "\n",
              "      let percentDone = fileData.byteLength === 0 ?\n",
              "          100 :\n",
              "          Math.round((position / fileData.byteLength) * 100);\n",
              "      percent.textContent = `${percentDone}% done`;\n",
              "\n",
              "    } while (position < fileData.byteLength);\n",
              "  }\n",
              "\n",
              "  // All done.\n",
              "  yield {\n",
              "    response: {\n",
              "      action: 'complete',\n",
              "    }\n",
              "  };\n",
              "}\n",
              "\n",
              "scope.google = scope.google || {};\n",
              "scope.google.colab = scope.google.colab || {};\n",
              "scope.google.colab._files = {\n",
              "  _uploadFiles,\n",
              "  _uploadFilesContinue,\n",
              "};\n",
              "})(self);\n",
              "</script> "
            ]
          },
          "metadata": {}
        },
        {
          "output_type": "stream",
          "name": "stdout",
          "text": [
            "Saving sparcs1.csv to sparcs1.csv\n"
          ]
        }
      ]
    },
    {
      "cell_type": "code",
      "metadata": {
        "id": "Ybf3nISP3Amf",
        "colab": {
          "base_uri": "https://localhost:8080/"
        },
        "outputId": "1b668bb9-47d8-41f1-836f-a8f425d8726f"
      },
      "source": [
        "sparcs = pd.read_csv('sparcs1.csv')\n",
        "print(sparcs.columns)"
      ],
      "execution_count": null,
      "outputs": [
        {
          "output_type": "stream",
          "name": "stdout",
          "text": [
            "Index(['Health Service Area', 'Hospital County',\n",
            "       'Operating Certificate Number', 'Facility ID', 'Age Group',\n",
            "       'Length of Stay', 'Type of Admission', 'Patient Disposition',\n",
            "       'CCS Procedure Description', 'APR Severity of Illness Code',\n",
            "       'APR Risk of Mortality', 'Source of Payment 1', 'Total Costs'],\n",
            "      dtype='object')\n"
          ]
        }
      ]
    },
    {
      "cell_type": "code",
      "source": [
        "\n",
        "sparcs.shape"
      ],
      "metadata": {
        "colab": {
          "base_uri": "https://localhost:8080/"
        },
        "id": "6OwA2xxOjypP",
        "outputId": "7a416cd4-4b01-430e-cb89-f0230f3aec67"
      },
      "execution_count": null,
      "outputs": [
        {
          "output_type": "execute_result",
          "data": {
            "text/plain": [
              "(19999, 13)"
            ]
          },
          "metadata": {},
          "execution_count": 4
        }
      ]
    },
    {
      "cell_type": "code",
      "metadata": {
        "id": "kJ9NScaV3Ams",
        "colab": {
          "base_uri": "https://localhost:8080/",
          "height": 372
        },
        "outputId": "94bfbd33-5de3-4a7c-9cec-2992a7112347"
      },
      "source": [
        "sparcs.head()"
      ],
      "execution_count": null,
      "outputs": [
        {
          "output_type": "execute_result",
          "data": {
            "text/plain": [
              "  Health Service Area Hospital County  Operating Certificate Number  \\\n",
              "0       New York City       Manhattan                     7002054.0   \n",
              "1       New York City       Manhattan                     7002054.0   \n",
              "2       New York City       Manhattan                     7002054.0   \n",
              "3       Southern Tier        Tompkins                     5401001.0   \n",
              "4       New York City           Bronx                     7000014.0   \n",
              "\n",
              "   Facility ID Age Group Length of Stay Type of Admission  \\\n",
              "0       1458.0   0 to 17              2           Newborn   \n",
              "1       1458.0   0 to 17              4         Emergency   \n",
              "2       1464.0   0 to 17              2           Newborn   \n",
              "3        977.0   0 to 17              2           Newborn   \n",
              "4       1176.0   0 to 17              3         Emergency   \n",
              "\n",
              "                    Patient Disposition CCS Procedure Description  \\\n",
              "0                     Home or Self Care              CIRCUMCISION   \n",
              "1  Cancer Center or Children's Hospital    RESP INTUB/MECH VENTIL   \n",
              "2                     Home or Self Care    OPHTHALM-/OT-OLOGIC DX   \n",
              "3                     Home or Self Care   PROPHYLACTIC VAC/INOCUL   \n",
              "4                     Home or Self Care     DIAGNOSTIC SPINAL TAP   \n",
              "\n",
              "   APR Severity of Illness Code APR Risk of Mortality Source of Payment 1  \\\n",
              "0                             1                 Minor   Insurance Company   \n",
              "1                             2                 Major   Insurance Company   \n",
              "2                             1                 Minor          Blue Cross   \n",
              "3                             2                 Minor          Blue Cross   \n",
              "4                             2                 Minor            Self-Pay   \n",
              "\n",
              "  Total Costs  \n",
              "0    1,685.18  \n",
              "1   17,394.94  \n",
              "2    1,818.44  \n",
              "3    1,024.48  \n",
              "4    3,238.19  "
            ],
            "text/html": [
              "\n",
              "  <div id=\"df-d70b4c04-7f6d-4552-bc6a-2e5e591b0496\">\n",
              "    <div class=\"colab-df-container\">\n",
              "      <div>\n",
              "<style scoped>\n",
              "    .dataframe tbody tr th:only-of-type {\n",
              "        vertical-align: middle;\n",
              "    }\n",
              "\n",
              "    .dataframe tbody tr th {\n",
              "        vertical-align: top;\n",
              "    }\n",
              "\n",
              "    .dataframe thead th {\n",
              "        text-align: right;\n",
              "    }\n",
              "</style>\n",
              "<table border=\"1\" class=\"dataframe\">\n",
              "  <thead>\n",
              "    <tr style=\"text-align: right;\">\n",
              "      <th></th>\n",
              "      <th>Health Service Area</th>\n",
              "      <th>Hospital County</th>\n",
              "      <th>Operating Certificate Number</th>\n",
              "      <th>Facility ID</th>\n",
              "      <th>Age Group</th>\n",
              "      <th>Length of Stay</th>\n",
              "      <th>Type of Admission</th>\n",
              "      <th>Patient Disposition</th>\n",
              "      <th>CCS Procedure Description</th>\n",
              "      <th>APR Severity of Illness Code</th>\n",
              "      <th>APR Risk of Mortality</th>\n",
              "      <th>Source of Payment 1</th>\n",
              "      <th>Total Costs</th>\n",
              "    </tr>\n",
              "  </thead>\n",
              "  <tbody>\n",
              "    <tr>\n",
              "      <th>0</th>\n",
              "      <td>New York City</td>\n",
              "      <td>Manhattan</td>\n",
              "      <td>7002054.0</td>\n",
              "      <td>1458.0</td>\n",
              "      <td>0 to 17</td>\n",
              "      <td>2</td>\n",
              "      <td>Newborn</td>\n",
              "      <td>Home or Self Care</td>\n",
              "      <td>CIRCUMCISION</td>\n",
              "      <td>1</td>\n",
              "      <td>Minor</td>\n",
              "      <td>Insurance Company</td>\n",
              "      <td>1,685.18</td>\n",
              "    </tr>\n",
              "    <tr>\n",
              "      <th>1</th>\n",
              "      <td>New York City</td>\n",
              "      <td>Manhattan</td>\n",
              "      <td>7002054.0</td>\n",
              "      <td>1458.0</td>\n",
              "      <td>0 to 17</td>\n",
              "      <td>4</td>\n",
              "      <td>Emergency</td>\n",
              "      <td>Cancer Center or Children's Hospital</td>\n",
              "      <td>RESP INTUB/MECH VENTIL</td>\n",
              "      <td>2</td>\n",
              "      <td>Major</td>\n",
              "      <td>Insurance Company</td>\n",
              "      <td>17,394.94</td>\n",
              "    </tr>\n",
              "    <tr>\n",
              "      <th>2</th>\n",
              "      <td>New York City</td>\n",
              "      <td>Manhattan</td>\n",
              "      <td>7002054.0</td>\n",
              "      <td>1464.0</td>\n",
              "      <td>0 to 17</td>\n",
              "      <td>2</td>\n",
              "      <td>Newborn</td>\n",
              "      <td>Home or Self Care</td>\n",
              "      <td>OPHTHALM-/OT-OLOGIC DX</td>\n",
              "      <td>1</td>\n",
              "      <td>Minor</td>\n",
              "      <td>Blue Cross</td>\n",
              "      <td>1,818.44</td>\n",
              "    </tr>\n",
              "    <tr>\n",
              "      <th>3</th>\n",
              "      <td>Southern Tier</td>\n",
              "      <td>Tompkins</td>\n",
              "      <td>5401001.0</td>\n",
              "      <td>977.0</td>\n",
              "      <td>0 to 17</td>\n",
              "      <td>2</td>\n",
              "      <td>Newborn</td>\n",
              "      <td>Home or Self Care</td>\n",
              "      <td>PROPHYLACTIC VAC/INOCUL</td>\n",
              "      <td>2</td>\n",
              "      <td>Minor</td>\n",
              "      <td>Blue Cross</td>\n",
              "      <td>1,024.48</td>\n",
              "    </tr>\n",
              "    <tr>\n",
              "      <th>4</th>\n",
              "      <td>New York City</td>\n",
              "      <td>Bronx</td>\n",
              "      <td>7000014.0</td>\n",
              "      <td>1176.0</td>\n",
              "      <td>0 to 17</td>\n",
              "      <td>3</td>\n",
              "      <td>Emergency</td>\n",
              "      <td>Home or Self Care</td>\n",
              "      <td>DIAGNOSTIC SPINAL TAP</td>\n",
              "      <td>2</td>\n",
              "      <td>Minor</td>\n",
              "      <td>Self-Pay</td>\n",
              "      <td>3,238.19</td>\n",
              "    </tr>\n",
              "  </tbody>\n",
              "</table>\n",
              "</div>\n",
              "      <button class=\"colab-df-convert\" onclick=\"convertToInteractive('df-d70b4c04-7f6d-4552-bc6a-2e5e591b0496')\"\n",
              "              title=\"Convert this dataframe to an interactive table.\"\n",
              "              style=\"display:none;\">\n",
              "        \n",
              "  <svg xmlns=\"http://www.w3.org/2000/svg\" height=\"24px\"viewBox=\"0 0 24 24\"\n",
              "       width=\"24px\">\n",
              "    <path d=\"M0 0h24v24H0V0z\" fill=\"none\"/>\n",
              "    <path d=\"M18.56 5.44l.94 2.06.94-2.06 2.06-.94-2.06-.94-.94-2.06-.94 2.06-2.06.94zm-11 1L8.5 8.5l.94-2.06 2.06-.94-2.06-.94L8.5 2.5l-.94 2.06-2.06.94zm10 10l.94 2.06.94-2.06 2.06-.94-2.06-.94-.94-2.06-.94 2.06-2.06.94z\"/><path d=\"M17.41 7.96l-1.37-1.37c-.4-.4-.92-.59-1.43-.59-.52 0-1.04.2-1.43.59L10.3 9.45l-7.72 7.72c-.78.78-.78 2.05 0 2.83L4 21.41c.39.39.9.59 1.41.59.51 0 1.02-.2 1.41-.59l7.78-7.78 2.81-2.81c.8-.78.8-2.07 0-2.86zM5.41 20L4 18.59l7.72-7.72 1.47 1.35L5.41 20z\"/>\n",
              "  </svg>\n",
              "      </button>\n",
              "      \n",
              "  <style>\n",
              "    .colab-df-container {\n",
              "      display:flex;\n",
              "      flex-wrap:wrap;\n",
              "      gap: 12px;\n",
              "    }\n",
              "\n",
              "    .colab-df-convert {\n",
              "      background-color: #E8F0FE;\n",
              "      border: none;\n",
              "      border-radius: 50%;\n",
              "      cursor: pointer;\n",
              "      display: none;\n",
              "      fill: #1967D2;\n",
              "      height: 32px;\n",
              "      padding: 0 0 0 0;\n",
              "      width: 32px;\n",
              "    }\n",
              "\n",
              "    .colab-df-convert:hover {\n",
              "      background-color: #E2EBFA;\n",
              "      box-shadow: 0px 1px 2px rgba(60, 64, 67, 0.3), 0px 1px 3px 1px rgba(60, 64, 67, 0.15);\n",
              "      fill: #174EA6;\n",
              "    }\n",
              "\n",
              "    [theme=dark] .colab-df-convert {\n",
              "      background-color: #3B4455;\n",
              "      fill: #D2E3FC;\n",
              "    }\n",
              "\n",
              "    [theme=dark] .colab-df-convert:hover {\n",
              "      background-color: #434B5C;\n",
              "      box-shadow: 0px 1px 3px 1px rgba(0, 0, 0, 0.15);\n",
              "      filter: drop-shadow(0px 1px 2px rgba(0, 0, 0, 0.3));\n",
              "      fill: #FFFFFF;\n",
              "    }\n",
              "  </style>\n",
              "\n",
              "      <script>\n",
              "        const buttonEl =\n",
              "          document.querySelector('#df-d70b4c04-7f6d-4552-bc6a-2e5e591b0496 button.colab-df-convert');\n",
              "        buttonEl.style.display =\n",
              "          google.colab.kernel.accessAllowed ? 'block' : 'none';\n",
              "\n",
              "        async function convertToInteractive(key) {\n",
              "          const element = document.querySelector('#df-d70b4c04-7f6d-4552-bc6a-2e5e591b0496');\n",
              "          const dataTable =\n",
              "            await google.colab.kernel.invokeFunction('convertToInteractive',\n",
              "                                                     [key], {});\n",
              "          if (!dataTable) return;\n",
              "\n",
              "          const docLinkHtml = 'Like what you see? Visit the ' +\n",
              "            '<a target=\"_blank\" href=https://colab.research.google.com/notebooks/data_table.ipynb>data table notebook</a>'\n",
              "            + ' to learn more about interactive tables.';\n",
              "          element.innerHTML = '';\n",
              "          dataTable['output_type'] = 'display_data';\n",
              "          await google.colab.output.renderOutput(dataTable, element);\n",
              "          const docLink = document.createElement('div');\n",
              "          docLink.innerHTML = docLinkHtml;\n",
              "          element.appendChild(docLink);\n",
              "        }\n",
              "      </script>\n",
              "    </div>\n",
              "  </div>\n",
              "  "
            ]
          },
          "metadata": {},
          "execution_count": 5
        }
      ]
    },
    {
      "cell_type": "code",
      "source": [
        "sparcs.describe()"
      ],
      "metadata": {
        "colab": {
          "base_uri": "https://localhost:8080/",
          "height": 300
        },
        "id": "6jeKDOpsQPM4",
        "outputId": "5df99a0e-ec84-4674-cbe5-ccdd6977aa0c"
      },
      "execution_count": null,
      "outputs": [
        {
          "output_type": "execute_result",
          "data": {
            "text/plain": [
              "       Operating Certificate Number   Facility ID  \\\n",
              "count                  1.999400e+04  19994.000000   \n",
              "mean                   6.968105e+06   1574.881414   \n",
              "std                    3.611114e+05    570.057810   \n",
              "min                    1.010000e+05      1.000000   \n",
              "25%                    7.002017e+06   1450.000000   \n",
              "50%                    7.002032e+06   1458.000000   \n",
              "75%                    7.002054e+06   1464.000000   \n",
              "max                    7.004010e+06   3975.000000   \n",
              "\n",
              "       APR Severity of Illness Code  \n",
              "count                  19999.000000  \n",
              "mean                       1.382419  \n",
              "std                        0.669259  \n",
              "min                        0.000000  \n",
              "25%                        1.000000  \n",
              "50%                        1.000000  \n",
              "75%                        2.000000  \n",
              "max                        4.000000  "
            ],
            "text/html": [
              "\n",
              "  <div id=\"df-47149dc5-725c-4273-ae14-ba15bac32960\">\n",
              "    <div class=\"colab-df-container\">\n",
              "      <div>\n",
              "<style scoped>\n",
              "    .dataframe tbody tr th:only-of-type {\n",
              "        vertical-align: middle;\n",
              "    }\n",
              "\n",
              "    .dataframe tbody tr th {\n",
              "        vertical-align: top;\n",
              "    }\n",
              "\n",
              "    .dataframe thead th {\n",
              "        text-align: right;\n",
              "    }\n",
              "</style>\n",
              "<table border=\"1\" class=\"dataframe\">\n",
              "  <thead>\n",
              "    <tr style=\"text-align: right;\">\n",
              "      <th></th>\n",
              "      <th>Operating Certificate Number</th>\n",
              "      <th>Facility ID</th>\n",
              "      <th>APR Severity of Illness Code</th>\n",
              "    </tr>\n",
              "  </thead>\n",
              "  <tbody>\n",
              "    <tr>\n",
              "      <th>count</th>\n",
              "      <td>1.999400e+04</td>\n",
              "      <td>19994.000000</td>\n",
              "      <td>19999.000000</td>\n",
              "    </tr>\n",
              "    <tr>\n",
              "      <th>mean</th>\n",
              "      <td>6.968105e+06</td>\n",
              "      <td>1574.881414</td>\n",
              "      <td>1.382419</td>\n",
              "    </tr>\n",
              "    <tr>\n",
              "      <th>std</th>\n",
              "      <td>3.611114e+05</td>\n",
              "      <td>570.057810</td>\n",
              "      <td>0.669259</td>\n",
              "    </tr>\n",
              "    <tr>\n",
              "      <th>min</th>\n",
              "      <td>1.010000e+05</td>\n",
              "      <td>1.000000</td>\n",
              "      <td>0.000000</td>\n",
              "    </tr>\n",
              "    <tr>\n",
              "      <th>25%</th>\n",
              "      <td>7.002017e+06</td>\n",
              "      <td>1450.000000</td>\n",
              "      <td>1.000000</td>\n",
              "    </tr>\n",
              "    <tr>\n",
              "      <th>50%</th>\n",
              "      <td>7.002032e+06</td>\n",
              "      <td>1458.000000</td>\n",
              "      <td>1.000000</td>\n",
              "    </tr>\n",
              "    <tr>\n",
              "      <th>75%</th>\n",
              "      <td>7.002054e+06</td>\n",
              "      <td>1464.000000</td>\n",
              "      <td>2.000000</td>\n",
              "    </tr>\n",
              "    <tr>\n",
              "      <th>max</th>\n",
              "      <td>7.004010e+06</td>\n",
              "      <td>3975.000000</td>\n",
              "      <td>4.000000</td>\n",
              "    </tr>\n",
              "  </tbody>\n",
              "</table>\n",
              "</div>\n",
              "      <button class=\"colab-df-convert\" onclick=\"convertToInteractive('df-47149dc5-725c-4273-ae14-ba15bac32960')\"\n",
              "              title=\"Convert this dataframe to an interactive table.\"\n",
              "              style=\"display:none;\">\n",
              "        \n",
              "  <svg xmlns=\"http://www.w3.org/2000/svg\" height=\"24px\"viewBox=\"0 0 24 24\"\n",
              "       width=\"24px\">\n",
              "    <path d=\"M0 0h24v24H0V0z\" fill=\"none\"/>\n",
              "    <path d=\"M18.56 5.44l.94 2.06.94-2.06 2.06-.94-2.06-.94-.94-2.06-.94 2.06-2.06.94zm-11 1L8.5 8.5l.94-2.06 2.06-.94-2.06-.94L8.5 2.5l-.94 2.06-2.06.94zm10 10l.94 2.06.94-2.06 2.06-.94-2.06-.94-.94-2.06-.94 2.06-2.06.94z\"/><path d=\"M17.41 7.96l-1.37-1.37c-.4-.4-.92-.59-1.43-.59-.52 0-1.04.2-1.43.59L10.3 9.45l-7.72 7.72c-.78.78-.78 2.05 0 2.83L4 21.41c.39.39.9.59 1.41.59.51 0 1.02-.2 1.41-.59l7.78-7.78 2.81-2.81c.8-.78.8-2.07 0-2.86zM5.41 20L4 18.59l7.72-7.72 1.47 1.35L5.41 20z\"/>\n",
              "  </svg>\n",
              "      </button>\n",
              "      \n",
              "  <style>\n",
              "    .colab-df-container {\n",
              "      display:flex;\n",
              "      flex-wrap:wrap;\n",
              "      gap: 12px;\n",
              "    }\n",
              "\n",
              "    .colab-df-convert {\n",
              "      background-color: #E8F0FE;\n",
              "      border: none;\n",
              "      border-radius: 50%;\n",
              "      cursor: pointer;\n",
              "      display: none;\n",
              "      fill: #1967D2;\n",
              "      height: 32px;\n",
              "      padding: 0 0 0 0;\n",
              "      width: 32px;\n",
              "    }\n",
              "\n",
              "    .colab-df-convert:hover {\n",
              "      background-color: #E2EBFA;\n",
              "      box-shadow: 0px 1px 2px rgba(60, 64, 67, 0.3), 0px 1px 3px 1px rgba(60, 64, 67, 0.15);\n",
              "      fill: #174EA6;\n",
              "    }\n",
              "\n",
              "    [theme=dark] .colab-df-convert {\n",
              "      background-color: #3B4455;\n",
              "      fill: #D2E3FC;\n",
              "    }\n",
              "\n",
              "    [theme=dark] .colab-df-convert:hover {\n",
              "      background-color: #434B5C;\n",
              "      box-shadow: 0px 1px 3px 1px rgba(0, 0, 0, 0.15);\n",
              "      filter: drop-shadow(0px 1px 2px rgba(0, 0, 0, 0.3));\n",
              "      fill: #FFFFFF;\n",
              "    }\n",
              "  </style>\n",
              "\n",
              "      <script>\n",
              "        const buttonEl =\n",
              "          document.querySelector('#df-47149dc5-725c-4273-ae14-ba15bac32960 button.colab-df-convert');\n",
              "        buttonEl.style.display =\n",
              "          google.colab.kernel.accessAllowed ? 'block' : 'none';\n",
              "\n",
              "        async function convertToInteractive(key) {\n",
              "          const element = document.querySelector('#df-47149dc5-725c-4273-ae14-ba15bac32960');\n",
              "          const dataTable =\n",
              "            await google.colab.kernel.invokeFunction('convertToInteractive',\n",
              "                                                     [key], {});\n",
              "          if (!dataTable) return;\n",
              "\n",
              "          const docLinkHtml = 'Like what you see? Visit the ' +\n",
              "            '<a target=\"_blank\" href=https://colab.research.google.com/notebooks/data_table.ipynb>data table notebook</a>'\n",
              "            + ' to learn more about interactive tables.';\n",
              "          element.innerHTML = '';\n",
              "          dataTable['output_type'] = 'display_data';\n",
              "          await google.colab.output.renderOutput(dataTable, element);\n",
              "          const docLink = document.createElement('div');\n",
              "          docLink.innerHTML = docLinkHtml;\n",
              "          element.appendChild(docLink);\n",
              "        }\n",
              "      </script>\n",
              "    </div>\n",
              "  </div>\n",
              "  "
            ]
          },
          "metadata": {},
          "execution_count": 6
        }
      ]
    },
    {
      "cell_type": "code",
      "source": [
        "sparcs.drop(['Total Costs'], axis = 1, inplace = True)\n",
        "sparcs.head()"
      ],
      "metadata": {
        "colab": {
          "base_uri": "https://localhost:8080/",
          "height": 372
        },
        "id": "Mu47D-5skb-v",
        "outputId": "955dcf08-694c-48d7-ef57-6d36a160a5fa"
      },
      "execution_count": null,
      "outputs": [
        {
          "output_type": "execute_result",
          "data": {
            "text/plain": [
              "  Health Service Area Hospital County  Operating Certificate Number  \\\n",
              "0       New York City       Manhattan                     7002054.0   \n",
              "1       New York City       Manhattan                     7002054.0   \n",
              "2       New York City       Manhattan                     7002054.0   \n",
              "3       Southern Tier        Tompkins                     5401001.0   \n",
              "4       New York City           Bronx                     7000014.0   \n",
              "\n",
              "   Facility ID Age Group Length of Stay Type of Admission  \\\n",
              "0       1458.0   0 to 17              2           Newborn   \n",
              "1       1458.0   0 to 17              4         Emergency   \n",
              "2       1464.0   0 to 17              2           Newborn   \n",
              "3        977.0   0 to 17              2           Newborn   \n",
              "4       1176.0   0 to 17              3         Emergency   \n",
              "\n",
              "                    Patient Disposition CCS Procedure Description  \\\n",
              "0                     Home or Self Care              CIRCUMCISION   \n",
              "1  Cancer Center or Children's Hospital    RESP INTUB/MECH VENTIL   \n",
              "2                     Home or Self Care    OPHTHALM-/OT-OLOGIC DX   \n",
              "3                     Home or Self Care   PROPHYLACTIC VAC/INOCUL   \n",
              "4                     Home or Self Care     DIAGNOSTIC SPINAL TAP   \n",
              "\n",
              "   APR Severity of Illness Code APR Risk of Mortality Source of Payment 1  \n",
              "0                             1                 Minor   Insurance Company  \n",
              "1                             2                 Major   Insurance Company  \n",
              "2                             1                 Minor          Blue Cross  \n",
              "3                             2                 Minor          Blue Cross  \n",
              "4                             2                 Minor            Self-Pay  "
            ],
            "text/html": [
              "\n",
              "  <div id=\"df-4bf83206-f818-4baa-9adc-710a7ce2817c\">\n",
              "    <div class=\"colab-df-container\">\n",
              "      <div>\n",
              "<style scoped>\n",
              "    .dataframe tbody tr th:only-of-type {\n",
              "        vertical-align: middle;\n",
              "    }\n",
              "\n",
              "    .dataframe tbody tr th {\n",
              "        vertical-align: top;\n",
              "    }\n",
              "\n",
              "    .dataframe thead th {\n",
              "        text-align: right;\n",
              "    }\n",
              "</style>\n",
              "<table border=\"1\" class=\"dataframe\">\n",
              "  <thead>\n",
              "    <tr style=\"text-align: right;\">\n",
              "      <th></th>\n",
              "      <th>Health Service Area</th>\n",
              "      <th>Hospital County</th>\n",
              "      <th>Operating Certificate Number</th>\n",
              "      <th>Facility ID</th>\n",
              "      <th>Age Group</th>\n",
              "      <th>Length of Stay</th>\n",
              "      <th>Type of Admission</th>\n",
              "      <th>Patient Disposition</th>\n",
              "      <th>CCS Procedure Description</th>\n",
              "      <th>APR Severity of Illness Code</th>\n",
              "      <th>APR Risk of Mortality</th>\n",
              "      <th>Source of Payment 1</th>\n",
              "    </tr>\n",
              "  </thead>\n",
              "  <tbody>\n",
              "    <tr>\n",
              "      <th>0</th>\n",
              "      <td>New York City</td>\n",
              "      <td>Manhattan</td>\n",
              "      <td>7002054.0</td>\n",
              "      <td>1458.0</td>\n",
              "      <td>0 to 17</td>\n",
              "      <td>2</td>\n",
              "      <td>Newborn</td>\n",
              "      <td>Home or Self Care</td>\n",
              "      <td>CIRCUMCISION</td>\n",
              "      <td>1</td>\n",
              "      <td>Minor</td>\n",
              "      <td>Insurance Company</td>\n",
              "    </tr>\n",
              "    <tr>\n",
              "      <th>1</th>\n",
              "      <td>New York City</td>\n",
              "      <td>Manhattan</td>\n",
              "      <td>7002054.0</td>\n",
              "      <td>1458.0</td>\n",
              "      <td>0 to 17</td>\n",
              "      <td>4</td>\n",
              "      <td>Emergency</td>\n",
              "      <td>Cancer Center or Children's Hospital</td>\n",
              "      <td>RESP INTUB/MECH VENTIL</td>\n",
              "      <td>2</td>\n",
              "      <td>Major</td>\n",
              "      <td>Insurance Company</td>\n",
              "    </tr>\n",
              "    <tr>\n",
              "      <th>2</th>\n",
              "      <td>New York City</td>\n",
              "      <td>Manhattan</td>\n",
              "      <td>7002054.0</td>\n",
              "      <td>1464.0</td>\n",
              "      <td>0 to 17</td>\n",
              "      <td>2</td>\n",
              "      <td>Newborn</td>\n",
              "      <td>Home or Self Care</td>\n",
              "      <td>OPHTHALM-/OT-OLOGIC DX</td>\n",
              "      <td>1</td>\n",
              "      <td>Minor</td>\n",
              "      <td>Blue Cross</td>\n",
              "    </tr>\n",
              "    <tr>\n",
              "      <th>3</th>\n",
              "      <td>Southern Tier</td>\n",
              "      <td>Tompkins</td>\n",
              "      <td>5401001.0</td>\n",
              "      <td>977.0</td>\n",
              "      <td>0 to 17</td>\n",
              "      <td>2</td>\n",
              "      <td>Newborn</td>\n",
              "      <td>Home or Self Care</td>\n",
              "      <td>PROPHYLACTIC VAC/INOCUL</td>\n",
              "      <td>2</td>\n",
              "      <td>Minor</td>\n",
              "      <td>Blue Cross</td>\n",
              "    </tr>\n",
              "    <tr>\n",
              "      <th>4</th>\n",
              "      <td>New York City</td>\n",
              "      <td>Bronx</td>\n",
              "      <td>7000014.0</td>\n",
              "      <td>1176.0</td>\n",
              "      <td>0 to 17</td>\n",
              "      <td>3</td>\n",
              "      <td>Emergency</td>\n",
              "      <td>Home or Self Care</td>\n",
              "      <td>DIAGNOSTIC SPINAL TAP</td>\n",
              "      <td>2</td>\n",
              "      <td>Minor</td>\n",
              "      <td>Self-Pay</td>\n",
              "    </tr>\n",
              "  </tbody>\n",
              "</table>\n",
              "</div>\n",
              "      <button class=\"colab-df-convert\" onclick=\"convertToInteractive('df-4bf83206-f818-4baa-9adc-710a7ce2817c')\"\n",
              "              title=\"Convert this dataframe to an interactive table.\"\n",
              "              style=\"display:none;\">\n",
              "        \n",
              "  <svg xmlns=\"http://www.w3.org/2000/svg\" height=\"24px\"viewBox=\"0 0 24 24\"\n",
              "       width=\"24px\">\n",
              "    <path d=\"M0 0h24v24H0V0z\" fill=\"none\"/>\n",
              "    <path d=\"M18.56 5.44l.94 2.06.94-2.06 2.06-.94-2.06-.94-.94-2.06-.94 2.06-2.06.94zm-11 1L8.5 8.5l.94-2.06 2.06-.94-2.06-.94L8.5 2.5l-.94 2.06-2.06.94zm10 10l.94 2.06.94-2.06 2.06-.94-2.06-.94-.94-2.06-.94 2.06-2.06.94z\"/><path d=\"M17.41 7.96l-1.37-1.37c-.4-.4-.92-.59-1.43-.59-.52 0-1.04.2-1.43.59L10.3 9.45l-7.72 7.72c-.78.78-.78 2.05 0 2.83L4 21.41c.39.39.9.59 1.41.59.51 0 1.02-.2 1.41-.59l7.78-7.78 2.81-2.81c.8-.78.8-2.07 0-2.86zM5.41 20L4 18.59l7.72-7.72 1.47 1.35L5.41 20z\"/>\n",
              "  </svg>\n",
              "      </button>\n",
              "      \n",
              "  <style>\n",
              "    .colab-df-container {\n",
              "      display:flex;\n",
              "      flex-wrap:wrap;\n",
              "      gap: 12px;\n",
              "    }\n",
              "\n",
              "    .colab-df-convert {\n",
              "      background-color: #E8F0FE;\n",
              "      border: none;\n",
              "      border-radius: 50%;\n",
              "      cursor: pointer;\n",
              "      display: none;\n",
              "      fill: #1967D2;\n",
              "      height: 32px;\n",
              "      padding: 0 0 0 0;\n",
              "      width: 32px;\n",
              "    }\n",
              "\n",
              "    .colab-df-convert:hover {\n",
              "      background-color: #E2EBFA;\n",
              "      box-shadow: 0px 1px 2px rgba(60, 64, 67, 0.3), 0px 1px 3px 1px rgba(60, 64, 67, 0.15);\n",
              "      fill: #174EA6;\n",
              "    }\n",
              "\n",
              "    [theme=dark] .colab-df-convert {\n",
              "      background-color: #3B4455;\n",
              "      fill: #D2E3FC;\n",
              "    }\n",
              "\n",
              "    [theme=dark] .colab-df-convert:hover {\n",
              "      background-color: #434B5C;\n",
              "      box-shadow: 0px 1px 3px 1px rgba(0, 0, 0, 0.15);\n",
              "      filter: drop-shadow(0px 1px 2px rgba(0, 0, 0, 0.3));\n",
              "      fill: #FFFFFF;\n",
              "    }\n",
              "  </style>\n",
              "\n",
              "      <script>\n",
              "        const buttonEl =\n",
              "          document.querySelector('#df-4bf83206-f818-4baa-9adc-710a7ce2817c button.colab-df-convert');\n",
              "        buttonEl.style.display =\n",
              "          google.colab.kernel.accessAllowed ? 'block' : 'none';\n",
              "\n",
              "        async function convertToInteractive(key) {\n",
              "          const element = document.querySelector('#df-4bf83206-f818-4baa-9adc-710a7ce2817c');\n",
              "          const dataTable =\n",
              "            await google.colab.kernel.invokeFunction('convertToInteractive',\n",
              "                                                     [key], {});\n",
              "          if (!dataTable) return;\n",
              "\n",
              "          const docLinkHtml = 'Like what you see? Visit the ' +\n",
              "            '<a target=\"_blank\" href=https://colab.research.google.com/notebooks/data_table.ipynb>data table notebook</a>'\n",
              "            + ' to learn more about interactive tables.';\n",
              "          element.innerHTML = '';\n",
              "          dataTable['output_type'] = 'display_data';\n",
              "          await google.colab.output.renderOutput(dataTable, element);\n",
              "          const docLink = document.createElement('div');\n",
              "          docLink.innerHTML = docLinkHtml;\n",
              "          element.appendChild(docLink);\n",
              "        }\n",
              "      </script>\n",
              "    </div>\n",
              "  </div>\n",
              "  "
            ]
          },
          "metadata": {},
          "execution_count": 7
        }
      ]
    },
    {
      "cell_type": "code",
      "source": [
        "  sparcs.drop(['Hospital County'], axis = 1, inplace = True)\n",
        "  sparcs.head()"
      ],
      "metadata": {
        "colab": {
          "base_uri": "https://localhost:8080/",
          "height": 354
        },
        "id": "xP45qav9vhX4",
        "outputId": "6d297bff-2bed-4af3-e4e3-9b77fc0fb088"
      },
      "execution_count": null,
      "outputs": [
        {
          "output_type": "execute_result",
          "data": {
            "text/plain": [
              "  Health Service Area  Operating Certificate Number  Facility ID Age Group  \\\n",
              "0       New York City                     7002054.0       1458.0   0 to 17   \n",
              "1       New York City                     7002054.0       1458.0   0 to 17   \n",
              "2       New York City                     7002054.0       1464.0   0 to 17   \n",
              "3       Southern Tier                     5401001.0        977.0   0 to 17   \n",
              "4       New York City                     7000014.0       1176.0   0 to 17   \n",
              "\n",
              "  Length of Stay Type of Admission                   Patient Disposition  \\\n",
              "0              2           Newborn                     Home or Self Care   \n",
              "1              4         Emergency  Cancer Center or Children's Hospital   \n",
              "2              2           Newborn                     Home or Self Care   \n",
              "3              2           Newborn                     Home or Self Care   \n",
              "4              3         Emergency                     Home or Self Care   \n",
              "\n",
              "  CCS Procedure Description  APR Severity of Illness Code  \\\n",
              "0              CIRCUMCISION                             1   \n",
              "1    RESP INTUB/MECH VENTIL                             2   \n",
              "2    OPHTHALM-/OT-OLOGIC DX                             1   \n",
              "3   PROPHYLACTIC VAC/INOCUL                             2   \n",
              "4     DIAGNOSTIC SPINAL TAP                             2   \n",
              "\n",
              "  APR Risk of Mortality Source of Payment 1  \n",
              "0                 Minor   Insurance Company  \n",
              "1                 Major   Insurance Company  \n",
              "2                 Minor          Blue Cross  \n",
              "3                 Minor          Blue Cross  \n",
              "4                 Minor            Self-Pay  "
            ],
            "text/html": [
              "\n",
              "  <div id=\"df-f74d16e0-af5a-4671-b070-e28f4a93f270\">\n",
              "    <div class=\"colab-df-container\">\n",
              "      <div>\n",
              "<style scoped>\n",
              "    .dataframe tbody tr th:only-of-type {\n",
              "        vertical-align: middle;\n",
              "    }\n",
              "\n",
              "    .dataframe tbody tr th {\n",
              "        vertical-align: top;\n",
              "    }\n",
              "\n",
              "    .dataframe thead th {\n",
              "        text-align: right;\n",
              "    }\n",
              "</style>\n",
              "<table border=\"1\" class=\"dataframe\">\n",
              "  <thead>\n",
              "    <tr style=\"text-align: right;\">\n",
              "      <th></th>\n",
              "      <th>Health Service Area</th>\n",
              "      <th>Operating Certificate Number</th>\n",
              "      <th>Facility ID</th>\n",
              "      <th>Age Group</th>\n",
              "      <th>Length of Stay</th>\n",
              "      <th>Type of Admission</th>\n",
              "      <th>Patient Disposition</th>\n",
              "      <th>CCS Procedure Description</th>\n",
              "      <th>APR Severity of Illness Code</th>\n",
              "      <th>APR Risk of Mortality</th>\n",
              "      <th>Source of Payment 1</th>\n",
              "    </tr>\n",
              "  </thead>\n",
              "  <tbody>\n",
              "    <tr>\n",
              "      <th>0</th>\n",
              "      <td>New York City</td>\n",
              "      <td>7002054.0</td>\n",
              "      <td>1458.0</td>\n",
              "      <td>0 to 17</td>\n",
              "      <td>2</td>\n",
              "      <td>Newborn</td>\n",
              "      <td>Home or Self Care</td>\n",
              "      <td>CIRCUMCISION</td>\n",
              "      <td>1</td>\n",
              "      <td>Minor</td>\n",
              "      <td>Insurance Company</td>\n",
              "    </tr>\n",
              "    <tr>\n",
              "      <th>1</th>\n",
              "      <td>New York City</td>\n",
              "      <td>7002054.0</td>\n",
              "      <td>1458.0</td>\n",
              "      <td>0 to 17</td>\n",
              "      <td>4</td>\n",
              "      <td>Emergency</td>\n",
              "      <td>Cancer Center or Children's Hospital</td>\n",
              "      <td>RESP INTUB/MECH VENTIL</td>\n",
              "      <td>2</td>\n",
              "      <td>Major</td>\n",
              "      <td>Insurance Company</td>\n",
              "    </tr>\n",
              "    <tr>\n",
              "      <th>2</th>\n",
              "      <td>New York City</td>\n",
              "      <td>7002054.0</td>\n",
              "      <td>1464.0</td>\n",
              "      <td>0 to 17</td>\n",
              "      <td>2</td>\n",
              "      <td>Newborn</td>\n",
              "      <td>Home or Self Care</td>\n",
              "      <td>OPHTHALM-/OT-OLOGIC DX</td>\n",
              "      <td>1</td>\n",
              "      <td>Minor</td>\n",
              "      <td>Blue Cross</td>\n",
              "    </tr>\n",
              "    <tr>\n",
              "      <th>3</th>\n",
              "      <td>Southern Tier</td>\n",
              "      <td>5401001.0</td>\n",
              "      <td>977.0</td>\n",
              "      <td>0 to 17</td>\n",
              "      <td>2</td>\n",
              "      <td>Newborn</td>\n",
              "      <td>Home or Self Care</td>\n",
              "      <td>PROPHYLACTIC VAC/INOCUL</td>\n",
              "      <td>2</td>\n",
              "      <td>Minor</td>\n",
              "      <td>Blue Cross</td>\n",
              "    </tr>\n",
              "    <tr>\n",
              "      <th>4</th>\n",
              "      <td>New York City</td>\n",
              "      <td>7000014.0</td>\n",
              "      <td>1176.0</td>\n",
              "      <td>0 to 17</td>\n",
              "      <td>3</td>\n",
              "      <td>Emergency</td>\n",
              "      <td>Home or Self Care</td>\n",
              "      <td>DIAGNOSTIC SPINAL TAP</td>\n",
              "      <td>2</td>\n",
              "      <td>Minor</td>\n",
              "      <td>Self-Pay</td>\n",
              "    </tr>\n",
              "  </tbody>\n",
              "</table>\n",
              "</div>\n",
              "      <button class=\"colab-df-convert\" onclick=\"convertToInteractive('df-f74d16e0-af5a-4671-b070-e28f4a93f270')\"\n",
              "              title=\"Convert this dataframe to an interactive table.\"\n",
              "              style=\"display:none;\">\n",
              "        \n",
              "  <svg xmlns=\"http://www.w3.org/2000/svg\" height=\"24px\"viewBox=\"0 0 24 24\"\n",
              "       width=\"24px\">\n",
              "    <path d=\"M0 0h24v24H0V0z\" fill=\"none\"/>\n",
              "    <path d=\"M18.56 5.44l.94 2.06.94-2.06 2.06-.94-2.06-.94-.94-2.06-.94 2.06-2.06.94zm-11 1L8.5 8.5l.94-2.06 2.06-.94-2.06-.94L8.5 2.5l-.94 2.06-2.06.94zm10 10l.94 2.06.94-2.06 2.06-.94-2.06-.94-.94-2.06-.94 2.06-2.06.94z\"/><path d=\"M17.41 7.96l-1.37-1.37c-.4-.4-.92-.59-1.43-.59-.52 0-1.04.2-1.43.59L10.3 9.45l-7.72 7.72c-.78.78-.78 2.05 0 2.83L4 21.41c.39.39.9.59 1.41.59.51 0 1.02-.2 1.41-.59l7.78-7.78 2.81-2.81c.8-.78.8-2.07 0-2.86zM5.41 20L4 18.59l7.72-7.72 1.47 1.35L5.41 20z\"/>\n",
              "  </svg>\n",
              "      </button>\n",
              "      \n",
              "  <style>\n",
              "    .colab-df-container {\n",
              "      display:flex;\n",
              "      flex-wrap:wrap;\n",
              "      gap: 12px;\n",
              "    }\n",
              "\n",
              "    .colab-df-convert {\n",
              "      background-color: #E8F0FE;\n",
              "      border: none;\n",
              "      border-radius: 50%;\n",
              "      cursor: pointer;\n",
              "      display: none;\n",
              "      fill: #1967D2;\n",
              "      height: 32px;\n",
              "      padding: 0 0 0 0;\n",
              "      width: 32px;\n",
              "    }\n",
              "\n",
              "    .colab-df-convert:hover {\n",
              "      background-color: #E2EBFA;\n",
              "      box-shadow: 0px 1px 2px rgba(60, 64, 67, 0.3), 0px 1px 3px 1px rgba(60, 64, 67, 0.15);\n",
              "      fill: #174EA6;\n",
              "    }\n",
              "\n",
              "    [theme=dark] .colab-df-convert {\n",
              "      background-color: #3B4455;\n",
              "      fill: #D2E3FC;\n",
              "    }\n",
              "\n",
              "    [theme=dark] .colab-df-convert:hover {\n",
              "      background-color: #434B5C;\n",
              "      box-shadow: 0px 1px 3px 1px rgba(0, 0, 0, 0.15);\n",
              "      filter: drop-shadow(0px 1px 2px rgba(0, 0, 0, 0.3));\n",
              "      fill: #FFFFFF;\n",
              "    }\n",
              "  </style>\n",
              "\n",
              "      <script>\n",
              "        const buttonEl =\n",
              "          document.querySelector('#df-f74d16e0-af5a-4671-b070-e28f4a93f270 button.colab-df-convert');\n",
              "        buttonEl.style.display =\n",
              "          google.colab.kernel.accessAllowed ? 'block' : 'none';\n",
              "\n",
              "        async function convertToInteractive(key) {\n",
              "          const element = document.querySelector('#df-f74d16e0-af5a-4671-b070-e28f4a93f270');\n",
              "          const dataTable =\n",
              "            await google.colab.kernel.invokeFunction('convertToInteractive',\n",
              "                                                     [key], {});\n",
              "          if (!dataTable) return;\n",
              "\n",
              "          const docLinkHtml = 'Like what you see? Visit the ' +\n",
              "            '<a target=\"_blank\" href=https://colab.research.google.com/notebooks/data_table.ipynb>data table notebook</a>'\n",
              "            + ' to learn more about interactive tables.';\n",
              "          element.innerHTML = '';\n",
              "          dataTable['output_type'] = 'display_data';\n",
              "          await google.colab.output.renderOutput(dataTable, element);\n",
              "          const docLink = document.createElement('div');\n",
              "          docLink.innerHTML = docLinkHtml;\n",
              "          element.appendChild(docLink);\n",
              "        }\n",
              "      </script>\n",
              "    </div>\n",
              "  </div>\n",
              "  "
            ]
          },
          "metadata": {},
          "execution_count": 8
        }
      ]
    },
    {
      "cell_type": "code",
      "source": [
        "sparcs.drop(['Operating Certificate Number'], axis = 1, inplace = True)\n",
        "sparcs.head()"
      ],
      "metadata": {
        "colab": {
          "base_uri": "https://localhost:8080/",
          "height": 337
        },
        "id": "PuX1Sg08qaJm",
        "outputId": "ca762116-5eb8-4faf-ad0a-b0c9aa868166"
      },
      "execution_count": null,
      "outputs": [
        {
          "output_type": "execute_result",
          "data": {
            "text/plain": [
              "  Health Service Area  Facility ID Age Group Length of Stay Type of Admission  \\\n",
              "0       New York City       1458.0   0 to 17              2           Newborn   \n",
              "1       New York City       1458.0   0 to 17              4         Emergency   \n",
              "2       New York City       1464.0   0 to 17              2           Newborn   \n",
              "3       Southern Tier        977.0   0 to 17              2           Newborn   \n",
              "4       New York City       1176.0   0 to 17              3         Emergency   \n",
              "\n",
              "                    Patient Disposition CCS Procedure Description  \\\n",
              "0                     Home or Self Care              CIRCUMCISION   \n",
              "1  Cancer Center or Children's Hospital    RESP INTUB/MECH VENTIL   \n",
              "2                     Home or Self Care    OPHTHALM-/OT-OLOGIC DX   \n",
              "3                     Home or Self Care   PROPHYLACTIC VAC/INOCUL   \n",
              "4                     Home or Self Care     DIAGNOSTIC SPINAL TAP   \n",
              "\n",
              "   APR Severity of Illness Code APR Risk of Mortality Source of Payment 1  \n",
              "0                             1                 Minor   Insurance Company  \n",
              "1                             2                 Major   Insurance Company  \n",
              "2                             1                 Minor          Blue Cross  \n",
              "3                             2                 Minor          Blue Cross  \n",
              "4                             2                 Minor            Self-Pay  "
            ],
            "text/html": [
              "\n",
              "  <div id=\"df-f0baad3b-ab30-4f5b-ae80-e3bb7f1f3414\">\n",
              "    <div class=\"colab-df-container\">\n",
              "      <div>\n",
              "<style scoped>\n",
              "    .dataframe tbody tr th:only-of-type {\n",
              "        vertical-align: middle;\n",
              "    }\n",
              "\n",
              "    .dataframe tbody tr th {\n",
              "        vertical-align: top;\n",
              "    }\n",
              "\n",
              "    .dataframe thead th {\n",
              "        text-align: right;\n",
              "    }\n",
              "</style>\n",
              "<table border=\"1\" class=\"dataframe\">\n",
              "  <thead>\n",
              "    <tr style=\"text-align: right;\">\n",
              "      <th></th>\n",
              "      <th>Health Service Area</th>\n",
              "      <th>Facility ID</th>\n",
              "      <th>Age Group</th>\n",
              "      <th>Length of Stay</th>\n",
              "      <th>Type of Admission</th>\n",
              "      <th>Patient Disposition</th>\n",
              "      <th>CCS Procedure Description</th>\n",
              "      <th>APR Severity of Illness Code</th>\n",
              "      <th>APR Risk of Mortality</th>\n",
              "      <th>Source of Payment 1</th>\n",
              "    </tr>\n",
              "  </thead>\n",
              "  <tbody>\n",
              "    <tr>\n",
              "      <th>0</th>\n",
              "      <td>New York City</td>\n",
              "      <td>1458.0</td>\n",
              "      <td>0 to 17</td>\n",
              "      <td>2</td>\n",
              "      <td>Newborn</td>\n",
              "      <td>Home or Self Care</td>\n",
              "      <td>CIRCUMCISION</td>\n",
              "      <td>1</td>\n",
              "      <td>Minor</td>\n",
              "      <td>Insurance Company</td>\n",
              "    </tr>\n",
              "    <tr>\n",
              "      <th>1</th>\n",
              "      <td>New York City</td>\n",
              "      <td>1458.0</td>\n",
              "      <td>0 to 17</td>\n",
              "      <td>4</td>\n",
              "      <td>Emergency</td>\n",
              "      <td>Cancer Center or Children's Hospital</td>\n",
              "      <td>RESP INTUB/MECH VENTIL</td>\n",
              "      <td>2</td>\n",
              "      <td>Major</td>\n",
              "      <td>Insurance Company</td>\n",
              "    </tr>\n",
              "    <tr>\n",
              "      <th>2</th>\n",
              "      <td>New York City</td>\n",
              "      <td>1464.0</td>\n",
              "      <td>0 to 17</td>\n",
              "      <td>2</td>\n",
              "      <td>Newborn</td>\n",
              "      <td>Home or Self Care</td>\n",
              "      <td>OPHTHALM-/OT-OLOGIC DX</td>\n",
              "      <td>1</td>\n",
              "      <td>Minor</td>\n",
              "      <td>Blue Cross</td>\n",
              "    </tr>\n",
              "    <tr>\n",
              "      <th>3</th>\n",
              "      <td>Southern Tier</td>\n",
              "      <td>977.0</td>\n",
              "      <td>0 to 17</td>\n",
              "      <td>2</td>\n",
              "      <td>Newborn</td>\n",
              "      <td>Home or Self Care</td>\n",
              "      <td>PROPHYLACTIC VAC/INOCUL</td>\n",
              "      <td>2</td>\n",
              "      <td>Minor</td>\n",
              "      <td>Blue Cross</td>\n",
              "    </tr>\n",
              "    <tr>\n",
              "      <th>4</th>\n",
              "      <td>New York City</td>\n",
              "      <td>1176.0</td>\n",
              "      <td>0 to 17</td>\n",
              "      <td>3</td>\n",
              "      <td>Emergency</td>\n",
              "      <td>Home or Self Care</td>\n",
              "      <td>DIAGNOSTIC SPINAL TAP</td>\n",
              "      <td>2</td>\n",
              "      <td>Minor</td>\n",
              "      <td>Self-Pay</td>\n",
              "    </tr>\n",
              "  </tbody>\n",
              "</table>\n",
              "</div>\n",
              "      <button class=\"colab-df-convert\" onclick=\"convertToInteractive('df-f0baad3b-ab30-4f5b-ae80-e3bb7f1f3414')\"\n",
              "              title=\"Convert this dataframe to an interactive table.\"\n",
              "              style=\"display:none;\">\n",
              "        \n",
              "  <svg xmlns=\"http://www.w3.org/2000/svg\" height=\"24px\"viewBox=\"0 0 24 24\"\n",
              "       width=\"24px\">\n",
              "    <path d=\"M0 0h24v24H0V0z\" fill=\"none\"/>\n",
              "    <path d=\"M18.56 5.44l.94 2.06.94-2.06 2.06-.94-2.06-.94-.94-2.06-.94 2.06-2.06.94zm-11 1L8.5 8.5l.94-2.06 2.06-.94-2.06-.94L8.5 2.5l-.94 2.06-2.06.94zm10 10l.94 2.06.94-2.06 2.06-.94-2.06-.94-.94-2.06-.94 2.06-2.06.94z\"/><path d=\"M17.41 7.96l-1.37-1.37c-.4-.4-.92-.59-1.43-.59-.52 0-1.04.2-1.43.59L10.3 9.45l-7.72 7.72c-.78.78-.78 2.05 0 2.83L4 21.41c.39.39.9.59 1.41.59.51 0 1.02-.2 1.41-.59l7.78-7.78 2.81-2.81c.8-.78.8-2.07 0-2.86zM5.41 20L4 18.59l7.72-7.72 1.47 1.35L5.41 20z\"/>\n",
              "  </svg>\n",
              "      </button>\n",
              "      \n",
              "  <style>\n",
              "    .colab-df-container {\n",
              "      display:flex;\n",
              "      flex-wrap:wrap;\n",
              "      gap: 12px;\n",
              "    }\n",
              "\n",
              "    .colab-df-convert {\n",
              "      background-color: #E8F0FE;\n",
              "      border: none;\n",
              "      border-radius: 50%;\n",
              "      cursor: pointer;\n",
              "      display: none;\n",
              "      fill: #1967D2;\n",
              "      height: 32px;\n",
              "      padding: 0 0 0 0;\n",
              "      width: 32px;\n",
              "    }\n",
              "\n",
              "    .colab-df-convert:hover {\n",
              "      background-color: #E2EBFA;\n",
              "      box-shadow: 0px 1px 2px rgba(60, 64, 67, 0.3), 0px 1px 3px 1px rgba(60, 64, 67, 0.15);\n",
              "      fill: #174EA6;\n",
              "    }\n",
              "\n",
              "    [theme=dark] .colab-df-convert {\n",
              "      background-color: #3B4455;\n",
              "      fill: #D2E3FC;\n",
              "    }\n",
              "\n",
              "    [theme=dark] .colab-df-convert:hover {\n",
              "      background-color: #434B5C;\n",
              "      box-shadow: 0px 1px 3px 1px rgba(0, 0, 0, 0.15);\n",
              "      filter: drop-shadow(0px 1px 2px rgba(0, 0, 0, 0.3));\n",
              "      fill: #FFFFFF;\n",
              "    }\n",
              "  </style>\n",
              "\n",
              "      <script>\n",
              "        const buttonEl =\n",
              "          document.querySelector('#df-f0baad3b-ab30-4f5b-ae80-e3bb7f1f3414 button.colab-df-convert');\n",
              "        buttonEl.style.display =\n",
              "          google.colab.kernel.accessAllowed ? 'block' : 'none';\n",
              "\n",
              "        async function convertToInteractive(key) {\n",
              "          const element = document.querySelector('#df-f0baad3b-ab30-4f5b-ae80-e3bb7f1f3414');\n",
              "          const dataTable =\n",
              "            await google.colab.kernel.invokeFunction('convertToInteractive',\n",
              "                                                     [key], {});\n",
              "          if (!dataTable) return;\n",
              "\n",
              "          const docLinkHtml = 'Like what you see? Visit the ' +\n",
              "            '<a target=\"_blank\" href=https://colab.research.google.com/notebooks/data_table.ipynb>data table notebook</a>'\n",
              "            + ' to learn more about interactive tables.';\n",
              "          element.innerHTML = '';\n",
              "          dataTable['output_type'] = 'display_data';\n",
              "          await google.colab.output.renderOutput(dataTable, element);\n",
              "          const docLink = document.createElement('div');\n",
              "          docLink.innerHTML = docLinkHtml;\n",
              "          element.appendChild(docLink);\n",
              "        }\n",
              "      </script>\n",
              "    </div>\n",
              "  </div>\n",
              "  "
            ]
          },
          "metadata": {},
          "execution_count": 9
        }
      ]
    },
    {
      "cell_type": "code",
      "source": [
        "sparcs.tail()"
      ],
      "metadata": {
        "colab": {
          "base_uri": "https://localhost:8080/",
          "height": 354
        },
        "id": "xH_xBmoKlbnv",
        "outputId": "4981142d-256b-478a-ea55-b914d3982666"
      },
      "execution_count": null,
      "outputs": [
        {
          "output_type": "execute_result",
          "data": {
            "text/plain": [
              "      Health Service Area  Facility ID Age Group Length of Stay  \\\n",
              "19994       New York City       1456.0   0 to 17              4   \n",
              "19995       New York City       1456.0   0 to 17              2   \n",
              "19996       New York City       1456.0   0 to 17              2   \n",
              "19997       New York City       1456.0   0 to 17              2   \n",
              "19998       New York City       1456.0   0 to 17              1   \n",
              "\n",
              "      Type of Admission Patient Disposition CCS Procedure Description  \\\n",
              "19994           Newborn   Home or Self Care    OPHTHALM-/OT-OLOGIC DX   \n",
              "19995           Newborn   Home or Self Care    OTHER THERAPEUTIC PRCS   \n",
              "19996           Newborn   Home or Self Care    OPHTHALM-/OT-OLOGIC DX   \n",
              "19997           Newborn   Home or Self Care    OPHTHALM-/OT-OLOGIC DX   \n",
              "19998           Newborn   Home or Self Care    OPHTHALM-/OT-OLOGIC DX   \n",
              "\n",
              "       APR Severity of Illness Code APR Risk of Mortality Source of Payment 1  \n",
              "19994                             1                 Minor   Insurance Company  \n",
              "19995                             1                 Minor          Blue Cross  \n",
              "19996                             1                 Minor   Insurance Company  \n",
              "19997                             1                 Minor   Insurance Company  \n",
              "19998                             1                 Minor   Insurance Company  "
            ],
            "text/html": [
              "\n",
              "  <div id=\"df-cc5736e2-d75c-45eb-953e-6916ef7992b3\">\n",
              "    <div class=\"colab-df-container\">\n",
              "      <div>\n",
              "<style scoped>\n",
              "    .dataframe tbody tr th:only-of-type {\n",
              "        vertical-align: middle;\n",
              "    }\n",
              "\n",
              "    .dataframe tbody tr th {\n",
              "        vertical-align: top;\n",
              "    }\n",
              "\n",
              "    .dataframe thead th {\n",
              "        text-align: right;\n",
              "    }\n",
              "</style>\n",
              "<table border=\"1\" class=\"dataframe\">\n",
              "  <thead>\n",
              "    <tr style=\"text-align: right;\">\n",
              "      <th></th>\n",
              "      <th>Health Service Area</th>\n",
              "      <th>Facility ID</th>\n",
              "      <th>Age Group</th>\n",
              "      <th>Length of Stay</th>\n",
              "      <th>Type of Admission</th>\n",
              "      <th>Patient Disposition</th>\n",
              "      <th>CCS Procedure Description</th>\n",
              "      <th>APR Severity of Illness Code</th>\n",
              "      <th>APR Risk of Mortality</th>\n",
              "      <th>Source of Payment 1</th>\n",
              "    </tr>\n",
              "  </thead>\n",
              "  <tbody>\n",
              "    <tr>\n",
              "      <th>19994</th>\n",
              "      <td>New York City</td>\n",
              "      <td>1456.0</td>\n",
              "      <td>0 to 17</td>\n",
              "      <td>4</td>\n",
              "      <td>Newborn</td>\n",
              "      <td>Home or Self Care</td>\n",
              "      <td>OPHTHALM-/OT-OLOGIC DX</td>\n",
              "      <td>1</td>\n",
              "      <td>Minor</td>\n",
              "      <td>Insurance Company</td>\n",
              "    </tr>\n",
              "    <tr>\n",
              "      <th>19995</th>\n",
              "      <td>New York City</td>\n",
              "      <td>1456.0</td>\n",
              "      <td>0 to 17</td>\n",
              "      <td>2</td>\n",
              "      <td>Newborn</td>\n",
              "      <td>Home or Self Care</td>\n",
              "      <td>OTHER THERAPEUTIC PRCS</td>\n",
              "      <td>1</td>\n",
              "      <td>Minor</td>\n",
              "      <td>Blue Cross</td>\n",
              "    </tr>\n",
              "    <tr>\n",
              "      <th>19996</th>\n",
              "      <td>New York City</td>\n",
              "      <td>1456.0</td>\n",
              "      <td>0 to 17</td>\n",
              "      <td>2</td>\n",
              "      <td>Newborn</td>\n",
              "      <td>Home or Self Care</td>\n",
              "      <td>OPHTHALM-/OT-OLOGIC DX</td>\n",
              "      <td>1</td>\n",
              "      <td>Minor</td>\n",
              "      <td>Insurance Company</td>\n",
              "    </tr>\n",
              "    <tr>\n",
              "      <th>19997</th>\n",
              "      <td>New York City</td>\n",
              "      <td>1456.0</td>\n",
              "      <td>0 to 17</td>\n",
              "      <td>2</td>\n",
              "      <td>Newborn</td>\n",
              "      <td>Home or Self Care</td>\n",
              "      <td>OPHTHALM-/OT-OLOGIC DX</td>\n",
              "      <td>1</td>\n",
              "      <td>Minor</td>\n",
              "      <td>Insurance Company</td>\n",
              "    </tr>\n",
              "    <tr>\n",
              "      <th>19998</th>\n",
              "      <td>New York City</td>\n",
              "      <td>1456.0</td>\n",
              "      <td>0 to 17</td>\n",
              "      <td>1</td>\n",
              "      <td>Newborn</td>\n",
              "      <td>Home or Self Care</td>\n",
              "      <td>OPHTHALM-/OT-OLOGIC DX</td>\n",
              "      <td>1</td>\n",
              "      <td>Minor</td>\n",
              "      <td>Insurance Company</td>\n",
              "    </tr>\n",
              "  </tbody>\n",
              "</table>\n",
              "</div>\n",
              "      <button class=\"colab-df-convert\" onclick=\"convertToInteractive('df-cc5736e2-d75c-45eb-953e-6916ef7992b3')\"\n",
              "              title=\"Convert this dataframe to an interactive table.\"\n",
              "              style=\"display:none;\">\n",
              "        \n",
              "  <svg xmlns=\"http://www.w3.org/2000/svg\" height=\"24px\"viewBox=\"0 0 24 24\"\n",
              "       width=\"24px\">\n",
              "    <path d=\"M0 0h24v24H0V0z\" fill=\"none\"/>\n",
              "    <path d=\"M18.56 5.44l.94 2.06.94-2.06 2.06-.94-2.06-.94-.94-2.06-.94 2.06-2.06.94zm-11 1L8.5 8.5l.94-2.06 2.06-.94-2.06-.94L8.5 2.5l-.94 2.06-2.06.94zm10 10l.94 2.06.94-2.06 2.06-.94-2.06-.94-.94-2.06-.94 2.06-2.06.94z\"/><path d=\"M17.41 7.96l-1.37-1.37c-.4-.4-.92-.59-1.43-.59-.52 0-1.04.2-1.43.59L10.3 9.45l-7.72 7.72c-.78.78-.78 2.05 0 2.83L4 21.41c.39.39.9.59 1.41.59.51 0 1.02-.2 1.41-.59l7.78-7.78 2.81-2.81c.8-.78.8-2.07 0-2.86zM5.41 20L4 18.59l7.72-7.72 1.47 1.35L5.41 20z\"/>\n",
              "  </svg>\n",
              "      </button>\n",
              "      \n",
              "  <style>\n",
              "    .colab-df-container {\n",
              "      display:flex;\n",
              "      flex-wrap:wrap;\n",
              "      gap: 12px;\n",
              "    }\n",
              "\n",
              "    .colab-df-convert {\n",
              "      background-color: #E8F0FE;\n",
              "      border: none;\n",
              "      border-radius: 50%;\n",
              "      cursor: pointer;\n",
              "      display: none;\n",
              "      fill: #1967D2;\n",
              "      height: 32px;\n",
              "      padding: 0 0 0 0;\n",
              "      width: 32px;\n",
              "    }\n",
              "\n",
              "    .colab-df-convert:hover {\n",
              "      background-color: #E2EBFA;\n",
              "      box-shadow: 0px 1px 2px rgba(60, 64, 67, 0.3), 0px 1px 3px 1px rgba(60, 64, 67, 0.15);\n",
              "      fill: #174EA6;\n",
              "    }\n",
              "\n",
              "    [theme=dark] .colab-df-convert {\n",
              "      background-color: #3B4455;\n",
              "      fill: #D2E3FC;\n",
              "    }\n",
              "\n",
              "    [theme=dark] .colab-df-convert:hover {\n",
              "      background-color: #434B5C;\n",
              "      box-shadow: 0px 1px 3px 1px rgba(0, 0, 0, 0.15);\n",
              "      filter: drop-shadow(0px 1px 2px rgba(0, 0, 0, 0.3));\n",
              "      fill: #FFFFFF;\n",
              "    }\n",
              "  </style>\n",
              "\n",
              "      <script>\n",
              "        const buttonEl =\n",
              "          document.querySelector('#df-cc5736e2-d75c-45eb-953e-6916ef7992b3 button.colab-df-convert');\n",
              "        buttonEl.style.display =\n",
              "          google.colab.kernel.accessAllowed ? 'block' : 'none';\n",
              "\n",
              "        async function convertToInteractive(key) {\n",
              "          const element = document.querySelector('#df-cc5736e2-d75c-45eb-953e-6916ef7992b3');\n",
              "          const dataTable =\n",
              "            await google.colab.kernel.invokeFunction('convertToInteractive',\n",
              "                                                     [key], {});\n",
              "          if (!dataTable) return;\n",
              "\n",
              "          const docLinkHtml = 'Like what you see? Visit the ' +\n",
              "            '<a target=\"_blank\" href=https://colab.research.google.com/notebooks/data_table.ipynb>data table notebook</a>'\n",
              "            + ' to learn more about interactive tables.';\n",
              "          element.innerHTML = '';\n",
              "          dataTable['output_type'] = 'display_data';\n",
              "          await google.colab.output.renderOutput(dataTable, element);\n",
              "          const docLink = document.createElement('div');\n",
              "          docLink.innerHTML = docLinkHtml;\n",
              "          element.appendChild(docLink);\n",
              "        }\n",
              "      </script>\n",
              "    </div>\n",
              "  </div>\n",
              "  "
            ]
          },
          "metadata": {},
          "execution_count": 10
        }
      ]
    },
    {
      "cell_type": "code",
      "metadata": {
        "id": "ssa6wRav3Am6",
        "colab": {
          "base_uri": "https://localhost:8080/"
        },
        "outputId": "a838edf1-8c49-458d-a6a8-9733c00b2c86"
      },
      "source": [
        "print(\"dimension of sparcs data: {}\".format(sparcs.shape))"
      ],
      "execution_count": null,
      "outputs": [
        {
          "output_type": "stream",
          "name": "stdout",
          "text": [
            "dimension of sparcs data: (19999, 10)\n"
          ]
        }
      ]
    },
    {
      "cell_type": "code",
      "source": [
        "sparcs.isnull().sum()"
      ],
      "metadata": {
        "colab": {
          "base_uri": "https://localhost:8080/"
        },
        "id": "CD5oc-A7lbjz",
        "outputId": "c2561f90-b74b-4dc7-ee6d-3886854e96a6"
      },
      "execution_count": null,
      "outputs": [
        {
          "output_type": "execute_result",
          "data": {
            "text/plain": [
              "Health Service Area             5\n",
              "Facility ID                     5\n",
              "Age Group                       0\n",
              "Length of Stay                  0\n",
              "Type of Admission               0\n",
              "Patient Disposition             4\n",
              "CCS Procedure Description       0\n",
              "APR Severity of Illness Code    0\n",
              "APR Risk of Mortality           3\n",
              "Source of Payment 1             0\n",
              "dtype: int64"
            ]
          },
          "metadata": {},
          "execution_count": 12
        }
      ]
    },
    {
      "cell_type": "code",
      "source": [
        "sparcs = sparcs.dropna(subset=['Health Service Area', 'APR Risk of Mortality','Facility ID','Patient Disposition'])"
      ],
      "metadata": {
        "id": "vya_6DkgzH8l"
      },
      "execution_count": null,
      "outputs": []
    },
    {
      "cell_type": "code",
      "source": [
        "print(sparcs.groupby('APR Severity of Illness Code').size())"
      ],
      "metadata": {
        "colab": {
          "base_uri": "https://localhost:8080/"
        },
        "id": "icFmuga0tdvp",
        "outputId": "b5457ccf-4476-438e-dc7a-4f7496c0f256"
      },
      "execution_count": null,
      "outputs": [
        {
          "output_type": "stream",
          "name": "stdout",
          "text": [
            "APR Severity of Illness Code\n",
            "1    14192\n",
            "2     4206\n",
            "3     1327\n",
            "4      262\n",
            "dtype: int64\n"
          ]
        }
      ]
    },
    {
      "cell_type": "code",
      "source": [
        "import seaborn as sns\n",
        "\n",
        "sns.countplot(sparcs['APR Severity of Illness Code'],label=\"Count\")"
      ],
      "metadata": {
        "colab": {
          "base_uri": "https://localhost:8080/",
          "height": 351
        },
        "id": "G5t3VuVstdsu",
        "outputId": "61e4743b-bda6-4066-f05f-b2b84645f079"
      },
      "execution_count": null,
      "outputs": [
        {
          "output_type": "stream",
          "name": "stderr",
          "text": [
            "/usr/local/lib/python3.7/dist-packages/seaborn/_decorators.py:43: FutureWarning: Pass the following variable as a keyword arg: x. From version 0.12, the only valid positional argument will be `data`, and passing other arguments without an explicit keyword will result in an error or misinterpretation.\n",
            "  FutureWarning\n"
          ]
        },
        {
          "output_type": "execute_result",
          "data": {
            "text/plain": [
              "<matplotlib.axes._subplots.AxesSubplot at 0x7f34f55962d0>"
            ]
          },
          "metadata": {},
          "execution_count": 15
        },
        {
          "output_type": "display_data",
          "data": {
            "text/plain": [
              "<Figure size 432x288 with 1 Axes>"
            ],
            "image/png": "[encoded data removed]"
          },
          "metadata": {
            "needs_background": "light"
          }
        }
      ]
    },
    {
      "cell_type": "code",
      "source": [
        "sparcs.info()"
      ],
      "metadata": {
        "colab": {
          "base_uri": "https://localhost:8080/"
        },
        "id": "0hYR-3x4tdqE",
        "outputId": "57180fce-c94d-485f-b016-7e52438887bb"
      },
      "execution_count": null,
      "outputs": [
        {
          "output_type": "stream",
          "name": "stdout",
          "text": [
            "<class 'pandas.core.frame.DataFrame'>\n",
            "Int64Index: 19987 entries, 0 to 19998\n",
            "Data columns (total 10 columns):\n",
            " #   Column                        Non-Null Count  Dtype  \n",
            "---  ------                        --------------  -----  \n",
            " 0   Health Service Area           19987 non-null  object \n",
            " 1   Facility ID                   19987 non-null  float64\n",
            " 2   Age Group                     19987 non-null  object \n",
            " 3   Length of Stay                19987 non-null  object \n",
            " 4   Type of Admission             19987 non-null  object \n",
            " 5   Patient Disposition           19987 non-null  object \n",
            " 6   CCS Procedure Description     19987 non-null  object \n",
            " 7   APR Severity of Illness Code  19987 non-null  int64  \n",
            " 8   APR Risk of Mortality         19987 non-null  object \n",
            " 9   Source of Payment 1           19987 non-null  object \n",
            "dtypes: float64(1), int64(1), object(8)\n",
            "memory usage: 2.2+ MB\n"
          ]
        }
      ]
    },
    {
      "cell_type": "code",
      "source": [
        "sparcs.apply(lambda cols : cols.unique() )"
      ],
      "metadata": {
        "colab": {
          "base_uri": "https://localhost:8080/"
        },
        "id": "rprpId7bepPO",
        "outputId": "93cc61ee-d8d6-4cb6-d23b-91681232a7b0"
      },
      "execution_count": null,
      "outputs": [
        {
          "output_type": "execute_result",
          "data": {
            "text/plain": [
              "Health Service Area             [New York City, Southern Tier, Hudson Valley, ...\n",
              "Facility ID                     [1458.0, 1464.0, 977.0, 1176.0, 1302.0, 1306.0...\n",
              "Age Group                       [0 to 17, 18 to 29, 30 to 49, 70 or Older, 50 ...\n",
              "Length of Stay                  [2, 4, 3, 15, 1, 35, 5, 8, 6, 16, 7, 23, 11, 2...\n",
              "Type of Admission               [Newborn, Emergency, Elective, Urgent, Not Ava...\n",
              "Patient Disposition             [Home or Self Care, Cancer Center or Children'...\n",
              "CCS Procedure Description       [CIRCUMCISION, RESP INTUB/MECH VENTIL, OPHTHAL...\n",
              "APR Severity of Illness Code                                         [1, 2, 3, 4]\n",
              "APR Risk of Mortality                           [Minor, Major, Moderate, Extreme]\n",
              "Source of Payment 1             [Insurance Company, Blue Cross, Self-Pay, Medi...\n",
              "dtype: object"
            ]
          },
          "metadata": {},
          "execution_count": 17
        }
      ]
    },
    {
      "cell_type": "code",
      "source": [
        "sparcs[sparcs['Health Service Area']=='nan']"
      ],
      "metadata": {
        "colab": {
          "base_uri": "https://localhost:8080/",
          "height": 111
        },
        "id": "fpPV0lacfcHP",
        "outputId": "a8146b6a-8854-43ae-8454-16c2b3127d15"
      },
      "execution_count": null,
      "outputs": [
        {
          "output_type": "execute_result",
          "data": {
            "text/plain": [
              "Empty DataFrame\n",
              "Columns: [Health Service Area, Facility ID, Age Group, Length of Stay, Type of Admission, Patient Disposition, CCS Procedure Description, APR Severity of Illness Code, APR Risk of Mortality, Source of Payment 1]\n",
              "Index: []"
            ],
            "text/html": [
              "\n",
              "  <div id=\"df-29fc525e-fd68-4eaf-a13f-1dc117fc962d\">\n",
              "    <div class=\"colab-df-container\">\n",
              "      <div>\n",
              "<style scoped>\n",
              "    .dataframe tbody tr th:only-of-type {\n",
              "        vertical-align: middle;\n",
              "    }\n",
              "\n",
              "    .dataframe tbody tr th {\n",
              "        vertical-align: top;\n",
              "    }\n",
              "\n",
              "    .dataframe thead th {\n",
              "        text-align: right;\n",
              "    }\n",
              "</style>\n",
              "<table border=\"1\" class=\"dataframe\">\n",
              "  <thead>\n",
              "    <tr style=\"text-align: right;\">\n",
              "      <th></th>\n",
              "      <th>Health Service Area</th>\n",
              "      <th>Facility ID</th>\n",
              "      <th>Age Group</th>\n",
              "      <th>Length of Stay</th>\n",
              "      <th>Type of Admission</th>\n",
              "      <th>Patient Disposition</th>\n",
              "      <th>CCS Procedure Description</th>\n",
              "      <th>APR Severity of Illness Code</th>\n",
              "      <th>APR Risk of Mortality</th>\n",
              "      <th>Source of Payment 1</th>\n",
              "    </tr>\n",
              "  </thead>\n",
              "  <tbody>\n",
              "  </tbody>\n",
              "</table>\n",
              "</div>\n",
              "      <button class=\"colab-df-convert\" onclick=\"convertToInteractive('df-29fc525e-fd68-4eaf-a13f-1dc117fc962d')\"\n",
              "              title=\"Convert this dataframe to an interactive table.\"\n",
              "              style=\"display:none;\">\n",
              "        \n",
              "  <svg xmlns=\"http://www.w3.org/2000/svg\" height=\"24px\"viewBox=\"0 0 24 24\"\n",
              "       width=\"24px\">\n",
              "    <path d=\"M0 0h24v24H0V0z\" fill=\"none\"/>\n",
              "    <path d=\"M18.56 5.44l.94 2.06.94-2.06 2.06-.94-2.06-.94-.94-2.06-.94 2.06-2.06.94zm-11 1L8.5 8.5l.94-2.06 2.06-.94-2.06-.94L8.5 2.5l-.94 2.06-2.06.94zm10 10l.94 2.06.94-2.06 2.06-.94-2.06-.94-.94-2.06-.94 2.06-2.06.94z\"/><path d=\"M17.41 7.96l-1.37-1.37c-.4-.4-.92-.59-1.43-.59-.52 0-1.04.2-1.43.59L10.3 9.45l-7.72 7.72c-.78.78-.78 2.05 0 2.83L4 21.41c.39.39.9.59 1.41.59.51 0 1.02-.2 1.41-.59l7.78-7.78 2.81-2.81c.8-.78.8-2.07 0-2.86zM5.41 20L4 18.59l7.72-7.72 1.47 1.35L5.41 20z\"/>\n",
              "  </svg>\n",
              "      </button>\n",
              "      \n",
              "  <style>\n",
              "    .colab-df-container {\n",
              "      display:flex;\n",
              "      flex-wrap:wrap;\n",
              "      gap: 12px;\n",
              "    }\n",
              "\n",
              "    .colab-df-convert {\n",
              "      background-color: #E8F0FE;\n",
              "      border: none;\n",
              "      border-radius: 50%;\n",
              "      cursor: pointer;\n",
              "      display: none;\n",
              "      fill: #1967D2;\n",
              "      height: 32px;\n",
              "      padding: 0 0 0 0;\n",
              "      width: 32px;\n",
              "    }\n",
              "\n",
              "    .colab-df-convert:hover {\n",
              "      background-color: #E2EBFA;\n",
              "      box-shadow: 0px 1px 2px rgba(60, 64, 67, 0.3), 0px 1px 3px 1px rgba(60, 64, 67, 0.15);\n",
              "      fill: #174EA6;\n",
              "    }\n",
              "\n",
              "    [theme=dark] .colab-df-convert {\n",
              "      background-color: #3B4455;\n",
              "      fill: #D2E3FC;\n",
              "    }\n",
              "\n",
              "    [theme=dark] .colab-df-convert:hover {\n",
              "      background-color: #434B5C;\n",
              "      box-shadow: 0px 1px 3px 1px rgba(0, 0, 0, 0.15);\n",
              "      filter: drop-shadow(0px 1px 2px rgba(0, 0, 0, 0.3));\n",
              "      fill: #FFFFFF;\n",
              "    }\n",
              "  </style>\n",
              "\n",
              "      <script>\n",
              "        const buttonEl =\n",
              "          document.querySelector('#df-29fc525e-fd68-4eaf-a13f-1dc117fc962d button.colab-df-convert');\n",
              "        buttonEl.style.display =\n",
              "          google.colab.kernel.accessAllowed ? 'block' : 'none';\n",
              "\n",
              "        async function convertToInteractive(key) {\n",
              "          const element = document.querySelector('#df-29fc525e-fd68-4eaf-a13f-1dc117fc962d');\n",
              "          const dataTable =\n",
              "            await google.colab.kernel.invokeFunction('convertToInteractive',\n",
              "                                                     [key], {});\n",
              "          if (!dataTable) return;\n",
              "\n",
              "          const docLinkHtml = 'Like what you see? Visit the ' +\n",
              "            '<a target=\"_blank\" href=https://colab.research.google.com/notebooks/data_table.ipynb>data table notebook</a>'\n",
              "            + ' to learn more about interactive tables.';\n",
              "          element.innerHTML = '';\n",
              "          dataTable['output_type'] = 'display_data';\n",
              "          await google.colab.output.renderOutput(dataTable, element);\n",
              "          const docLink = document.createElement('div');\n",
              "          docLink.innerHTML = docLinkHtml;\n",
              "          element.appendChild(docLink);\n",
              "        }\n",
              "      </script>\n",
              "    </div>\n",
              "  </div>\n",
              "  "
            ]
          },
          "metadata": {},
          "execution_count": 18
        }
      ]
    },
    {
      "cell_type": "code",
      "source": [
        "from sklearn.preprocessing import LabelEncoder\n",
        "le= LabelEncoder()\n",
        "sparcs[\"Type of Admission\"]=le.fit_transform(sparcs[\"Type of Admission\"])"
      ],
      "metadata": {
        "id": "fYk53Rbs0Oae"
      },
      "execution_count": null,
      "outputs": []
    },
    {
      "cell_type": "code",
      "source": [
        "(sparcs[\"Type of Admission\"])"
      ],
      "metadata": {
        "colab": {
          "base_uri": "https://localhost:8080/"
        },
        "id": "sgRLFWCo1Goa",
        "outputId": "1ed3a1ee-5565-4c40-f0f6-23bac58c6260"
      },
      "execution_count": null,
      "outputs": [
        {
          "output_type": "execute_result",
          "data": {
            "text/plain": [
              "0        2\n",
              "1        1\n",
              "2        2\n",
              "3        2\n",
              "4        1\n",
              "        ..\n",
              "19994    2\n",
              "19995    2\n",
              "19996    2\n",
              "19997    2\n",
              "19998    2\n",
              "Name: Type of Admission, Length: 19987, dtype: int64"
            ]
          },
          "metadata": {},
          "execution_count": 20
        }
      ]
    },
    {
      "cell_type": "code",
      "source": [
        "from sklearn.preprocessing import LabelEncoder\n",
        "le= LabelEncoder()\n",
        "sparcs[\"CCS Procedure Description\"]=le.fit_transform(sparcs[\"CCS Procedure Description\"])"
      ],
      "metadata": {
        "id": "yKoulF_q1mzh"
      },
      "execution_count": null,
      "outputs": []
    },
    {
      "cell_type": "code",
      "source": [
        "sparcs[\"CCS Procedure Description\"]\n"
      ],
      "metadata": {
        "colab": {
          "base_uri": "https://localhost:8080/"
        },
        "id": "YWy22Ch61muY",
        "outputId": "01795a2f-168f-4349-afdd-7b65e5e2e2fb"
      },
      "execution_count": null,
      "outputs": [
        {
          "output_type": "execute_result",
          "data": {
            "text/plain": [
              "0         22\n",
              "1        171\n",
              "2         94\n",
              "3        163\n",
              "4         32\n",
              "        ... \n",
              "19994     94\n",
              "19995    154\n",
              "19996     94\n",
              "19997     94\n",
              "19998     94\n",
              "Name: CCS Procedure Description, Length: 19987, dtype: int64"
            ]
          },
          "metadata": {},
          "execution_count": 22
        }
      ]
    },
    {
      "cell_type": "code",
      "source": [
        "from sklearn.preprocessing import LabelEncoder\n",
        "le= LabelEncoder()\n",
        "sparcs[\"APR Risk of Mortality\"]=le.fit_transform(sparcs[\"APR Risk of Mortality\"])"
      ],
      "metadata": {
        "id": "4wDyvwZZ1mq9"
      },
      "execution_count": null,
      "outputs": []
    },
    {
      "cell_type": "code",
      "source": [
        "sparcs[\"APR Risk of Mortality\"]"
      ],
      "metadata": {
        "colab": {
          "base_uri": "https://localhost:8080/"
        },
        "id": "fzWz0SBP1moV",
        "outputId": "aaa6b041-5962-4be6-d08f-aeaf2be33d69"
      },
      "execution_count": null,
      "outputs": [
        {
          "output_type": "execute_result",
          "data": {
            "text/plain": [
              "0        2\n",
              "1        1\n",
              "2        2\n",
              "3        2\n",
              "4        2\n",
              "        ..\n",
              "19994    2\n",
              "19995    2\n",
              "19996    2\n",
              "19997    2\n",
              "19998    2\n",
              "Name: APR Risk of Mortality, Length: 19987, dtype: int64"
            ]
          },
          "metadata": {},
          "execution_count": 24
        }
      ]
    },
    {
      "cell_type": "code",
      "source": [
        "from sklearn.preprocessing import LabelEncoder\n",
        "le= LabelEncoder()\n",
        "sparcs[\"Health Service Area\"]=le.fit_transform(sparcs[\"Health Service Area\"])"
      ],
      "metadata": {
        "id": "5b2xi2i_1miF"
      },
      "execution_count": null,
      "outputs": []
    },
    {
      "cell_type": "code",
      "source": [
        "sparcs[\"Health Service Area\"]"
      ],
      "metadata": {
        "colab": {
          "base_uri": "https://localhost:8080/"
        },
        "id": "0h_jFcYx1mWn",
        "outputId": "645a7962-4335-4f66-8274-05c911360c49"
      },
      "execution_count": null,
      "outputs": [
        {
          "output_type": "execute_result",
          "data": {
            "text/plain": [
              "0        4\n",
              "1        4\n",
              "2        4\n",
              "3        5\n",
              "4        4\n",
              "        ..\n",
              "19994    4\n",
              "19995    4\n",
              "19996    4\n",
              "19997    4\n",
              "19998    4\n",
              "Name: Health Service Area, Length: 19987, dtype: int64"
            ]
          },
          "metadata": {},
          "execution_count": 26
        }
      ]
    },
    {
      "cell_type": "code",
      "source": [
        "from sklearn.preprocessing import LabelEncoder\n",
        "le= LabelEncoder()\n",
        "sparcs[\"Age Group\"]=le.fit_transform(sparcs[\"Age Group\"])"
      ],
      "metadata": {
        "id": "83klE8U3jQHY"
      },
      "execution_count": null,
      "outputs": []
    },
    {
      "cell_type": "code",
      "source": [
        "sparcs[\"Age Group\"]"
      ],
      "metadata": {
        "colab": {
          "base_uri": "https://localhost:8080/"
        },
        "id": "7VAoFicl258w",
        "outputId": "3b6f1564-adb7-4001-ff63-7082305666f9"
      },
      "execution_count": null,
      "outputs": [
        {
          "output_type": "execute_result",
          "data": {
            "text/plain": [
              "0        0\n",
              "1        0\n",
              "2        0\n",
              "3        0\n",
              "4        0\n",
              "        ..\n",
              "19994    0\n",
              "19995    0\n",
              "19996    0\n",
              "19997    0\n",
              "19998    0\n",
              "Name: Age Group, Length: 19987, dtype: int64"
            ]
          },
          "metadata": {},
          "execution_count": 28
        }
      ]
    },
    {
      "cell_type": "code",
      "source": [
        "\n",
        "from sklearn.preprocessing import LabelEncoder\n",
        "le= LabelEncoder()\n",
        "df[\"Length of Stay\"]=le.fit_transform([\"Length of Stay\"])"
      ],
      "metadata": {
        "id": "CDEewdlt254p",
        "colab": {
          "base_uri": "https://localhost:8080/",
          "height": 209
        },
        "outputId": "f0350535-391b-4d7e-e99a-86d5e3c24a03"
      },
      "execution_count": null,
      "outputs": [
        {
          "output_type": "error",
          "ename": "NameError",
          "evalue": "ignored",
          "traceback": [
            "\u001b[0;31m---------------------------------------------------------------------------\u001b[0m",
            "\u001b[0;31mNameError\u001b[0m                                 Traceback (most recent call last)",
            "\u001b[0;32m<ipython-input-1-fcf6a1ef19dc>\u001b[0m in \u001b[0;36m<cell line: 3>\u001b[0;34m()\u001b[0m\n\u001b[1;32m      1\u001b[0m \u001b[0;32mfrom\u001b[0m \u001b[0msklearn\u001b[0m\u001b[0;34m.\u001b[0m\u001b[0mpreprocessing\u001b[0m \u001b[0;32mimport\u001b[0m \u001b[0mLabelEncoder\u001b[0m\u001b[0;34m\u001b[0m\u001b[0;34m\u001b[0m\u001b[0m\n\u001b[1;32m      2\u001b[0m \u001b[0mle\u001b[0m\u001b[0;34m=\u001b[0m \u001b[0mLabelEncoder\u001b[0m\u001b[0;34m(\u001b[0m\u001b[0;34m)\u001b[0m\u001b[0;34m\u001b[0m\u001b[0;34m\u001b[0m\u001b[0m\n\u001b[0;32m----> 3\u001b[0;31m \u001b[0mdf\u001b[0m\u001b[0;34m[\u001b[0m\u001b[0;34m\"Length of Stay\"\u001b[0m\u001b[0;34m]\u001b[0m\u001b[0;34m=\u001b[0m\u001b[0mle\u001b[0m\u001b[0;34m.\u001b[0m\u001b[0mfit_transform\u001b[0m\u001b[0;34m(\u001b[0m\u001b[0mdf\u001b[0m\u001b[0;34m[\u001b[0m\u001b[0;34m\"Length of Stay\"\u001b[0m\u001b[0;34m]\u001b[0m\u001b[0;34m)\u001b[0m\u001b[0;34m\u001b[0m\u001b[0;34m\u001b[0m\u001b[0m\n\u001b[0m",
            "\u001b[0;31mNameError\u001b[0m: name 'df' is not defined"
          ]
        }
      ]
    },
    {
      "cell_type": "code",
      "source": [
        "sparcs[\"Length of Stay\"]"
      ],
      "metadata": {
        "colab": {
          "base_uri": "https://localhost:8080/"
        },
        "id": "XzbteAJ02513",
        "outputId": "34a97490-a36f-4b73-94a1-488dc55163eb"
      },
      "execution_count": null,
      "outputs": [
        {
          "output_type": "execute_result",
          "data": {
            "text/plain": [
              "0        20\n",
              "1        42\n",
              "2        20\n",
              "3        20\n",
              "4        31\n",
              "         ..\n",
              "19994    42\n",
              "19995    20\n",
              "19996    20\n",
              "19997    20\n",
              "19998     0\n",
              "Name: Length of Stay, Length: 19987, dtype: int64"
            ]
          },
          "metadata": {},
          "execution_count": 30
        }
      ]
    },
    {
      "cell_type": "code",
      "source": [
        "\n",
        "from sklearn.preprocessing import LabelEncoder\n",
        "le= LabelEncoder()\n",
        "sparcs[\"Patient Disposition\"]=le.fit_transform(sparcs[\"Patient Disposition\"])"
      ],
      "metadata": {
        "id": "dzoMVxnf25zP"
      },
      "execution_count": null,
      "outputs": []
    },
    {
      "cell_type": "code",
      "source": [
        "sparcs[\"Patient Disposition\"]"
      ],
      "metadata": {
        "colab": {
          "base_uri": "https://localhost:8080/"
        },
        "id": "CjjW-DO225wA",
        "outputId": "b154cf2e-36ad-451d-f029-0db680a9a28e"
      },
      "execution_count": null,
      "outputs": [
        {
          "output_type": "execute_result",
          "data": {
            "text/plain": [
              "0        5\n",
              "1        1\n",
              "2        5\n",
              "3        5\n",
              "4        5\n",
              "        ..\n",
              "19994    5\n",
              "19995    5\n",
              "19996    5\n",
              "19997    5\n",
              "19998    5\n",
              "Name: Patient Disposition, Length: 19987, dtype: int64"
            ]
          },
          "metadata": {},
          "execution_count": 32
        }
      ]
    },
    {
      "cell_type": "code",
      "source": [
        "\n",
        "from sklearn.preprocessing import LabelEncoder\n",
        "le= LabelEncoder()\n",
        "sparcs[\"Source of Payment 1\"]=le.fit_transform(sparcs[\"Source of Payment 1\"])"
      ],
      "metadata": {
        "id": "1wNaBUJI25tb"
      },
      "execution_count": null,
      "outputs": []
    },
    {
      "cell_type": "code",
      "source": [
        "sparcs[\"Source of Payment 1\"]"
      ],
      "metadata": {
        "colab": {
          "base_uri": "https://localhost:8080/"
        },
        "id": "7V7BKEsP25qx",
        "outputId": "6d3e32d0-6385-46ab-9049-9b7f2e40e919"
      },
      "execution_count": null,
      "outputs": [
        {
          "output_type": "execute_result",
          "data": {
            "text/plain": [
              "0        2\n",
              "1        2\n",
              "2        0\n",
              "3        0\n",
              "4        7\n",
              "        ..\n",
              "19994    2\n",
              "19995    0\n",
              "19996    2\n",
              "19997    2\n",
              "19998    2\n",
              "Name: Source of Payment 1, Length: 19987, dtype: int64"
            ]
          },
          "metadata": {},
          "execution_count": 34
        }
      ]
    },
    {
      "cell_type": "code",
      "source": [
        "X = sparcs.drop(['Type of Admission'],axis = 1)\n",
        "y = sparcs['Type of Admission']"
      ],
      "metadata": {
        "id": "i5dADVEIdZ6x"
      },
      "execution_count": null,
      "outputs": []
    },
    {
      "cell_type": "code",
      "source": [
        "from sklearn.model_selection import train_test_split\n",
        "X_train,X_test,y_train,y_test = train_test_split(X,y,test_size = .2,random_state =42)\n",
        "X_train.shape"
      ],
      "metadata": {
        "colab": {
          "base_uri": "https://localhost:8080/"
        },
        "id": "iYMrpnqSkU9f",
        "outputId": "4ee065dd-f79d-4cc7-efe4-788dea738156"
      },
      "execution_count": null,
      "outputs": [
        {
          "output_type": "execute_result",
          "data": {
            "text/plain": [
              "(15989, 9)"
            ]
          },
          "metadata": {},
          "execution_count": 74
        }
      ]
    },
    {
      "cell_type": "code",
      "source": [
        "y_train.head()"
      ],
      "metadata": {
        "colab": {
          "base_uri": "https://localhost:8080/"
        },
        "id": "i07qgUCXc8oz",
        "outputId": "8e2f2b39-e000-4e38-dac8-4b7408311a03"
      },
      "execution_count": null,
      "outputs": [
        {
          "output_type": "execute_result",
          "data": {
            "text/plain": [
              "16811    2\n",
              "12671    1\n",
              "842      1\n",
              "6073     2\n",
              "7768     2\n",
              "Name: Type of Admission, dtype: int64"
            ]
          },
          "metadata": {},
          "execution_count": 75
        }
      ]
    },
    {
      "cell_type": "markdown",
      "source": [
        "Logistic Regression\n"
      ],
      "metadata": {
        "id": "yMhNLD5p8cmn"
      }
    },
    {
      "cell_type": "code",
      "source": [
        "from sklearn.linear_model import LogisticRegression\n",
        "logmodel = LogisticRegression()"
      ],
      "metadata": {
        "id": "fBhxXMN-5nwi"
      },
      "execution_count": null,
      "outputs": []
    },
    {
      "cell_type": "code",
      "source": [
        "logmodel.fit(X_train,y_train)"
      ],
      "metadata": {
        "colab": {
          "base_uri": "https://localhost:8080/"
        },
        "id": "bx9KdB8Q5ntX",
        "outputId": "7df97541-3325-4ae4-ac88-ff15c748874c"
      },
      "execution_count": null,
      "outputs": [
        {
          "output_type": "stream",
          "name": "stderr",
          "text": [
            "/usr/local/lib/python3.7/dist-packages/sklearn/linear_model/_logistic.py:818: ConvergenceWarning: lbfgs failed to converge (status=1):\n",
            "STOP: TOTAL NO. of ITERATIONS REACHED LIMIT.\n",
            "\n",
            "Increase the number of iterations (max_iter) or scale the data as shown in:\n",
            "    https://scikit-learn.org/stable/modules/preprocessing.html\n",
            "Please also refer to the documentation for alternative solver options:\n",
            "    https://scikit-learn.org/stable/modules/linear_model.html#logistic-regression\n",
            "  extra_warning_msg=_LOGISTIC_SOLVER_CONVERGENCE_MSG,\n"
          ]
        },
        {
          "output_type": "execute_result",
          "data": {
            "text/plain": [
              "LogisticRegression()"
            ]
          },
          "metadata": {},
          "execution_count": 77
        }
      ]
    },
    {
      "cell_type": "code",
      "source": [
        "y_pred =logmodel.predict(X_test)"
      ],
      "metadata": {
        "id": "XIPtL96G5gFD"
      },
      "execution_count": null,
      "outputs": []
    },
    {
      "cell_type": "code",
      "source": [
        "y_pred[:20]"
      ],
      "metadata": {
        "colab": {
          "base_uri": "https://localhost:8080/"
        },
        "id": "ELRNhymP5gHi",
        "outputId": "8524777a-2a15-4e2d-e9bc-5e5fc0c72778"
      },
      "execution_count": null,
      "outputs": [
        {
          "output_type": "execute_result",
          "data": {
            "text/plain": [
              "array([2, 2, 2, 2, 2, 2, 2, 2, 2, 2, 2, 2, 2, 2, 2, 2, 2, 2, 2, 2])"
            ]
          },
          "metadata": {},
          "execution_count": 79
        }
      ]
    },
    {
      "cell_type": "code",
      "source": [
        "y_pred"
      ],
      "metadata": {
        "colab": {
          "base_uri": "https://localhost:8080/"
        },
        "id": "u2uZ-LXq5gJ-",
        "outputId": "67c581f8-ab3f-4dc4-c285-073e6f08d020"
      },
      "execution_count": null,
      "outputs": [
        {
          "output_type": "execute_result",
          "data": {
            "text/plain": [
              "array([2, 2, 2, ..., 2, 2, 2])"
            ]
          },
          "metadata": {},
          "execution_count": 80
        }
      ]
    },
    {
      "cell_type": "code",
      "source": [
        "# calculate accuracy#\n",
        "print(\"Training set accuracy: {:.3f}\".format(logmodel.score(X_train, y_train)))\n",
        "print(\"Test set accuracy: {:.3f}\".format(logmodel.score(X_test, y_test)))"
      ],
      "metadata": {
        "colab": {
          "base_uri": "https://localhost:8080/"
        },
        "id": "uXZv7CJp5gMu",
        "outputId": "2c0724ed-aaf6-4a3b-b9e3-a5969f2d9431"
      },
      "execution_count": null,
      "outputs": [
        {
          "output_type": "stream",
          "name": "stdout",
          "text": [
            "Training set accuracy: 0.642\n",
            "Test set accuracy: 0.645\n"
          ]
        }
      ]
    },
    {
      "cell_type": "code",
      "source": [
        "from sklearn.metrics import confusion_matrix, classification_report"
      ],
      "metadata": {
        "id": "Q6yZZjFo5gPa"
      },
      "execution_count": null,
      "outputs": []
    },
    {
      "cell_type": "code",
      "source": [
        "confusion_matrix(y_test,y_pred)"
      ],
      "metadata": {
        "colab": {
          "base_uri": "https://localhost:8080/"
        },
        "id": "Nb5gYz8E6KiD",
        "outputId": "2bb9e61b-fffe-4cde-c53f-e5c12ec23888"
      },
      "execution_count": null,
      "outputs": [
        {
          "output_type": "execute_result",
          "data": {
            "text/plain": [
              "array([[   0,    9,  239,    0,    0],\n",
              "       [   1,   21, 1087,    0,    1],\n",
              "       [   0,   10, 2557,    0,    0],\n",
              "       [   0,    0,    1,    0,    0],\n",
              "       [   0,    1,   71,    0,    0]])"
            ]
          },
          "metadata": {},
          "execution_count": 83
        }
      ]
    },
    {
      "cell_type": "code",
      "source": [
        "print(classification_report(y_test,y_pred))"
      ],
      "metadata": {
        "colab": {
          "base_uri": "https://localhost:8080/"
        },
        "id": "8S68V77o6Kes",
        "outputId": "b80ba959-c28f-476c-e81e-1ce8fe509fc6"
      },
      "execution_count": null,
      "outputs": [
        {
          "output_type": "stream",
          "name": "stdout",
          "text": [
            "              precision    recall  f1-score   support\n",
            "\n",
            "           0       0.00      0.00      0.00       248\n",
            "           1       0.51      0.02      0.04      1110\n",
            "           2       0.65      1.00      0.78      2567\n",
            "           3       0.00      0.00      0.00         1\n",
            "           4       0.00      0.00      0.00        72\n",
            "\n",
            "    accuracy                           0.64      3998\n",
            "   macro avg       0.23      0.20      0.16      3998\n",
            "weighted avg       0.56      0.64      0.51      3998\n",
            "\n"
          ]
        },
        {
          "output_type": "stream",
          "name": "stderr",
          "text": [
            "/usr/local/lib/python3.7/dist-packages/sklearn/metrics/_classification.py:1318: UndefinedMetricWarning: Precision and F-score are ill-defined and being set to 0.0 in labels with no predicted samples. Use `zero_division` parameter to control this behavior.\n",
            "  _warn_prf(average, modifier, msg_start, len(result))\n",
            "/usr/local/lib/python3.7/dist-packages/sklearn/metrics/_classification.py:1318: UndefinedMetricWarning: Precision and F-score are ill-defined and being set to 0.0 in labels with no predicted samples. Use `zero_division` parameter to control this behavior.\n",
            "  _warn_prf(average, modifier, msg_start, len(result))\n",
            "/usr/local/lib/python3.7/dist-packages/sklearn/metrics/_classification.py:1318: UndefinedMetricWarning: Precision and F-score are ill-defined and being set to 0.0 in labels with no predicted samples. Use `zero_division` parameter to control this behavior.\n",
            "  _warn_prf(average, modifier, msg_start, len(result))\n"
          ]
        }
      ]
    },
    {
      "cell_type": "code",
      "source": [
        "from sklearn.metrics import mean_squared_error, r2_score\n",
        "print(\"Mean squared error: %.2f\\n\"\n",
        "     % mean_squared_error(y_test, y_pred))"
      ],
      "metadata": {
        "colab": {
          "base_uri": "https://localhost:8080/"
        },
        "id": "L6U_Za656KcO",
        "outputId": "6d0fa583-20f5-4569-bcd3-e40b62bfe0f4"
      },
      "execution_count": null,
      "outputs": [
        {
          "output_type": "stream",
          "name": "stdout",
          "text": [
            "Mean squared error: 0.59\n",
            "\n"
          ]
        }
      ]
    },
    {
      "cell_type": "markdown",
      "source": [
        "Decision Tree"
      ],
      "metadata": {
        "id": "QL8PeHpl8nA8"
      }
    },
    {
      "cell_type": "code",
      "source": [
        "from sklearn.tree import DecisionTreeClassifier\n",
        "\n",
        "tree = DecisionTreeClassifier(random_state=0)\n",
        "tree.fit(X_train, y_train)\n",
        "print(\"Accuracy on training set: {:.3f}\".format(tree.score(X_train, y_train)))\n",
        "print(\"Accuracy on test set: {:.3f}\".format(tree.score(X_test, y_test)))"
      ],
      "metadata": {
        "colab": {
          "base_uri": "https://localhost:8080/"
        },
        "id": "lADEYumZ7pw5",
        "outputId": "7aa8d924-4a23-491e-b0d8-2a4197a939da"
      },
      "execution_count": null,
      "outputs": [
        {
          "output_type": "stream",
          "name": "stdout",
          "text": [
            "Accuracy on training set: 0.974\n",
            "Accuracy on test set: 0.882\n"
          ]
        }
      ]
    },
    {
      "cell_type": "code",
      "source": [
        "tree = DecisionTreeClassifier(max_depth=3, random_state=0)\n",
        "tree.fit(X_train, y_train)\n",
        "\n",
        "print(\"Accuracy on training set: {:.3f}\".format(tree.score(X_train, y_train)))\n",
        "print(\"Accuracy on test set: {:.3f}\".format(tree.score(X_test, y_test)))"
      ],
      "metadata": {
        "colab": {
          "base_uri": "https://localhost:8080/"
        },
        "id": "QamK-xsW7qHg",
        "outputId": "2ad2ef83-4e7f-4706-f2c4-7b8377cdefc9"
      },
      "execution_count": null,
      "outputs": [
        {
          "output_type": "stream",
          "name": "stdout",
          "text": [
            "Accuracy on training set: 0.714\n",
            "Accuracy on test set: 0.710\n"
          ]
        }
      ]
    },
    {
      "cell_type": "markdown",
      "source": [
        "Feature importance in Decision trees"
      ],
      "metadata": {
        "id": "RX_oz68X9Kok"
      }
    },
    {
      "cell_type": "code",
      "source": [
        "print(\"Feature importances:\\n{}\".format(tree.feature_importances_))"
      ],
      "metadata": {
        "colab": {
          "base_uri": "https://localhost:8080/"
        },
        "id": "OfZn8NJF8752",
        "outputId": "083b61d4-a796-4339-f75c-7665b1a21a50"
      },
      "execution_count": null,
      "outputs": [
        {
          "output_type": "stream",
          "name": "stdout",
          "text": [
            "Feature importances:\n",
            "[0.         0.09528553 0.2982054  0.34915472 0.         0.02096171\n",
            " 0.20877321 0.         0.02761942]\n"
          ]
        }
      ]
    },
    {
      "cell_type": "markdown",
      "source": [
        "Random Forest"
      ],
      "metadata": {
        "id": "2jn4BLrW9ojN"
      }
    },
    {
      "cell_type": "code",
      "source": [
        "from sklearn.ensemble import RandomForestClassifier\n",
        "\n",
        "rf = RandomForestClassifier(n_estimators=100, random_state=0)\n",
        "rf.fit(X_train, y_train)\n",
        "print(\"Accuracy on training set: {:.3f}\".format(rf.score(X_train, y_train)))\n",
        "print(\"Accuracy on test set: {:.3f}\".format(rf.score(X_test, y_test)))"
      ],
      "metadata": {
        "colab": {
          "base_uri": "https://localhost:8080/"
        },
        "id": "W4oTGCFZ878o",
        "outputId": "cc4e6994-0d5f-4e4f-c12d-f02bd2187170"
      },
      "execution_count": null,
      "outputs": [
        {
          "output_type": "stream",
          "name": "stdout",
          "text": [
            "Accuracy on training set: 0.974\n",
            "Accuracy on test set: 0.893\n"
          ]
        }
      ]
    },
    {
      "cell_type": "code",
      "source": [
        "rf1 = RandomForestClassifier(max_depth=3, n_estimators=100, random_state=0)\n",
        "rf1.fit(X_train, y_train)\n",
        "print(\"Accuracy on training set: {:.3f}\".format(rf1.score(X_train, y_train)))\n",
        "print(\"Accuracy on test set: {:.3f}\".format(rf1.score(X_test, y_test)))"
      ],
      "metadata": {
        "colab": {
          "base_uri": "https://localhost:8080/"
        },
        "id": "lSEm4AZu87_Q",
        "outputId": "aa5bd537-2781-4531-dab6-5cefdbe44481"
      },
      "execution_count": null,
      "outputs": [
        {
          "output_type": "stream",
          "name": "stdout",
          "text": [
            "Accuracy on training set: 0.729\n",
            "Accuracy on test set: 0.721\n"
          ]
        }
      ]
    },
    {
      "cell_type": "markdown",
      "source": [
        "knn"
      ],
      "metadata": {
        "id": "T7xfGWs1-ANC"
      }
    },
    {
      "cell_type": "code",
      "source": [
        "from sklearn.model_selection import train_test_split\n",
        "\n",
        "X_train, X_test, y_train, y_test = train_test_split(sparcs.loc[:, sparcs.columns != 'Type of Admission'], sparcs['Type of Admission'],\n",
        "                                                    stratify=sparcs['Type of Admission'], random_state=66)\n"
      ],
      "metadata": {
        "id": "qsdMBjg288CG"
      },
      "execution_count": null,
      "outputs": []
    },
    {
      "cell_type": "code",
      "source": [
        "from sklearn.neighbors import KNeighborsClassifier\n",
        "\n",
        "training_accuracy = []\n",
        "test_accuracy = []\n",
        "# try n_neighbors from 1 to 10\n",
        "neighbors_settings = range(1, 11)\n",
        "\n",
        "for n_neighbors in neighbors_settings:\n",
        "    # build the model\n",
        "    knn = KNeighborsClassifier(n_neighbors=n_neighbors)\n",
        "    knn.fit(X_train, y_train)\n",
        "    # record training set accuracy\n",
        "    training_accuracy.append(knn.score(X_train, y_train))\n",
        "    # record test set accuracy\n",
        "    test_accuracy.append(knn.score(X_test, y_test))\n",
        "\n",
        "plt.plot(neighbors_settings, training_accuracy, label=\"training accuracy\")\n",
        "plt.plot(neighbors_settings, test_accuracy, label=\"test accuracy\")\n",
        "plt.ylabel(\"Accuracy\")\n",
        "plt.xlabel(\"n_neighbors\")\n",
        "plt.legend()\n",
        "plt.savefig('knn_compare_model')"
      ],
      "metadata": {
        "colab": {
          "base_uri": "https://localhost:8080/",
          "height": 280
        },
        "id": "CadlOh5Q88Ee",
        "outputId": "d4f6256e-8217-46e0-9321-51c5b3bf344c"
      },
      "execution_count": null,
      "outputs": [
        {
          "output_type": "display_data",
          "data": {
            "text/plain": [
              "<Figure size 432x288 with 1 Axes>"
            ],
            "image/png": "[encoded data removed]"
          },
          "metadata": {
            "needs_background": "light"
          }
        }
      ]
    },
    {
      "cell_type": "markdown",
      "source": [
        "SVM = Support Vector Machine\n"
      ],
      "metadata": {
        "id": "o2LWyv0e-2pz"
      }
    },
    {
      "cell_type": "code",
      "source": [
        "from sklearn.svm import SVC\n",
        "\n",
        "svc = SVC()\n",
        "svc.fit(X_train, y_train)\n",
        "\n",
        "print(\"Accuracy on training set: {:.2f}\".format(svc.score(X_train, y_train)))\n",
        "print(\"Accuracy on test set: {:.2f}\".format(svc.score(X_test, y_test)))"
      ],
      "metadata": {
        "colab": {
          "base_uri": "https://localhost:8080/"
        },
        "id": "xqeS1CtL88HH",
        "outputId": "42abda0d-4936-4a9b-9f50-37e5a6fdb11d"
      },
      "execution_count": null,
      "outputs": [
        {
          "output_type": "stream",
          "name": "stdout",
          "text": [
            "Accuracy on training set: 0.64\n",
            "Accuracy on test set: 0.64\n"
          ]
        }
      ]
    },
    {
      "cell_type": "code",
      "source": [
        "from sklearn.preprocessing import MinMaxScaler\n",
        "\n",
        "scaler = MinMaxScaler()\n",
        "X_train_scaled = scaler.fit_transform(X_train)\n",
        "X_test_scaled = scaler.fit_transform(X_test)\n",
        "\n",
        "svc = SVC()\n",
        "svc.fit(X_train_scaled, y_train)\n",
        "\n",
        "print(\"Accuracy on training set: {:.2f}\".format(svc.score(X_train_scaled, y_train)))\n",
        "print(\"Accuracy on test set: {:.2f}\".format(svc.score(X_test_scaled, y_test)))"
      ],
      "metadata": {
        "colab": {
          "base_uri": "https://localhost:8080/"
        },
        "id": "eeyC8VLg88J1",
        "outputId": "b2dc5367-ca46-42c6-a5f0-232a565f565f"
      },
      "execution_count": null,
      "outputs": [
        {
          "output_type": "stream",
          "name": "stdout",
          "text": [
            "Accuracy on training set: 0.73\n",
            "Accuracy on test set: 0.72\n"
          ]
        }
      ]
    },
    {
      "cell_type": "code",
      "source": [
        "svc = SVC(C=1000)\n",
        "svc.fit(X_train_scaled, y_train)\n",
        "\n",
        "print(\"Accuracy on training set: {:.3f}\".format(\n",
        "    svc.score(X_train_scaled, y_train)))\n",
        "print(\"Accuracy on test set: {:.3f}\".format(svc.score(X_test_scaled, y_test)))"
      ],
      "metadata": {
        "colab": {
          "base_uri": "https://localhost:8080/"
        },
        "id": "5bLYi-J588Ms",
        "outputId": "916712c2-cf4b-49c5-cc61-149cddf7ebd8"
      },
      "execution_count": null,
      "outputs": [
        {
          "output_type": "stream",
          "name": "stdout",
          "text": [
            "Accuracy on training set: 0.775\n",
            "Accuracy on test set: 0.523\n"
          ]
        }
      ]
    },
    {
      "cell_type": "markdown",
      "source": [
        "Neural Network"
      ],
      "metadata": {
        "id": "e9FTvubH_9GV"
      }
    },
    {
      "cell_type": "code",
      "source": [
        "from sklearn.model_selection import train_test_split\n",
        "X_train, X_test, y_train, y_test = train_test_split(X, y, test_size = 0.2, random_state = 47, stratify=y)"
      ],
      "metadata": {
        "id": "pRBB_gpt88P7"
      },
      "execution_count": null,
      "outputs": []
    },
    {
      "cell_type": "code",
      "source": [
        "from sklearn.preprocessing import MinMaxScaler\n",
        "from sklearn.neural_network import MLPClassifier"
      ],
      "metadata": {
        "id": "p17Jy5QA88ZE"
      },
      "execution_count": null,
      "outputs": []
    },
    {
      "cell_type": "code",
      "source": [
        "from sklearn.preprocessing import MinMaxScaler\n",
        "\n",
        "scaler = MinMaxScaler()\n",
        "X_train=scaler.fit_transform(X_train)\n",
        "x_test=scaler.transform(X_test)"
      ],
      "metadata": {
        "id": "oqDI72XZ88cZ"
      },
      "execution_count": null,
      "outputs": []
    },
    {
      "cell_type": "code",
      "source": [
        "(X_train.shape,y_train.shape)"
      ],
      "metadata": {
        "colab": {
          "base_uri": "https://localhost:8080/"
        },
        "id": "W1Uw_N0988nH",
        "outputId": "80ca3941-379d-4ce7-fc10-c921e85d16c9"
      },
      "execution_count": null,
      "outputs": [
        {
          "output_type": "execute_result",
          "data": {
            "text/plain": [
              "((15989, 9), (15989,))"
            ]
          },
          "metadata": {},
          "execution_count": 100
        }
      ]
    },
    {
      "cell_type": "code",
      "source": [
        "print(X_train)"
      ],
      "metadata": {
        "colab": {
          "base_uri": "https://localhost:8080/"
        },
        "id": "eMNBfzl388uP",
        "outputId": "c5fe7bb3-438c-4bec-9bee-8c3222e2bcec"
      },
      "execution_count": null,
      "outputs": [
        {
          "output_type": "stream",
          "name": "stdout",
          "text": [
            "[[0.66666667 0.36663312 0.         ... 0.         0.66666667 0.        ]\n",
            " [0.66666667 0.3686462  0.         ... 0.33333333 1.         0.25      ]\n",
            " [0.66666667 0.36789129 0.         ... 0.         0.66666667 0.25      ]\n",
            " ...\n",
            " [0.66666667 0.3616004  0.         ... 0.         0.66666667 0.25      ]\n",
            " [0.66666667 0.36663312 0.         ... 0.33333333 0.66666667 0.        ]\n",
            " [0.66666667 0.36990438 0.         ... 0.         0.66666667 0.25      ]]\n"
          ]
        }
      ]
    },
    {
      "cell_type": "code",
      "source": [
        "import tensorflow as tf\n",
        "from keras.models import Sequential # It is linear stack of layers)\n",
        "from keras.layers import Dense, Dropout, Conv2D, MaxPooling2D, Flatten\n",
        "from tensorflow.keras.optimizers import Adam"
      ],
      "metadata": {
        "id": "6oOmIoRBk4TB"
      },
      "execution_count": null,
      "outputs": []
    },
    {
      "cell_type": "code",
      "source": [
        "model = tf.keras.Sequential([\n",
        "    tf.keras.layers.Dense(4, activation = 'relu', input_shape=(X_train.shape[1], )),   #\n",
        "    tf.keras.layers.Dense(1, activation = 'sigmoid')\n",
        "])\n",
        "\n",
        "model.summary()"
      ],
      "metadata": {
        "colab": {
          "base_uri": "https://localhost:8080/"
        },
        "id": "4iupllRYqliI",
        "outputId": "6709fb7e-836c-4c93-c0c6-db435dacd86c"
      },
      "execution_count": null,
      "outputs": [
        {
          "output_type": "stream",
          "name": "stdout",
          "text": [
            "Model: \"sequential_1\"\n",
            "_________________________________________________________________\n",
            " Layer (type)                Output Shape              Param #   \n",
            "=================================================================\n",
            " dense_2 (Dense)             (None, 4)                 40        \n",
            "                                                                 \n",
            " dense_3 (Dense)             (None, 1)                 5         \n",
            "                                                                 \n",
            "=================================================================\n",
            "Total params: 45\n",
            "Trainable params: 45\n",
            "Non-trainable params: 0\n",
            "_________________________________________________________________\n"
          ]
        }
      ]
    },
    {
      "cell_type": "code",
      "source": [
        "model.variables"
      ],
      "metadata": {
        "colab": {
          "base_uri": "https://localhost:8080/"
        },
        "id": "bha1KLcRqlky",
        "outputId": "e1442091-f6ab-4147-b9d3-40644793bcf2"
      },
      "execution_count": null,
      "outputs": [
        {
          "output_type": "execute_result",
          "data": {
            "text/plain": [
              "[<tf.Variable 'dense_2/kernel:0' shape=(9, 4) dtype=float32, numpy=\n",
              " array([[-0.13007218,  0.4699986 ,  0.6212406 ,  0.20926428],\n",
              "        [ 0.21331298,  0.05227453,  0.6157372 , -0.3566513 ],\n",
              "        [ 0.0319736 , -0.584607  ,  0.11132878,  0.67823243],\n",
              "        [ 0.63210547, -0.545545  , -0.19180971,  0.65129364],\n",
              "        [-0.24077123, -0.47195783, -0.33544266,  0.0199399 ],\n",
              "        [ 0.11946666, -0.10538697, -0.09301168,  0.25542808],\n",
              "        [-0.47735834,  0.49877965,  0.10813987, -0.42014962],\n",
              "        [-0.1710363 ,  0.3886968 , -0.24239969, -0.44409466],\n",
              "        [-0.03316033, -0.06682426,  0.09016842,  0.6737498 ]],\n",
              "       dtype=float32)>,\n",
              " <tf.Variable 'dense_2/bias:0' shape=(4,) dtype=float32, numpy=array([0., 0., 0., 0.], dtype=float32)>,\n",
              " <tf.Variable 'dense_3/kernel:0' shape=(4, 1) dtype=float32, numpy=\n",
              " array([[ 0.7643287 ],\n",
              "        [-0.2750883 ],\n",
              "        [-1.0498681 ],\n",
              "        [ 0.64448357]], dtype=float32)>,\n",
              " <tf.Variable 'dense_3/bias:0' shape=(1,) dtype=float32, numpy=array([0.], dtype=float32)>]"
            ]
          },
          "metadata": {},
          "execution_count": 104
        }
      ]
    },
    {
      "cell_type": "code",
      "source": [
        "# Compiling the ANN\n",
        "model.compile(optimizer='adam', loss='binary_crossentropy', metrics=['accuracy'])\n"
      ],
      "metadata": {
        "id": "k6KJW92lqlnd"
      },
      "execution_count": null,
      "outputs": []
    },
    {
      "cell_type": "code",
      "source": [
        "# Fitting the ANN to the Training set\n",
        "history = model.fit(X_train, y_train, batch_size=32, epochs=10, validation_data=(X_test, y_test))"
      ],
      "metadata": {
        "colab": {
          "base_uri": "https://localhost:8080/"
        },
        "id": "ki0aD9Fpqlp7",
        "outputId": "d461d465-a940-46b0-bfec-202e8395323e"
      },
      "execution_count": null,
      "outputs": [
        {
          "output_type": "stream",
          "name": "stdout",
          "text": [
            "Epoch 1/10\n",
            "500/500 [==============================] - 2s 2ms/step - loss: -1.5958 - accuracy: 0.2594 - val_loss: -1138.1133 - val_accuracy: 0.2729\n",
            "Epoch 2/10\n",
            "500/500 [==============================] - 1s 2ms/step - loss: -8.5541 - accuracy: 0.2728 - val_loss: -5060.5654 - val_accuracy: 0.2729\n",
            "Epoch 3/10\n",
            "500/500 [==============================] - 1s 2ms/step - loss: -21.0668 - accuracy: 0.2728 - val_loss: -11352.5430 - val_accuracy: 0.2729\n",
            "Epoch 4/10\n",
            "500/500 [==============================] - 1s 2ms/step - loss: -38.7396 - accuracy: 0.2728 - val_loss: -19660.0586 - val_accuracy: 0.2729\n",
            "Epoch 5/10\n",
            "500/500 [==============================] - 1s 2ms/step - loss: -60.8094 - accuracy: 0.2728 - val_loss: -29717.0625 - val_accuracy: 0.2729\n",
            "Epoch 6/10\n",
            "500/500 [==============================] - 1s 2ms/step - loss: -86.8723 - accuracy: 0.2728 - val_loss: -41432.0586 - val_accuracy: 0.2729\n",
            "Epoch 7/10\n",
            "500/500 [==============================] - 1s 2ms/step - loss: -116.6170 - accuracy: 0.2728 - val_loss: -54671.4805 - val_accuracy: 0.2729\n",
            "Epoch 8/10\n",
            "500/500 [==============================] - 1s 2ms/step - loss: -149.6803 - accuracy: 0.2728 - val_loss: -69264.6562 - val_accuracy: 0.2729\n",
            "Epoch 9/10\n",
            "500/500 [==============================] - 1s 2ms/step - loss: -185.9250 - accuracy: 0.2728 - val_loss: -85170.4141 - val_accuracy: 0.2729\n",
            "Epoch 10/10\n",
            "500/500 [==============================] - 1s 2ms/step - loss: -225.3038 - accuracy: 0.2728 - val_loss: -102454.5781 - val_accuracy: 0.2729\n"
          ]
        }
      ]
    },
    {
      "cell_type": "code",
      "source": [
        "#now testing for Test data\n",
        "y_pred = model.predict(X_test)\n"
      ],
      "metadata": {
        "id": "8aIGe5m2qls8"
      },
      "execution_count": null,
      "outputs": []
    },
    {
      "cell_type": "code",
      "source": [
        "print(y_pred)"
      ],
      "metadata": {
        "colab": {
          "base_uri": "https://localhost:8080/"
        },
        "id": "-fqvYivgqlvn",
        "outputId": "418f5068-f3b2-4de6-d9b2-19e01f8e25d1"
      },
      "execution_count": null,
      "outputs": [
        {
          "output_type": "stream",
          "name": "stdout",
          "text": [
            "[[1.]\n",
            " [1.]\n",
            " [1.]\n",
            " ...\n",
            " [1.]\n",
            " [1.]\n",
            " [1.]]\n"
          ]
        }
      ]
    },
    {
      "cell_type": "code",
      "source": [
        "#converting values\n",
        "y_pred = (y_pred>0.5)\n",
        "print(y_pred)"
      ],
      "metadata": {
        "colab": {
          "base_uri": "https://localhost:8080/"
        },
        "id": "pnJCFTAuqlyw",
        "outputId": "6b667db1-29fa-45c4-995a-5823a72b994c"
      },
      "execution_count": null,
      "outputs": [
        {
          "output_type": "stream",
          "name": "stdout",
          "text": [
            "[[ True]\n",
            " [ True]\n",
            " [ True]\n",
            " ...\n",
            " [ True]\n",
            " [ True]\n",
            " [ True]]\n"
          ]
        }
      ]
    },
    {
      "cell_type": "code",
      "source": [],
      "metadata": {
        "id": "GxbKocQSpnhU"
      },
      "execution_count": null,
      "outputs": []
    }
  ]
}