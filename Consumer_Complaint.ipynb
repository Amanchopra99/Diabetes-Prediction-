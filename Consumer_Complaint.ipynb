{
  "nbformat": 4,
  "nbformat_minor": 0,
  "metadata": {
    "colab": {
      "provenance": []
    },
    "kernelspec": {
      "name": "python3",
      "display_name": "Python 3"
    },
    "language_info": {
      "name": "python"
    }
  },
  "cells": [
    {
      "cell_type": "code",
      "execution_count": null,
      "metadata": {
        "id": "agMsHEwq0qrb",
        "colab": {
          "base_uri": "https://localhost:8080/"
        },
        "outputId": "89d3489d-e69a-4d36-dc2a-c42c1f17ec61"
      },
      "outputs": [
        {
          "output_type": "stream",
          "name": "stdout",
          "text": [
            "        Date received           Product  \\\n",
            "0          03-12-2014          Mortgage   \n",
            "1          10-01-2016  Credit reporting   \n",
            "2          10/17/2016     Consumer Loan   \n",
            "3          06-08-2014       Credit card   \n",
            "4          09/13/2014   Debt collection   \n",
            "...               ...               ...   \n",
            "1025005    04-10-2017   Debt collection   \n",
            "1025006    02-07-2017   Debt collection   \n",
            "1025007    01-04-2017          Mortgage   \n",
            "1025008    09/28/2015   Debt collection   \n",
            "1025009    08/19/2016   Debt collection   \n",
            "\n",
            "                                   Sub-product  \\\n",
            "0                               Other mortgage   \n",
            "1                                          NaN   \n",
            "2                                 Vehicle loan   \n",
            "3                                          NaN   \n",
            "4                                  Credit card   \n",
            "...                                        ...   \n",
            "1025005                            Credit card   \n",
            "1025006  Other (i.e. phone, health club, etc.)   \n",
            "1025007            Conventional fixed mortgage   \n",
            "1025008               Non-federal student loan   \n",
            "1025009                            Payday loan   \n",
            "\n",
            "                                            Issue  \\\n",
            "0        Loan modification,collection,foreclosure   \n",
            "1          Incorrect information on credit report   \n",
            "2                      Managing the loan or lease   \n",
            "3                                      Bankruptcy   \n",
            "4                           Communication tactics   \n",
            "...                                           ...   \n",
            "1025005     Cont'd attempts collect debt not owed   \n",
            "1025006     Cont'd attempts collect debt not owed   \n",
            "1025007  Application, originator, mortgage broker   \n",
            "1025008           Disclosure verification of debt   \n",
            "1025009     Cont'd attempts collect debt not owed   \n",
            "\n",
            "                                    Sub-issue  \\\n",
            "0                                         NaN   \n",
            "1                              Account status   \n",
            "2                                         NaN   \n",
            "3                                         NaN   \n",
            "4                  Frequent or repeated calls   \n",
            "...                                       ...   \n",
            "1025005                      Debt is not mine   \n",
            "1025006                      Debt is not mine   \n",
            "1025007                                   NaN   \n",
            "1025008  Not given enough info to verify debt   \n",
            "1025009                      Debt is not mine   \n",
            "\n",
            "                                        Consumer Complaint  \\\n",
            "0                                                      NaN   \n",
            "1        I have outdated information on my credit repor...   \n",
            "2        I purchased a new car on XXXX XXXX. The car de...   \n",
            "3                                                      NaN   \n",
            "4                                                      NaN   \n",
            "...                                                    ...   \n",
            "1025005                                                NaN   \n",
            "1025006  I had an account with XXXX in XX/XX/XXXX this ...   \n",
            "1025007  I was contacted on XX/XX/XXXX email by XXXX fr...   \n",
            "1025008                                                NaN   \n",
            "1025009  I had a debit that was included in my chapter ...   \n",
            "\n",
            "                                   Company Public Response  \\\n",
            "0                                                      NaN   \n",
            "1        Company has responded to the consumer and the ...   \n",
            "2                                                      NaN   \n",
            "3                                                      NaN   \n",
            "4                                                      NaN   \n",
            "...                                                    ...   \n",
            "1025005  Company has responded to the consumer and the ...   \n",
            "1025006  Company believes it acted appropriately as aut...   \n",
            "1025007                                                NaN   \n",
            "1025008   Company chooses not to provide a public response   \n",
            "1025009  Company believes it acted appropriately as aut...   \n",
            "\n",
            "                                        Company State ZIP code  \\\n",
            "0                          M&T BANK CORPORATION    MI    48382   \n",
            "1        TRANSUNION INTERMEDIATE HOLDINGS, INC.    AL    352XX   \n",
            "2                CITIZENS FINANCIAL GROUP, INC.    PA    177XX   \n",
            "3                      AMERICAN EXPRESS COMPANY    ID    83854   \n",
            "4                                CITIBANK, N.A.    VA    23233   \n",
            "...                                         ...   ...      ...   \n",
            "1025005           PENTAGON FEDERAL CREDIT UNION    TX    77802   \n",
            "1025006                                     ERC    NY    115XX   \n",
            "1025007                Caliber Home Loans, Inc.    FL    336XX   \n",
            "1025008    Progressive Financial Services, Inc.    OH    44017   \n",
            "1025009                Midwest Recovery Systems    FL    336XX   \n",
            "\n",
            "                   Tags Consumer consent provided? Submitted via  \\\n",
            "0                   NaN                        NaN      Referral   \n",
            "1                   NaN           Consent provided           Web   \n",
            "2        Older American           Consent provided           Web   \n",
            "3        Older American                        NaN           Web   \n",
            "4                   NaN                        NaN           Web   \n",
            "...                 ...                        ...           ...   \n",
            "1025005             NaN                        NaN      Referral   \n",
            "1025006   Servicemember           Consent provided           Web   \n",
            "1025007             NaN           Consent provided           Web   \n",
            "1025008             NaN                        NaN   Postal mail   \n",
            "1025009             NaN           Consent provided           Web   \n",
            "\n",
            "        Date Sent to Company Company Response to Consumer Timely response?  \\\n",
            "0                 03/17/2014      Closed with explanation              Yes   \n",
            "1                 10-05-2016      Closed with explanation              Yes   \n",
            "2                 10/20/2016      Closed with explanation              Yes   \n",
            "3                 06-10-2014      Closed with explanation              Yes   \n",
            "4                 09/13/2014      Closed with explanation              Yes   \n",
            "...                      ...                          ...              ...   \n",
            "1025005           04-11-2017      Closed with explanation              Yes   \n",
            "1025006           02-07-2017                       Closed              Yes   \n",
            "1025007           01-04-2017      Closed with explanation              Yes   \n",
            "1025008           09/30/2015      Closed with explanation              Yes   \n",
            "1025009           08/19/2016      Closed with explanation              Yes   \n",
            "\n",
            "        Consumer disputed?  Complaint ID  Unnamed: 18  \n",
            "0                       No        759217          NaN  \n",
            "1                       No       2141773          NaN  \n",
            "2                       No       2163100          NaN  \n",
            "3                      Yes        885638          NaN  \n",
            "4                      Yes       1027760          NaN  \n",
            "...                    ...           ...          ...  \n",
            "1025005                 No       2428130          NaN  \n",
            "1025006                 No       2331270          NaN  \n",
            "1025007                 No       2274241          NaN  \n",
            "1025008                 No       1582525          NaN  \n",
            "1025009                Yes       2073214          NaN  \n",
            "\n",
            "[1025010 rows x 19 columns]\n"
          ]
        }
      ],
      "source": [
        "import pandas as pd\n",
        "data=pd.read_csv('/content/drive/MyDrive/Consumer_Complaints (1).csv')\n",
        "print(data)"
      ]
    },
    {
      "cell_type": "code",
      "source": [
        "data.head()"
      ],
      "metadata": {
        "colab": {
          "base_uri": "https://localhost:8080/",
          "height": 617
        },
        "id": "6Xoo7hTjQgIl",
        "outputId": "22b4aac7-24f4-4e06-f0d4-97698e5bc1c2"
      },
      "execution_count": null,
      "outputs": [
        {
          "output_type": "execute_result",
          "data": {
            "text/plain": [
              "  Date received           Product     Sub-product  \\\n",
              "0    03-12-2014          Mortgage  Other mortgage   \n",
              "1    10-01-2016  Credit reporting             NaN   \n",
              "2    10/17/2016     Consumer Loan    Vehicle loan   \n",
              "3    06-08-2014       Credit card             NaN   \n",
              "4    09/13/2014   Debt collection     Credit card   \n",
              "\n",
              "                                      Issue                   Sub-issue  \\\n",
              "0  Loan modification,collection,foreclosure                         NaN   \n",
              "1    Incorrect information on credit report              Account status   \n",
              "2                Managing the loan or lease                         NaN   \n",
              "3                                Bankruptcy                         NaN   \n",
              "4                     Communication tactics  Frequent or repeated calls   \n",
              "\n",
              "                                  Consumer Complaint  \\\n",
              "0                                                NaN   \n",
              "1  I have outdated information on my credit repor...   \n",
              "2  I purchased a new car on XXXX XXXX. The car de...   \n",
              "3                                                NaN   \n",
              "4                                                NaN   \n",
              "\n",
              "                             Company Public Response  \\\n",
              "0                                                NaN   \n",
              "1  Company has responded to the consumer and the ...   \n",
              "2                                                NaN   \n",
              "3                                                NaN   \n",
              "4                                                NaN   \n",
              "\n",
              "                                  Company State ZIP code            Tags  \\\n",
              "0                    M&T BANK CORPORATION    MI    48382             NaN   \n",
              "1  TRANSUNION INTERMEDIATE HOLDINGS, INC.    AL    352XX             NaN   \n",
              "2          CITIZENS FINANCIAL GROUP, INC.    PA    177XX  Older American   \n",
              "3                AMERICAN EXPRESS COMPANY    ID    83854  Older American   \n",
              "4                          CITIBANK, N.A.    VA    23233             NaN   \n",
              "\n",
              "  Consumer consent provided? Submitted via Date Sent to Company  \\\n",
              "0                        NaN      Referral           03/17/2014   \n",
              "1           Consent provided           Web           10-05-2016   \n",
              "2           Consent provided           Web           10/20/2016   \n",
              "3                        NaN           Web           06-10-2014   \n",
              "4                        NaN           Web           09/13/2014   \n",
              "\n",
              "  Company Response to Consumer Timely response? Consumer disputed?  \\\n",
              "0      Closed with explanation              Yes                 No   \n",
              "1      Closed with explanation              Yes                 No   \n",
              "2      Closed with explanation              Yes                 No   \n",
              "3      Closed with explanation              Yes                Yes   \n",
              "4      Closed with explanation              Yes                Yes   \n",
              "\n",
              "   Complaint ID  Unnamed: 18  \n",
              "0        759217          NaN  \n",
              "1       2141773          NaN  \n",
              "2       2163100          NaN  \n",
              "3        885638          NaN  \n",
              "4       1027760          NaN  "
            ],
            "text/html": [
              "\n",
              "  <div id=\"df-581c73ba-c43d-431e-8276-9d432b3f0998\">\n",
              "    <div class=\"colab-df-container\">\n",
              "      <div>\n",
              "<style scoped>\n",
              "    .dataframe tbody tr th:only-of-type {\n",
              "        vertical-align: middle;\n",
              "    }\n",
              "\n",
              "    .dataframe tbody tr th {\n",
              "        vertical-align: top;\n",
              "    }\n",
              "\n",
              "    .dataframe thead th {\n",
              "        text-align: right;\n",
              "    }\n",
              "</style>\n",
              "<table border=\"1\" class=\"dataframe\">\n",
              "  <thead>\n",
              "    <tr style=\"text-align: right;\">\n",
              "      <th></th>\n",
              "      <th>Date received</th>\n",
              "      <th>Product</th>\n",
              "      <th>Sub-product</th>\n",
              "      <th>Issue</th>\n",
              "      <th>Sub-issue</th>\n",
              "      <th>Consumer Complaint</th>\n",
              "      <th>Company Public Response</th>\n",
              "      <th>Company</th>\n",
              "      <th>State</th>\n",
              "      <th>ZIP code</th>\n",
              "      <th>Tags</th>\n",
              "      <th>Consumer consent provided?</th>\n",
              "      <th>Submitted via</th>\n",
              "      <th>Date Sent to Company</th>\n",
              "      <th>Company Response to Consumer</th>\n",
              "      <th>Timely response?</th>\n",
              "      <th>Consumer disputed?</th>\n",
              "      <th>Complaint ID</th>\n",
              "      <th>Unnamed: 18</th>\n",
              "    </tr>\n",
              "  </thead>\n",
              "  <tbody>\n",
              "    <tr>\n",
              "      <th>0</th>\n",
              "      <td>03-12-2014</td>\n",
              "      <td>Mortgage</td>\n",
              "      <td>Other mortgage</td>\n",
              "      <td>Loan modification,collection,foreclosure</td>\n",
              "      <td>NaN</td>\n",
              "      <td>NaN</td>\n",
              "      <td>NaN</td>\n",
              "      <td>M&amp;T BANK CORPORATION</td>\n",
              "      <td>MI</td>\n",
              "      <td>48382</td>\n",
              "      <td>NaN</td>\n",
              "      <td>NaN</td>\n",
              "      <td>Referral</td>\n",
              "      <td>03/17/2014</td>\n",
              "      <td>Closed with explanation</td>\n",
              "      <td>Yes</td>\n",
              "      <td>No</td>\n",
              "      <td>759217</td>\n",
              "      <td>NaN</td>\n",
              "    </tr>\n",
              "    <tr>\n",
              "      <th>1</th>\n",
              "      <td>10-01-2016</td>\n",
              "      <td>Credit reporting</td>\n",
              "      <td>NaN</td>\n",
              "      <td>Incorrect information on credit report</td>\n",
              "      <td>Account status</td>\n",
              "      <td>I have outdated information on my credit repor...</td>\n",
              "      <td>Company has responded to the consumer and the ...</td>\n",
              "      <td>TRANSUNION INTERMEDIATE HOLDINGS, INC.</td>\n",
              "      <td>AL</td>\n",
              "      <td>352XX</td>\n",
              "      <td>NaN</td>\n",
              "      <td>Consent provided</td>\n",
              "      <td>Web</td>\n",
              "      <td>10-05-2016</td>\n",
              "      <td>Closed with explanation</td>\n",
              "      <td>Yes</td>\n",
              "      <td>No</td>\n",
              "      <td>2141773</td>\n",
              "      <td>NaN</td>\n",
              "    </tr>\n",
              "    <tr>\n",
              "      <th>2</th>\n",
              "      <td>10/17/2016</td>\n",
              "      <td>Consumer Loan</td>\n",
              "      <td>Vehicle loan</td>\n",
              "      <td>Managing the loan or lease</td>\n",
              "      <td>NaN</td>\n",
              "      <td>I purchased a new car on XXXX XXXX. The car de...</td>\n",
              "      <td>NaN</td>\n",
              "      <td>CITIZENS FINANCIAL GROUP, INC.</td>\n",
              "      <td>PA</td>\n",
              "      <td>177XX</td>\n",
              "      <td>Older American</td>\n",
              "      <td>Consent provided</td>\n",
              "      <td>Web</td>\n",
              "      <td>10/20/2016</td>\n",
              "      <td>Closed with explanation</td>\n",
              "      <td>Yes</td>\n",
              "      <td>No</td>\n",
              "      <td>2163100</td>\n",
              "      <td>NaN</td>\n",
              "    </tr>\n",
              "    <tr>\n",
              "      <th>3</th>\n",
              "      <td>06-08-2014</td>\n",
              "      <td>Credit card</td>\n",
              "      <td>NaN</td>\n",
              "      <td>Bankruptcy</td>\n",
              "      <td>NaN</td>\n",
              "      <td>NaN</td>\n",
              "      <td>NaN</td>\n",
              "      <td>AMERICAN EXPRESS COMPANY</td>\n",
              "      <td>ID</td>\n",
              "      <td>83854</td>\n",
              "      <td>Older American</td>\n",
              "      <td>NaN</td>\n",
              "      <td>Web</td>\n",
              "      <td>06-10-2014</td>\n",
              "      <td>Closed with explanation</td>\n",
              "      <td>Yes</td>\n",
              "      <td>Yes</td>\n",
              "      <td>885638</td>\n",
              "      <td>NaN</td>\n",
              "    </tr>\n",
              "    <tr>\n",
              "      <th>4</th>\n",
              "      <td>09/13/2014</td>\n",
              "      <td>Debt collection</td>\n",
              "      <td>Credit card</td>\n",
              "      <td>Communication tactics</td>\n",
              "      <td>Frequent or repeated calls</td>\n",
              "      <td>NaN</td>\n",
              "      <td>NaN</td>\n",
              "      <td>CITIBANK, N.A.</td>\n",
              "      <td>VA</td>\n",
              "      <td>23233</td>\n",
              "      <td>NaN</td>\n",
              "      <td>NaN</td>\n",
              "      <td>Web</td>\n",
              "      <td>09/13/2014</td>\n",
              "      <td>Closed with explanation</td>\n",
              "      <td>Yes</td>\n",
              "      <td>Yes</td>\n",
              "      <td>1027760</td>\n",
              "      <td>NaN</td>\n",
              "    </tr>\n",
              "  </tbody>\n",
              "</table>\n",
              "</div>\n",
              "      <button class=\"colab-df-convert\" onclick=\"convertToInteractive('df-581c73ba-c43d-431e-8276-9d432b3f0998')\"\n",
              "              title=\"Convert this dataframe to an interactive table.\"\n",
              "              style=\"display:none;\">\n",
              "        \n",
              "  <svg xmlns=\"http://www.w3.org/2000/svg\" height=\"24px\"viewBox=\"0 0 24 24\"\n",
              "       width=\"24px\">\n",
              "    <path d=\"M0 0h24v24H0V0z\" fill=\"none\"/>\n",
              "    <path d=\"M18.56 5.44l.94 2.06.94-2.06 2.06-.94-2.06-.94-.94-2.06-.94 2.06-2.06.94zm-11 1L8.5 8.5l.94-2.06 2.06-.94-2.06-.94L8.5 2.5l-.94 2.06-2.06.94zm10 10l.94 2.06.94-2.06 2.06-.94-2.06-.94-.94-2.06-.94 2.06-2.06.94z\"/><path d=\"M17.41 7.96l-1.37-1.37c-.4-.4-.92-.59-1.43-.59-.52 0-1.04.2-1.43.59L10.3 9.45l-7.72 7.72c-.78.78-.78 2.05 0 2.83L4 21.41c.39.39.9.59 1.41.59.51 0 1.02-.2 1.41-.59l7.78-7.78 2.81-2.81c.8-.78.8-2.07 0-2.86zM5.41 20L4 18.59l7.72-7.72 1.47 1.35L5.41 20z\"/>\n",
              "  </svg>\n",
              "      </button>\n",
              "      \n",
              "  <style>\n",
              "    .colab-df-container {\n",
              "      display:flex;\n",
              "      flex-wrap:wrap;\n",
              "      gap: 12px;\n",
              "    }\n",
              "\n",
              "    .colab-df-convert {\n",
              "      background-color: #E8F0FE;\n",
              "      border: none;\n",
              "      border-radius: 50%;\n",
              "      cursor: pointer;\n",
              "      display: none;\n",
              "      fill: #1967D2;\n",
              "      height: 32px;\n",
              "      padding: 0 0 0 0;\n",
              "      width: 32px;\n",
              "    }\n",
              "\n",
              "    .colab-df-convert:hover {\n",
              "      background-color: #E2EBFA;\n",
              "      box-shadow: 0px 1px 2px rgba(60, 64, 67, 0.3), 0px 1px 3px 1px rgba(60, 64, 67, 0.15);\n",
              "      fill: #174EA6;\n",
              "    }\n",
              "\n",
              "    [theme=dark] .colab-df-convert {\n",
              "      background-color: #3B4455;\n",
              "      fill: #D2E3FC;\n",
              "    }\n",
              "\n",
              "    [theme=dark] .colab-df-convert:hover {\n",
              "      background-color: #434B5C;\n",
              "      box-shadow: 0px 1px 3px 1px rgba(0, 0, 0, 0.15);\n",
              "      filter: drop-shadow(0px 1px 2px rgba(0, 0, 0, 0.3));\n",
              "      fill: #FFFFFF;\n",
              "    }\n",
              "  </style>\n",
              "\n",
              "      <script>\n",
              "        const buttonEl =\n",
              "          document.querySelector('#df-581c73ba-c43d-431e-8276-9d432b3f0998 button.colab-df-convert');\n",
              "        buttonEl.style.display =\n",
              "          google.colab.kernel.accessAllowed ? 'block' : 'none';\n",
              "\n",
              "        async function convertToInteractive(key) {\n",
              "          const element = document.querySelector('#df-581c73ba-c43d-431e-8276-9d432b3f0998');\n",
              "          const dataTable =\n",
              "            await google.colab.kernel.invokeFunction('convertToInteractive',\n",
              "                                                     [key], {});\n",
              "          if (!dataTable) return;\n",
              "\n",
              "          const docLinkHtml = 'Like what you see? Visit the ' +\n",
              "            '<a target=\"_blank\" href=https://colab.research.google.com/notebooks/data_table.ipynb>data table notebook</a>'\n",
              "            + ' to learn more about interactive tables.';\n",
              "          element.innerHTML = '';\n",
              "          dataTable['output_type'] = 'display_data';\n",
              "          await google.colab.output.renderOutput(dataTable, element);\n",
              "          const docLink = document.createElement('div');\n",
              "          docLink.innerHTML = docLinkHtml;\n",
              "          element.appendChild(docLink);\n",
              "        }\n",
              "      </script>\n",
              "    </div>\n",
              "  </div>\n",
              "  "
            ]
          },
          "metadata": {},
          "execution_count": 9
        }
      ]
    },
    {
      "cell_type": "code",
      "source": [
        "print('Shape of data',data.shape)"
      ],
      "metadata": {
        "id": "dNII6VImc6Np",
        "outputId": "344f7bd7-dacb-4c0e-abbf-2d32bbc6b4ff",
        "colab": {
          "base_uri": "https://localhost:8080/"
        }
      },
      "execution_count": null,
      "outputs": [
        {
          "output_type": "stream",
          "name": "stdout",
          "text": [
            "Shape of data (1025010, 19)\n"
          ]
        }
      ]
    },
    {
      "cell_type": "code",
      "source": [
        "print('Shape of data',data.shape)"
      ],
      "metadata": {
        "id": "hnKAwX0ucgoQ",
        "outputId": "efa6e836-e5af-412a-f626-a10f2d561220",
        "colab": {
          "base_uri": "https://localhost:8080/"
        }
      },
      "execution_count": null,
      "outputs": [
        {
          "output_type": "stream",
          "name": "stdout",
          "text": [
            "Shape of data (1025010, 19)\n"
          ]
        }
      ]
    },
    {
      "cell_type": "code",
      "source": [
        "from sklearn.feature_extraction.text import TfidfVectorizer\n",
        "from sklearn.model_selection import train_test_split, cross_val_score\n",
        "from sklearn.preprocessing import LabelEncoder\n",
        "from sklearn.ensemble import RandomForestClassifier\n",
        "import pandas as pd"
      ],
      "metadata": {
        "id": "0tWcOBxLG_qh"
      },
      "execution_count": null,
      "outputs": []
    },
    {
      "cell_type": "code",
      "source": [
        "data['Product'].nunique()"
      ],
      "metadata": {
        "id": "BF0dPsWXHAdk",
        "colab": {
          "base_uri": "https://localhost:8080/"
        },
        "outputId": "284f0a45-c6c2-44c0-c58b-8fe708143ce0"
      },
      "execution_count": null,
      "outputs": [
        {
          "output_type": "execute_result",
          "data": {
            "text/plain": [
              "18"
            ]
          },
          "metadata": {},
          "execution_count": 13
        }
      ]
    },
    {
      "cell_type": "code",
      "source": [
        "print('Shape of data',data.shape)"
      ],
      "metadata": {
        "id": "1EbHSxgZHAgA",
        "colab": {
          "base_uri": "https://localhost:8080/"
        },
        "outputId": "766f5003-ead1-47a7-b926-ffb29f6153dd"
      },
      "execution_count": null,
      "outputs": [
        {
          "output_type": "stream",
          "name": "stdout",
          "text": [
            "Shape of data (1025010, 19)\n"
          ]
        }
      ]
    },
    {
      "cell_type": "code",
      "source": [
        "df=data[['Consumer Complaint','Product']]\n",
        "print('Shape of data',df.shape)"
      ],
      "metadata": {
        "id": "yhV8pLUtHAic",
        "colab": {
          "base_uri": "https://localhost:8080/"
        },
        "outputId": "8389018d-fd5f-4383-85da-24342917adca"
      },
      "execution_count": null,
      "outputs": [
        {
          "output_type": "stream",
          "name": "stdout",
          "text": [
            "Shape of data (1025010, 2)\n"
          ]
        }
      ]
    },
    {
      "cell_type": "code",
      "source": [
        "# n = 900000\n",
        "\n",
        "# # Dropping last n rows using drop\n",
        "# df.drop(df.tail(n).index,\n",
        "#         inplace = True)\n",
        "\n",
        "# # Printing dataframe\n",
        "# print(df)"
      ],
      "metadata": {
        "id": "c5kwRn6-guaq"
      },
      "execution_count": null,
      "outputs": []
    },
    {
      "cell_type": "code",
      "source": [],
      "metadata": {
        "id": "sxBtYTTUgufh"
      },
      "execution_count": null,
      "outputs": []
    },
    {
      "cell_type": "code",
      "source": [
        "print('Before dropping the nulls')\n",
        "display('Null count', df.isna().sum())\n",
        "print('Total rows of data', len(df))\n",
        "df.dropna(inplace=True)\n",
        "print('='*80)\n",
        "print('After dropping the nulls')\n",
        "display('Null count', df.isna().sum())\n",
        "print('Total rows of data', len(df))"
      ],
      "metadata": {
        "id": "QQ-W6BwWHV2x",
        "colab": {
          "base_uri": "https://localhost:8080/",
          "height": 331
        },
        "outputId": "2ca69dd8-d9b2-46aa-f004-ea69ca4a799c"
      },
      "execution_count": null,
      "outputs": [
        {
          "output_type": "stream",
          "name": "stdout",
          "text": [
            "Before dropping the nulls\n"
          ]
        },
        {
          "output_type": "display_data",
          "data": {
            "text/plain": [
              "'Null count'"
            ],
            "application/vnd.google.colaboratory.intrinsic+json": {
              "type": "string"
            }
          },
          "metadata": {}
        },
        {
          "output_type": "display_data",
          "data": {
            "text/plain": [
              "Consumer Complaint    747196\n",
              "Product                    0\n",
              "dtype: int64"
            ]
          },
          "metadata": {}
        },
        {
          "output_type": "stream",
          "name": "stdout",
          "text": [
            "Total rows of data 1025010\n",
            "================================================================================\n",
            "After dropping the nulls\n"
          ]
        },
        {
          "output_type": "stream",
          "name": "stderr",
          "text": [
            "<ipython-input-17-305aa8f701af>:4: SettingWithCopyWarning: \n",
            "A value is trying to be set on a copy of a slice from a DataFrame\n",
            "\n",
            "See the caveats in the documentation: https://pandas.pydata.org/pandas-docs/stable/user_guide/indexing.html#returning-a-view-versus-a-copy\n",
            "  df.dropna(inplace=True)\n"
          ]
        },
        {
          "output_type": "display_data",
          "data": {
            "text/plain": [
              "'Null count'"
            ],
            "application/vnd.google.colaboratory.intrinsic+json": {
              "type": "string"
            }
          },
          "metadata": {}
        },
        {
          "output_type": "display_data",
          "data": {
            "text/plain": [
              "Consumer Complaint    0\n",
              "Product               0\n",
              "dtype: int64"
            ]
          },
          "metadata": {}
        },
        {
          "output_type": "stream",
          "name": "stdout",
          "text": [
            "Total rows of data 277814\n"
          ]
        }
      ]
    },
    {
      "cell_type": "code",
      "source": [
        "print('Shape of data',df.shape)"
      ],
      "metadata": {
        "id": "LPEof6beHUYD",
        "colab": {
          "base_uri": "https://localhost:8080/"
        },
        "outputId": "af00b2d9-86c1-4874-9437-992ca48ee5f6"
      },
      "execution_count": null,
      "outputs": [
        {
          "output_type": "stream",
          "name": "stdout",
          "text": [
            "Shape of data (277814, 2)\n"
          ]
        }
      ]
    },
    {
      "cell_type": "code",
      "source": [
        "df.tail()"
      ],
      "metadata": {
        "id": "JEsNat17HaIi",
        "colab": {
          "base_uri": "https://localhost:8080/",
          "height": 206
        },
        "outputId": "edd7b574-c6f2-4ff3-ef17-c7ec2b11e2bf"
      },
      "execution_count": null,
      "outputs": [
        {
          "output_type": "execute_result",
          "data": {
            "text/plain": [
              "                                        Consumer Complaint  \\\n",
              "1025002  Our son was taken to XXXX XXXX XXXX XXXX XXXX ...   \n",
              "1025003  On XXXX/XXXX/13, without my authorization, Ban...   \n",
              "1025006  I had an account with XXXX in XX/XX/XXXX this ...   \n",
              "1025007  I was contacted on XX/XX/XXXX email by XXXX fr...   \n",
              "1025009  I had a debit that was included in my chapter ...   \n",
              "\n",
              "                         Product  \n",
              "1025002          Debt collection  \n",
              "1025003  Bank account or service  \n",
              "1025006          Debt collection  \n",
              "1025007                 Mortgage  \n",
              "1025009          Debt collection  "
            ],
            "text/html": [
              "\n",
              "  <div id=\"df-4f611db6-f461-447b-af9b-f2ac7ff0129f\">\n",
              "    <div class=\"colab-df-container\">\n",
              "      <div>\n",
              "<style scoped>\n",
              "    .dataframe tbody tr th:only-of-type {\n",
              "        vertical-align: middle;\n",
              "    }\n",
              "\n",
              "    .dataframe tbody tr th {\n",
              "        vertical-align: top;\n",
              "    }\n",
              "\n",
              "    .dataframe thead th {\n",
              "        text-align: right;\n",
              "    }\n",
              "</style>\n",
              "<table border=\"1\" class=\"dataframe\">\n",
              "  <thead>\n",
              "    <tr style=\"text-align: right;\">\n",
              "      <th></th>\n",
              "      <th>Consumer Complaint</th>\n",
              "      <th>Product</th>\n",
              "    </tr>\n",
              "  </thead>\n",
              "  <tbody>\n",
              "    <tr>\n",
              "      <th>1025002</th>\n",
              "      <td>Our son was taken to XXXX XXXX XXXX XXXX XXXX ...</td>\n",
              "      <td>Debt collection</td>\n",
              "    </tr>\n",
              "    <tr>\n",
              "      <th>1025003</th>\n",
              "      <td>On XXXX/XXXX/13, without my authorization, Ban...</td>\n",
              "      <td>Bank account or service</td>\n",
              "    </tr>\n",
              "    <tr>\n",
              "      <th>1025006</th>\n",
              "      <td>I had an account with XXXX in XX/XX/XXXX this ...</td>\n",
              "      <td>Debt collection</td>\n",
              "    </tr>\n",
              "    <tr>\n",
              "      <th>1025007</th>\n",
              "      <td>I was contacted on XX/XX/XXXX email by XXXX fr...</td>\n",
              "      <td>Mortgage</td>\n",
              "    </tr>\n",
              "    <tr>\n",
              "      <th>1025009</th>\n",
              "      <td>I had a debit that was included in my chapter ...</td>\n",
              "      <td>Debt collection</td>\n",
              "    </tr>\n",
              "  </tbody>\n",
              "</table>\n",
              "</div>\n",
              "      <button class=\"colab-df-convert\" onclick=\"convertToInteractive('df-4f611db6-f461-447b-af9b-f2ac7ff0129f')\"\n",
              "              title=\"Convert this dataframe to an interactive table.\"\n",
              "              style=\"display:none;\">\n",
              "        \n",
              "  <svg xmlns=\"http://www.w3.org/2000/svg\" height=\"24px\"viewBox=\"0 0 24 24\"\n",
              "       width=\"24px\">\n",
              "    <path d=\"M0 0h24v24H0V0z\" fill=\"none\"/>\n",
              "    <path d=\"M18.56 5.44l.94 2.06.94-2.06 2.06-.94-2.06-.94-.94-2.06-.94 2.06-2.06.94zm-11 1L8.5 8.5l.94-2.06 2.06-.94-2.06-.94L8.5 2.5l-.94 2.06-2.06.94zm10 10l.94 2.06.94-2.06 2.06-.94-2.06-.94-.94-2.06-.94 2.06-2.06.94z\"/><path d=\"M17.41 7.96l-1.37-1.37c-.4-.4-.92-.59-1.43-.59-.52 0-1.04.2-1.43.59L10.3 9.45l-7.72 7.72c-.78.78-.78 2.05 0 2.83L4 21.41c.39.39.9.59 1.41.59.51 0 1.02-.2 1.41-.59l7.78-7.78 2.81-2.81c.8-.78.8-2.07 0-2.86zM5.41 20L4 18.59l7.72-7.72 1.47 1.35L5.41 20z\"/>\n",
              "  </svg>\n",
              "      </button>\n",
              "      \n",
              "  <style>\n",
              "    .colab-df-container {\n",
              "      display:flex;\n",
              "      flex-wrap:wrap;\n",
              "      gap: 12px;\n",
              "    }\n",
              "\n",
              "    .colab-df-convert {\n",
              "      background-color: #E8F0FE;\n",
              "      border: none;\n",
              "      border-radius: 50%;\n",
              "      cursor: pointer;\n",
              "      display: none;\n",
              "      fill: #1967D2;\n",
              "      height: 32px;\n",
              "      padding: 0 0 0 0;\n",
              "      width: 32px;\n",
              "    }\n",
              "\n",
              "    .colab-df-convert:hover {\n",
              "      background-color: #E2EBFA;\n",
              "      box-shadow: 0px 1px 2px rgba(60, 64, 67, 0.3), 0px 1px 3px 1px rgba(60, 64, 67, 0.15);\n",
              "      fill: #174EA6;\n",
              "    }\n",
              "\n",
              "    [theme=dark] .colab-df-convert {\n",
              "      background-color: #3B4455;\n",
              "      fill: #D2E3FC;\n",
              "    }\n",
              "\n",
              "    [theme=dark] .colab-df-convert:hover {\n",
              "      background-color: #434B5C;\n",
              "      box-shadow: 0px 1px 3px 1px rgba(0, 0, 0, 0.15);\n",
              "      filter: drop-shadow(0px 1px 2px rgba(0, 0, 0, 0.3));\n",
              "      fill: #FFFFFF;\n",
              "    }\n",
              "  </style>\n",
              "\n",
              "      <script>\n",
              "        const buttonEl =\n",
              "          document.querySelector('#df-4f611db6-f461-447b-af9b-f2ac7ff0129f button.colab-df-convert');\n",
              "        buttonEl.style.display =\n",
              "          google.colab.kernel.accessAllowed ? 'block' : 'none';\n",
              "\n",
              "        async function convertToInteractive(key) {\n",
              "          const element = document.querySelector('#df-4f611db6-f461-447b-af9b-f2ac7ff0129f');\n",
              "          const dataTable =\n",
              "            await google.colab.kernel.invokeFunction('convertToInteractive',\n",
              "                                                     [key], {});\n",
              "          if (!dataTable) return;\n",
              "\n",
              "          const docLinkHtml = 'Like what you see? Visit the ' +\n",
              "            '<a target=\"_blank\" href=https://colab.research.google.com/notebooks/data_table.ipynb>data table notebook</a>'\n",
              "            + ' to learn more about interactive tables.';\n",
              "          element.innerHTML = '';\n",
              "          dataTable['output_type'] = 'display_data';\n",
              "          await google.colab.output.renderOutput(dataTable, element);\n",
              "          const docLink = document.createElement('div');\n",
              "          docLink.innerHTML = docLinkHtml;\n",
              "          element.appendChild(docLink);\n",
              "        }\n",
              "      </script>\n",
              "    </div>\n",
              "  </div>\n",
              "  "
            ]
          },
          "metadata": {},
          "execution_count": 19
        }
      ]
    },
    {
      "cell_type": "code",
      "source": [
        "df['Product'].nunique()"
      ],
      "metadata": {
        "id": "DiClk0F2HVvw",
        "colab": {
          "base_uri": "https://localhost:8080/"
        },
        "outputId": "b4aa3328-2ae3-42e9-e4bb-8dc282c6ad1c"
      },
      "execution_count": null,
      "outputs": [
        {
          "output_type": "execute_result",
          "data": {
            "text/plain": [
              "18"
            ]
          },
          "metadata": {},
          "execution_count": 20
        }
      ]
    },
    {
      "cell_type": "code",
      "source": [
        "# df['Consumer Complaint'][0]"
      ],
      "metadata": {
        "id": "FvRcKsfQHbbk"
      },
      "execution_count": null,
      "outputs": []
    },
    {
      "cell_type": "code",
      "source": [
        "list(df.Product.unique())"
      ],
      "metadata": {
        "id": "mqoURfQFHwtR",
        "colab": {
          "base_uri": "https://localhost:8080/"
        },
        "outputId": "211d6a95-c743-4a73-ecc5-2643f696d14e"
      },
      "execution_count": null,
      "outputs": [
        {
          "output_type": "execute_result",
          "data": {
            "text/plain": [
              "['Credit reporting',\n",
              " 'Consumer Loan',\n",
              " 'Debt collection',\n",
              " 'Mortgage',\n",
              " 'Credit card',\n",
              " 'Other financial service',\n",
              " 'Bank account or service',\n",
              " 'Student loan',\n",
              " 'Money transfers',\n",
              " 'Payday loan',\n",
              " 'Prepaid card',\n",
              " 'Money transfer, virtual currency, or money service',\n",
              " 'Credit reporting, credit repair services, or other personal consumer reports',\n",
              " 'Checking or savings account',\n",
              " 'Vehicle loan or lease',\n",
              " 'Credit card or prepaid card',\n",
              " 'Virtual currency',\n",
              " 'Payday loan, title loan, or personal loan']"
            ]
          },
          "metadata": {},
          "execution_count": 22
        }
      ]
    },
    {
      "cell_type": "code",
      "source": [
        "df['Product'].value_counts()"
      ],
      "metadata": {
        "id": "0VQKal7vHzuo",
        "colab": {
          "base_uri": "https://localhost:8080/"
        },
        "outputId": "dc42bf8c-bbf2-4099-a0bb-612f26a63f79"
      },
      "execution_count": null,
      "outputs": [
        {
          "output_type": "execute_result",
          "data": {
            "text/plain": [
              "Debt collection                                                                 63268\n",
              "Credit reporting, credit repair services, or other personal consumer reports    49006\n",
              "Mortgage                                                                        43837\n",
              "Credit reporting                                                                31593\n",
              "Credit card                                                                     18842\n",
              "Student loan                                                                    16689\n",
              "Bank account or service                                                         14887\n",
              "Credit card or prepaid card                                                     10659\n",
              "Consumer Loan                                                                    9474\n",
              "Checking or savings account                                                      6489\n",
              "Money transfer, virtual currency, or money service                               3089\n",
              "Vehicle loan or lease                                                            2791\n",
              "Payday loan, title loan, or personal loan                                        2186\n",
              "Payday loan                                                                      1748\n",
              "Money transfers                                                                  1497\n",
              "Prepaid card                                                                     1450\n",
              "Other financial service                                                           293\n",
              "Virtual currency                                                                   16\n",
              "Name: Product, dtype: int64"
            ]
          },
          "metadata": {},
          "execution_count": 23
        }
      ]
    },
    {
      "cell_type": "code",
      "source": [
        "X_train, X_test, y_train, y_test = train_test_split(\n",
        "                                            df['Consumer Complaint'], df['Product'],\n",
        "                                            test_size=0.25, random_state=0, stratify=df['Product'])\n",
        "print(f'Training utterances: {len(X_train)} of shape {X_train.shape}')\n",
        "print(f'Validation utterances: {len(X_test)} of shape {X_test.shape}')"
      ],
      "metadata": {
        "id": "XOgGTN-gH3d2",
        "colab": {
          "base_uri": "https://localhost:8080/"
        },
        "outputId": "d2b857eb-2ce0-4a73-9107-670599c96da0"
      },
      "execution_count": null,
      "outputs": [
        {
          "output_type": "stream",
          "name": "stdout",
          "text": [
            "Training utterances: 208360 of shape (208360,)\n",
            "Validation utterances: 69454 of shape (69454,)\n"
          ]
        }
      ]
    },
    {
      "cell_type": "code",
      "source": [
        "display(y_train.value_counts())"
      ],
      "metadata": {
        "id": "Dv3cRrjdH6au",
        "colab": {
          "base_uri": "https://localhost:8080/",
          "height": 347
        },
        "outputId": "ce9dd985-da9d-4611-d9da-016194db734d"
      },
      "execution_count": null,
      "outputs": [
        {
          "output_type": "display_data",
          "data": {
            "text/plain": [
              "Debt collection                                                                 47451\n",
              "Credit reporting, credit repair services, or other personal consumer reports    36754\n",
              "Mortgage                                                                        32878\n",
              "Credit reporting                                                                23695\n",
              "Credit card                                                                     14131\n",
              "Student loan                                                                    12517\n",
              "Bank account or service                                                         11165\n",
              "Credit card or prepaid card                                                      7994\n",
              "Consumer Loan                                                                    7105\n",
              "Checking or savings account                                                      4867\n",
              "Money transfer, virtual currency, or money service                               2317\n",
              "Vehicle loan or lease                                                            2093\n",
              "Payday loan, title loan, or personal loan                                        1639\n",
              "Payday loan                                                                      1311\n",
              "Money transfers                                                                  1123\n",
              "Prepaid card                                                                     1088\n",
              "Other financial service                                                           220\n",
              "Virtual currency                                                                   12\n",
              "Name: Product, dtype: int64"
            ]
          },
          "metadata": {}
        }
      ]
    },
    {
      "cell_type": "code",
      "source": [
        "display(y_test.value_counts())"
      ],
      "metadata": {
        "id": "H-yXZtw7H7RV",
        "colab": {
          "base_uri": "https://localhost:8080/",
          "height": 347
        },
        "outputId": "e835e10c-0604-4668-f840-d81fe203033d"
      },
      "execution_count": null,
      "outputs": [
        {
          "output_type": "display_data",
          "data": {
            "text/plain": [
              "Debt collection                                                                 15817\n",
              "Credit reporting, credit repair services, or other personal consumer reports    12252\n",
              "Mortgage                                                                        10959\n",
              "Credit reporting                                                                 7898\n",
              "Credit card                                                                      4711\n",
              "Student loan                                                                     4172\n",
              "Bank account or service                                                          3722\n",
              "Credit card or prepaid card                                                      2665\n",
              "Consumer Loan                                                                    2369\n",
              "Checking or savings account                                                      1622\n",
              "Money transfer, virtual currency, or money service                                772\n",
              "Vehicle loan or lease                                                             698\n",
              "Payday loan, title loan, or personal loan                                         547\n",
              "Payday loan                                                                       437\n",
              "Money transfers                                                                   374\n",
              "Prepaid card                                                                      362\n",
              "Other financial service                                                            73\n",
              "Virtual currency                                                                    4\n",
              "Name: Product, dtype: int64"
            ]
          },
          "metadata": {}
        }
      ]
    },
    {
      "cell_type": "code",
      "source": [
        "vectorizer = TfidfVectorizer(stop_words= 'english')\n",
        "# convert the documents into a matrix\n",
        "X_train_vec = vectorizer.fit_transform(X_train)\n",
        "X_test_vec  = vectorizer.transform(X_test)\n",
        "X_train_vec, X_test_vec"
      ],
      "metadata": {
        "id": "8KeG50c8ICCZ",
        "colab": {
          "base_uri": "https://localhost:8080/"
        },
        "outputId": "93a855c2-9d8b-4803-8e42-d6e1fd3b113d"
      },
      "execution_count": null,
      "outputs": [
        {
          "output_type": "execute_result",
          "data": {
            "text/plain": [
              "(<208360x86532 sparse matrix of type '<class 'numpy.float64'>'\n",
              " \twith 11350978 stored elements in Compressed Sparse Row format>,\n",
              " <69454x86532 sparse matrix of type '<class 'numpy.float64'>'\n",
              " \twith 3762638 stored elements in Compressed Sparse Row format>)"
            ]
          },
          "metadata": {},
          "execution_count": 27
        }
      ]
    },
    {
      "cell_type": "code",
      "source": [
        "print(X_train_vec)"
      ],
      "metadata": {
        "colab": {
          "base_uri": "https://localhost:8080/"
        },
        "id": "RZXcJJ9rXy49",
        "outputId": "06553f08-c3ae-484d-a3ba-7966a15af579"
      },
      "execution_count": null,
      "outputs": [
        {
          "output_type": "stream",
          "name": "stdout",
          "text": [
            "  (0, 20418)\t0.1477539061025849\n",
            "  (0, 64384)\t0.1271806722048825\n",
            "  (0, 29756)\t0.3684903182182152\n",
            "  (0, 19856)\t0.15361928063324332\n",
            "  (0, 10157)\t0.23677683511919237\n",
            "  (0, 64390)\t0.13006209998621235\n",
            "  (0, 34423)\t0.2714164745570698\n",
            "  (0, 40599)\t0.27209399717260746\n",
            "  (0, 39576)\t0.17110296947938333\n",
            "  (0, 21191)\t0.06601713268297214\n",
            "  (0, 63955)\t0.2633166497023978\n",
            "  (0, 9603)\t0.20044049813995068\n",
            "  (0, 62677)\t0.14912643479241197\n",
            "  (0, 5775)\t0.24243029084139978\n",
            "  (0, 63744)\t0.19781118960317726\n",
            "  (0, 71393)\t0.18678609770446955\n",
            "  (0, 64419)\t0.19240743494263468\n",
            "  (0, 36459)\t0.20217935775275572\n",
            "  (0, 32264)\t0.13998868497489883\n",
            "  (0, 30718)\t0.25645684244338895\n",
            "  (0, 76290)\t0.11818324612507772\n",
            "  (0, 52352)\t0.16617994202405892\n",
            "  (0, 50559)\t0.1874864084708512\n",
            "  (0, 70883)\t0.20917490473900416\n",
            "  (1, 84491)\t0.071366274539557\n",
            "  :\t:\n",
            "  (208359, 66480)\t0.1397467003868921\n",
            "  (208359, 56338)\t0.10843409205784414\n",
            "  (208359, 1147)\t0.15243893048284687\n",
            "  (208359, 55749)\t0.3341388299186065\n",
            "  (208359, 75933)\t0.14608044816203428\n",
            "  (208359, 71564)\t0.09534994925377152\n",
            "  (208359, 36905)\t0.12991764415970106\n",
            "  (208359, 45709)\t0.2071009225261821\n",
            "  (208359, 12437)\t0.1426901049483373\n",
            "  (208359, 42715)\t0.13178431718694794\n",
            "  (208359, 8355)\t0.14170362824428837\n",
            "  (208359, 55593)\t0.09964174391683096\n",
            "  (208359, 55718)\t0.07286664494889371\n",
            "  (208359, 76589)\t0.10049512386505617\n",
            "  (208359, 54585)\t0.1432304880740784\n",
            "  (208359, 21816)\t0.12157603974703726\n",
            "  (208359, 61632)\t0.06398301115299254\n",
            "  (208359, 45645)\t0.07022454190884572\n",
            "  (208359, 18381)\t0.20268778052197692\n",
            "  (208359, 17774)\t0.10973703061505688\n",
            "  (208359, 24582)\t0.061203209213561066\n",
            "  (208359, 55140)\t0.07479457284061687\n",
            "  (208359, 11357)\t0.11909108162320545\n",
            "  (208359, 84483)\t0.13524765644186987\n",
            "  (208359, 22525)\t0.07310601631389123\n"
          ]
        }
      ]
    },
    {
      "cell_type": "code",
      "source": [
        "from sklearn.feature_selection import SelectKBest, chi2\n",
        "\n",
        "n_features=100\n",
        "\n",
        "ch2 = SelectKBest(chi2, k=n_features)\n",
        "X_train_sp = ch2.fit_transform(X_train_vec, y_train)\n",
        "X_test_sp  = ch2.transform(X_test_vec)\n",
        "\n",
        "X_train_sp, X_test_sp"
      ],
      "metadata": {
        "id": "yZ_lm7H2IJYt",
        "colab": {
          "base_uri": "https://localhost:8080/"
        },
        "outputId": "cae2c25f-0b18-4f5c-a016-ba455a478948"
      },
      "execution_count": null,
      "outputs": [
        {
          "output_type": "execute_result",
          "data": {
            "text/plain": [
              "(<208360x100 sparse matrix of type '<class 'numpy.float64'>'\n",
              " \twith 1053924 stored elements in Compressed Sparse Row format>,\n",
              " <69454x100 sparse matrix of type '<class 'numpy.float64'>'\n",
              " \twith 350184 stored elements in Compressed Sparse Row format>)"
            ]
          },
          "metadata": {},
          "execution_count": 29
        }
      ]
    },
    {
      "cell_type": "code",
      "source": [
        "cols = list(range(n_features))\n",
        "\n",
        "X_train_dense = pd.DataFrame(data=X_train_sp.toarray(), columns=cols)\n",
        "X_test_dense  = pd.DataFrame(data=X_test_sp.toarray(), columns=cols)\n",
        "print(X_train_dense.shape, X_test_dense.shape)\n",
        "X_train_dense"
      ],
      "metadata": {
        "id": "dVMyQG-YINIr",
        "colab": {
          "base_uri": "https://localhost:8080/",
          "height": 441
        },
        "outputId": "03d54eaa-bc6b-4f32-9842-9329e94c8f6b"
      },
      "execution_count": null,
      "outputs": [
        {
          "output_type": "stream",
          "name": "stdout",
          "text": [
            "(208360, 100) (69454, 100)\n"
          ]
        },
        {
          "output_type": "execute_result",
          "data": {
            "text/plain": [
              "              0         1    2    3    4    5    6    7         8    9   ...  \\\n",
              "0       0.000000  0.000000  0.0  0.0  0.0  0.0  0.0  0.0  0.000000  0.0  ...   \n",
              "1       0.112384  0.000000  0.0  0.0  0.0  0.0  0.0  0.0  0.000000  0.0  ...   \n",
              "2       0.000000  0.000000  0.0  0.0  0.0  0.0  0.0  0.0  0.000000  0.0  ...   \n",
              "3       0.000000  0.000000  0.0  0.0  0.0  0.0  0.0  0.0  0.000000  0.0  ...   \n",
              "4       0.000000  0.000000  0.0  0.0  0.0  0.0  0.0  0.0  0.000000  0.0  ...   \n",
              "...          ...       ...  ...  ...  ...  ...  ...  ...       ...  ...  ...   \n",
              "208355  0.000000  0.000000  0.0  0.0  0.0  0.0  0.0  0.0  0.000000  0.0  ...   \n",
              "208356  0.000000  0.000000  0.0  0.0  0.0  0.0  0.0  0.0  0.054086  0.0  ...   \n",
              "208357  0.111092  0.095295  0.0  0.0  0.0  0.0  0.0  0.0  0.000000  0.0  ...   \n",
              "208358  0.092511  0.000000  0.0  0.0  0.0  0.0  0.0  0.0  0.000000  0.0  ...   \n",
              "208359  0.000000  0.000000  0.0  0.0  0.0  0.0  0.0  0.0  0.000000  0.0  ...   \n",
              "\n",
              "         90   91   92   93   94        95   96   97   98   99  \n",
              "0       0.0  0.0  0.0  0.0  0.0  0.000000  0.0  0.0  0.0  0.0  \n",
              "1       0.0  0.0  0.0  0.0  0.0  0.000000  0.0  0.0  0.0  0.0  \n",
              "2       0.0  0.0  0.0  0.0  0.0  0.000000  0.0  0.0  0.0  0.0  \n",
              "3       0.0  0.0  0.0  0.0  0.0  0.000000  0.0  0.0  0.0  0.0  \n",
              "4       0.0  0.0  0.0  0.0  0.0  0.000000  0.0  0.0  0.0  0.0  \n",
              "...     ...  ...  ...  ...  ...       ...  ...  ...  ...  ...  \n",
              "208355  0.0  0.0  0.0  0.0  0.0  0.000000  0.0  0.0  0.0  0.0  \n",
              "208356  0.0  0.0  0.0  0.0  0.0  0.352846  0.0  0.0  0.0  0.0  \n",
              "208357  0.0  0.0  0.0  0.0  0.0  0.000000  0.0  0.0  0.0  0.0  \n",
              "208358  0.0  0.0  0.0  0.0  0.0  0.000000  0.0  0.0  0.0  0.0  \n",
              "208359  0.0  0.0  0.0  0.0  0.0  0.000000  0.0  0.0  0.0  0.0  \n",
              "\n",
              "[208360 rows x 100 columns]"
            ],
            "text/html": [
              "\n",
              "  <div id=\"df-c0b19805-56cd-4143-ac35-c0066fc1cfe3\">\n",
              "    <div class=\"colab-df-container\">\n",
              "      <div>\n",
              "<style scoped>\n",
              "    .dataframe tbody tr th:only-of-type {\n",
              "        vertical-align: middle;\n",
              "    }\n",
              "\n",
              "    .dataframe tbody tr th {\n",
              "        vertical-align: top;\n",
              "    }\n",
              "\n",
              "    .dataframe thead th {\n",
              "        text-align: right;\n",
              "    }\n",
              "</style>\n",
              "<table border=\"1\" class=\"dataframe\">\n",
              "  <thead>\n",
              "    <tr style=\"text-align: right;\">\n",
              "      <th></th>\n",
              "      <th>0</th>\n",
              "      <th>1</th>\n",
              "      <th>2</th>\n",
              "      <th>3</th>\n",
              "      <th>4</th>\n",
              "      <th>5</th>\n",
              "      <th>6</th>\n",
              "      <th>7</th>\n",
              "      <th>8</th>\n",
              "      <th>9</th>\n",
              "      <th>...</th>\n",
              "      <th>90</th>\n",
              "      <th>91</th>\n",
              "      <th>92</th>\n",
              "      <th>93</th>\n",
              "      <th>94</th>\n",
              "      <th>95</th>\n",
              "      <th>96</th>\n",
              "      <th>97</th>\n",
              "      <th>98</th>\n",
              "      <th>99</th>\n",
              "    </tr>\n",
              "  </thead>\n",
              "  <tbody>\n",
              "    <tr>\n",
              "      <th>0</th>\n",
              "      <td>0.000000</td>\n",
              "      <td>0.000000</td>\n",
              "      <td>0.0</td>\n",
              "      <td>0.0</td>\n",
              "      <td>0.0</td>\n",
              "      <td>0.0</td>\n",
              "      <td>0.0</td>\n",
              "      <td>0.0</td>\n",
              "      <td>0.000000</td>\n",
              "      <td>0.0</td>\n",
              "      <td>...</td>\n",
              "      <td>0.0</td>\n",
              "      <td>0.0</td>\n",
              "      <td>0.0</td>\n",
              "      <td>0.0</td>\n",
              "      <td>0.0</td>\n",
              "      <td>0.000000</td>\n",
              "      <td>0.0</td>\n",
              "      <td>0.0</td>\n",
              "      <td>0.0</td>\n",
              "      <td>0.0</td>\n",
              "    </tr>\n",
              "    <tr>\n",
              "      <th>1</th>\n",
              "      <td>0.112384</td>\n",
              "      <td>0.000000</td>\n",
              "      <td>0.0</td>\n",
              "      <td>0.0</td>\n",
              "      <td>0.0</td>\n",
              "      <td>0.0</td>\n",
              "      <td>0.0</td>\n",
              "      <td>0.0</td>\n",
              "      <td>0.000000</td>\n",
              "      <td>0.0</td>\n",
              "      <td>...</td>\n",
              "      <td>0.0</td>\n",
              "      <td>0.0</td>\n",
              "      <td>0.0</td>\n",
              "      <td>0.0</td>\n",
              "      <td>0.0</td>\n",
              "      <td>0.000000</td>\n",
              "      <td>0.0</td>\n",
              "      <td>0.0</td>\n",
              "      <td>0.0</td>\n",
              "      <td>0.0</td>\n",
              "    </tr>\n",
              "    <tr>\n",
              "      <th>2</th>\n",
              "      <td>0.000000</td>\n",
              "      <td>0.000000</td>\n",
              "      <td>0.0</td>\n",
              "      <td>0.0</td>\n",
              "      <td>0.0</td>\n",
              "      <td>0.0</td>\n",
              "      <td>0.0</td>\n",
              "      <td>0.0</td>\n",
              "      <td>0.000000</td>\n",
              "      <td>0.0</td>\n",
              "      <td>...</td>\n",
              "      <td>0.0</td>\n",
              "      <td>0.0</td>\n",
              "      <td>0.0</td>\n",
              "      <td>0.0</td>\n",
              "      <td>0.0</td>\n",
              "      <td>0.000000</td>\n",
              "      <td>0.0</td>\n",
              "      <td>0.0</td>\n",
              "      <td>0.0</td>\n",
              "      <td>0.0</td>\n",
              "    </tr>\n",
              "    <tr>\n",
              "      <th>3</th>\n",
              "      <td>0.000000</td>\n",
              "      <td>0.000000</td>\n",
              "      <td>0.0</td>\n",
              "      <td>0.0</td>\n",
              "      <td>0.0</td>\n",
              "      <td>0.0</td>\n",
              "      <td>0.0</td>\n",
              "      <td>0.0</td>\n",
              "      <td>0.000000</td>\n",
              "      <td>0.0</td>\n",
              "      <td>...</td>\n",
              "      <td>0.0</td>\n",
              "      <td>0.0</td>\n",
              "      <td>0.0</td>\n",
              "      <td>0.0</td>\n",
              "      <td>0.0</td>\n",
              "      <td>0.000000</td>\n",
              "      <td>0.0</td>\n",
              "      <td>0.0</td>\n",
              "      <td>0.0</td>\n",
              "      <td>0.0</td>\n",
              "    </tr>\n",
              "    <tr>\n",
              "      <th>4</th>\n",
              "      <td>0.000000</td>\n",
              "      <td>0.000000</td>\n",
              "      <td>0.0</td>\n",
              "      <td>0.0</td>\n",
              "      <td>0.0</td>\n",
              "      <td>0.0</td>\n",
              "      <td>0.0</td>\n",
              "      <td>0.0</td>\n",
              "      <td>0.000000</td>\n",
              "      <td>0.0</td>\n",
              "      <td>...</td>\n",
              "      <td>0.0</td>\n",
              "      <td>0.0</td>\n",
              "      <td>0.0</td>\n",
              "      <td>0.0</td>\n",
              "      <td>0.0</td>\n",
              "      <td>0.000000</td>\n",
              "      <td>0.0</td>\n",
              "      <td>0.0</td>\n",
              "      <td>0.0</td>\n",
              "      <td>0.0</td>\n",
              "    </tr>\n",
              "    <tr>\n",
              "      <th>...</th>\n",
              "      <td>...</td>\n",
              "      <td>...</td>\n",
              "      <td>...</td>\n",
              "      <td>...</td>\n",
              "      <td>...</td>\n",
              "      <td>...</td>\n",
              "      <td>...</td>\n",
              "      <td>...</td>\n",
              "      <td>...</td>\n",
              "      <td>...</td>\n",
              "      <td>...</td>\n",
              "      <td>...</td>\n",
              "      <td>...</td>\n",
              "      <td>...</td>\n",
              "      <td>...</td>\n",
              "      <td>...</td>\n",
              "      <td>...</td>\n",
              "      <td>...</td>\n",
              "      <td>...</td>\n",
              "      <td>...</td>\n",
              "      <td>...</td>\n",
              "    </tr>\n",
              "    <tr>\n",
              "      <th>208355</th>\n",
              "      <td>0.000000</td>\n",
              "      <td>0.000000</td>\n",
              "      <td>0.0</td>\n",
              "      <td>0.0</td>\n",
              "      <td>0.0</td>\n",
              "      <td>0.0</td>\n",
              "      <td>0.0</td>\n",
              "      <td>0.0</td>\n",
              "      <td>0.000000</td>\n",
              "      <td>0.0</td>\n",
              "      <td>...</td>\n",
              "      <td>0.0</td>\n",
              "      <td>0.0</td>\n",
              "      <td>0.0</td>\n",
              "      <td>0.0</td>\n",
              "      <td>0.0</td>\n",
              "      <td>0.000000</td>\n",
              "      <td>0.0</td>\n",
              "      <td>0.0</td>\n",
              "      <td>0.0</td>\n",
              "      <td>0.0</td>\n",
              "    </tr>\n",
              "    <tr>\n",
              "      <th>208356</th>\n",
              "      <td>0.000000</td>\n",
              "      <td>0.000000</td>\n",
              "      <td>0.0</td>\n",
              "      <td>0.0</td>\n",
              "      <td>0.0</td>\n",
              "      <td>0.0</td>\n",
              "      <td>0.0</td>\n",
              "      <td>0.0</td>\n",
              "      <td>0.054086</td>\n",
              "      <td>0.0</td>\n",
              "      <td>...</td>\n",
              "      <td>0.0</td>\n",
              "      <td>0.0</td>\n",
              "      <td>0.0</td>\n",
              "      <td>0.0</td>\n",
              "      <td>0.0</td>\n",
              "      <td>0.352846</td>\n",
              "      <td>0.0</td>\n",
              "      <td>0.0</td>\n",
              "      <td>0.0</td>\n",
              "      <td>0.0</td>\n",
              "    </tr>\n",
              "    <tr>\n",
              "      <th>208357</th>\n",
              "      <td>0.111092</td>\n",
              "      <td>0.095295</td>\n",
              "      <td>0.0</td>\n",
              "      <td>0.0</td>\n",
              "      <td>0.0</td>\n",
              "      <td>0.0</td>\n",
              "      <td>0.0</td>\n",
              "      <td>0.0</td>\n",
              "      <td>0.000000</td>\n",
              "      <td>0.0</td>\n",
              "      <td>...</td>\n",
              "      <td>0.0</td>\n",
              "      <td>0.0</td>\n",
              "      <td>0.0</td>\n",
              "      <td>0.0</td>\n",
              "      <td>0.0</td>\n",
              "      <td>0.000000</td>\n",
              "      <td>0.0</td>\n",
              "      <td>0.0</td>\n",
              "      <td>0.0</td>\n",
              "      <td>0.0</td>\n",
              "    </tr>\n",
              "    <tr>\n",
              "      <th>208358</th>\n",
              "      <td>0.092511</td>\n",
              "      <td>0.000000</td>\n",
              "      <td>0.0</td>\n",
              "      <td>0.0</td>\n",
              "      <td>0.0</td>\n",
              "      <td>0.0</td>\n",
              "      <td>0.0</td>\n",
              "      <td>0.0</td>\n",
              "      <td>0.000000</td>\n",
              "      <td>0.0</td>\n",
              "      <td>...</td>\n",
              "      <td>0.0</td>\n",
              "      <td>0.0</td>\n",
              "      <td>0.0</td>\n",
              "      <td>0.0</td>\n",
              "      <td>0.0</td>\n",
              "      <td>0.000000</td>\n",
              "      <td>0.0</td>\n",
              "      <td>0.0</td>\n",
              "      <td>0.0</td>\n",
              "      <td>0.0</td>\n",
              "    </tr>\n",
              "    <tr>\n",
              "      <th>208359</th>\n",
              "      <td>0.000000</td>\n",
              "      <td>0.000000</td>\n",
              "      <td>0.0</td>\n",
              "      <td>0.0</td>\n",
              "      <td>0.0</td>\n",
              "      <td>0.0</td>\n",
              "      <td>0.0</td>\n",
              "      <td>0.0</td>\n",
              "      <td>0.000000</td>\n",
              "      <td>0.0</td>\n",
              "      <td>...</td>\n",
              "      <td>0.0</td>\n",
              "      <td>0.0</td>\n",
              "      <td>0.0</td>\n",
              "      <td>0.0</td>\n",
              "      <td>0.0</td>\n",
              "      <td>0.000000</td>\n",
              "      <td>0.0</td>\n",
              "      <td>0.0</td>\n",
              "      <td>0.0</td>\n",
              "      <td>0.0</td>\n",
              "    </tr>\n",
              "  </tbody>\n",
              "</table>\n",
              "<p>208360 rows × 100 columns</p>\n",
              "</div>\n",
              "      <button class=\"colab-df-convert\" onclick=\"convertToInteractive('df-c0b19805-56cd-4143-ac35-c0066fc1cfe3')\"\n",
              "              title=\"Convert this dataframe to an interactive table.\"\n",
              "              style=\"display:none;\">\n",
              "        \n",
              "  <svg xmlns=\"http://www.w3.org/2000/svg\" height=\"24px\"viewBox=\"0 0 24 24\"\n",
              "       width=\"24px\">\n",
              "    <path d=\"M0 0h24v24H0V0z\" fill=\"none\"/>\n",
              "    <path d=\"M18.56 5.44l.94 2.06.94-2.06 2.06-.94-2.06-.94-.94-2.06-.94 2.06-2.06.94zm-11 1L8.5 8.5l.94-2.06 2.06-.94-2.06-.94L8.5 2.5l-.94 2.06-2.06.94zm10 10l.94 2.06.94-2.06 2.06-.94-2.06-.94-.94-2.06-.94 2.06-2.06.94z\"/><path d=\"M17.41 7.96l-1.37-1.37c-.4-.4-.92-.59-1.43-.59-.52 0-1.04.2-1.43.59L10.3 9.45l-7.72 7.72c-.78.78-.78 2.05 0 2.83L4 21.41c.39.39.9.59 1.41.59.51 0 1.02-.2 1.41-.59l7.78-7.78 2.81-2.81c.8-.78.8-2.07 0-2.86zM5.41 20L4 18.59l7.72-7.72 1.47 1.35L5.41 20z\"/>\n",
              "  </svg>\n",
              "      </button>\n",
              "      \n",
              "  <style>\n",
              "    .colab-df-container {\n",
              "      display:flex;\n",
              "      flex-wrap:wrap;\n",
              "      gap: 12px;\n",
              "    }\n",
              "\n",
              "    .colab-df-convert {\n",
              "      background-color: #E8F0FE;\n",
              "      border: none;\n",
              "      border-radius: 50%;\n",
              "      cursor: pointer;\n",
              "      display: none;\n",
              "      fill: #1967D2;\n",
              "      height: 32px;\n",
              "      padding: 0 0 0 0;\n",
              "      width: 32px;\n",
              "    }\n",
              "\n",
              "    .colab-df-convert:hover {\n",
              "      background-color: #E2EBFA;\n",
              "      box-shadow: 0px 1px 2px rgba(60, 64, 67, 0.3), 0px 1px 3px 1px rgba(60, 64, 67, 0.15);\n",
              "      fill: #174EA6;\n",
              "    }\n",
              "\n",
              "    [theme=dark] .colab-df-convert {\n",
              "      background-color: #3B4455;\n",
              "      fill: #D2E3FC;\n",
              "    }\n",
              "\n",
              "    [theme=dark] .colab-df-convert:hover {\n",
              "      background-color: #434B5C;\n",
              "      box-shadow: 0px 1px 3px 1px rgba(0, 0, 0, 0.15);\n",
              "      filter: drop-shadow(0px 1px 2px rgba(0, 0, 0, 0.3));\n",
              "      fill: #FFFFFF;\n",
              "    }\n",
              "  </style>\n",
              "\n",
              "      <script>\n",
              "        const buttonEl =\n",
              "          document.querySelector('#df-c0b19805-56cd-4143-ac35-c0066fc1cfe3 button.colab-df-convert');\n",
              "        buttonEl.style.display =\n",
              "          google.colab.kernel.accessAllowed ? 'block' : 'none';\n",
              "\n",
              "        async function convertToInteractive(key) {\n",
              "          const element = document.querySelector('#df-c0b19805-56cd-4143-ac35-c0066fc1cfe3');\n",
              "          const dataTable =\n",
              "            await google.colab.kernel.invokeFunction('convertToInteractive',\n",
              "                                                     [key], {});\n",
              "          if (!dataTable) return;\n",
              "\n",
              "          const docLinkHtml = 'Like what you see? Visit the ' +\n",
              "            '<a target=\"_blank\" href=https://colab.research.google.com/notebooks/data_table.ipynb>data table notebook</a>'\n",
              "            + ' to learn more about interactive tables.';\n",
              "          element.innerHTML = '';\n",
              "          dataTable['output_type'] = 'display_data';\n",
              "          await google.colab.output.renderOutput(dataTable, element);\n",
              "          const docLink = document.createElement('div');\n",
              "          docLink.innerHTML = docLinkHtml;\n",
              "          element.appendChild(docLink);\n",
              "        }\n",
              "      </script>\n",
              "    </div>\n",
              "  </div>\n",
              "  "
            ]
          },
          "metadata": {},
          "execution_count": 30
        }
      ]
    },
    {
      "cell_type": "code",
      "source": [
        "encoder = LabelEncoder()\n",
        "y_train_num  = encoder.fit_transform(y_train)\n",
        "y_test_num   = encoder.transform(y_test)\n",
        "y_train_num.min(), y_train_num.max(), y_test_num.min(), y_test_num.max()"
      ],
      "metadata": {
        "id": "ixxnf0lWIWqr",
        "colab": {
          "base_uri": "https://localhost:8080/"
        },
        "outputId": "818edd0d-bcd4-4a15-bb9a-af1caeafa7fb"
      },
      "execution_count": null,
      "outputs": [
        {
          "output_type": "execute_result",
          "data": {
            "text/plain": [
              "(0, 17, 0, 17)"
            ]
          },
          "metadata": {},
          "execution_count": 31
        }
      ]
    },
    {
      "cell_type": "code",
      "source": [
        "n=5\n",
        "print('Text   Encoding')\n",
        "print('-'*50)\n",
        "for p,q in zip(y_train[:n].values,y_train_num):\n",
        "    print(f'{q}      {p}')"
      ],
      "metadata": {
        "id": "IVHx3Ws6IZE5",
        "colab": {
          "base_uri": "https://localhost:8080/"
        },
        "outputId": "d5c57ce7-f021-4a30-d841-f6f3b027fc13"
      },
      "execution_count": null,
      "outputs": [
        {
          "output_type": "stream",
          "name": "stdout",
          "text": [
            "Text   Encoding\n",
            "--------------------------------------------------\n",
            "15      Student loan\n",
            "7      Debt collection\n",
            "6      Credit reporting, credit repair services, or other personal consumer reports\n",
            "5      Credit reporting\n",
            "7      Debt collection\n"
          ]
        }
      ]
    },
    {
      "cell_type": "code",
      "source": [
        "mapping = {l: i for i, l in enumerate(encoder.classes_)}\n",
        "mapping"
      ],
      "metadata": {
        "id": "Vg_zYSYqIe3c",
        "colab": {
          "base_uri": "https://localhost:8080/"
        },
        "outputId": "e47ea832-1928-4d01-e97d-77fe76c809d3"
      },
      "execution_count": null,
      "outputs": [
        {
          "output_type": "execute_result",
          "data": {
            "text/plain": [
              "{'Bank account or service': 0,\n",
              " 'Checking or savings account': 1,\n",
              " 'Consumer Loan': 2,\n",
              " 'Credit card': 3,\n",
              " 'Credit card or prepaid card': 4,\n",
              " 'Credit reporting': 5,\n",
              " 'Credit reporting, credit repair services, or other personal consumer reports': 6,\n",
              " 'Debt collection': 7,\n",
              " 'Money transfer, virtual currency, or money service': 8,\n",
              " 'Money transfers': 9,\n",
              " 'Mortgage': 10,\n",
              " 'Other financial service': 11,\n",
              " 'Payday loan': 12,\n",
              " 'Payday loan, title loan, or personal loan': 13,\n",
              " 'Prepaid card': 14,\n",
              " 'Student loan': 15,\n",
              " 'Vehicle loan or lease': 16,\n",
              " 'Virtual currency': 17}"
            ]
          },
          "metadata": {},
          "execution_count": 33
        }
      ]
    },
    {
      "cell_type": "code",
      "source": [
        "rf_model  = RandomForestClassifier(n_estimators=200, random_state=42, n_jobs = -1)\n",
        "scores = cross_val_score(rf_model,X_train_dense,y_train_num,cv=5,n_jobs = -1,scoring = 'accuracy')\n",
        "scores.mean()"
      ],
      "metadata": {
        "id": "yAFKE84LIfH2",
        "colab": {
          "base_uri": "https://localhost:8080/"
        },
        "outputId": "276f7009-f316-41ca-dd2a-a6c78072f53d"
      },
      "execution_count": null,
      "outputs": [
        {
          "output_type": "stream",
          "name": "stderr",
          "text": [
            "/usr/local/lib/python3.9/dist-packages/joblib/externals/loky/process_executor.py:702: UserWarning: A worker stopped while some jobs were given to the executor. This can be caused by a too short worker timeout or by a memory leak.\n",
            "  warnings.warn(\n"
          ]
        },
        {
          "output_type": "execute_result",
          "data": {
            "text/plain": [
              "0.662401612593588"
            ]
          },
          "metadata": {},
          "execution_count": 34
        }
      ]
    },
    {
      "cell_type": "code",
      "source": [
        "rf_model.fit(X_train_dense, y_train_num)\n",
        "preds=rf_model.predict(X_test_dense)\n",
        "print('Predictions ready')"
      ],
      "metadata": {
        "id": "JEIK3EK5Is7W",
        "colab": {
          "base_uri": "https://localhost:8080/"
        },
        "outputId": "07bfa7b1-9dcc-4287-df01-cbd0a5968464"
      },
      "execution_count": null,
      "outputs": [
        {
          "output_type": "stream",
          "name": "stdout",
          "text": [
            "Predictions ready\n"
          ]
        }
      ]
    },
    {
      "cell_type": "code",
      "source": [
        "preds[0]"
      ],
      "metadata": {
        "id": "v1MhYzlqItFB",
        "colab": {
          "base_uri": "https://localhost:8080/"
        },
        "outputId": "287e279e-7286-4464-9c91-144db69d15ba"
      },
      "execution_count": null,
      "outputs": [
        {
          "output_type": "execute_result",
          "data": {
            "text/plain": [
              "6"
            ]
          },
          "metadata": {},
          "execution_count": 36
        }
      ]
    },
    {
      "cell_type": "code",
      "source": [
        "preds=encoder.inverse_transform(preds)\n",
        "preds[0]"
      ],
      "metadata": {
        "id": "bmUE-ad2ItWJ",
        "colab": {
          "base_uri": "https://localhost:8080/",
          "height": 35
        },
        "outputId": "d47d3fb3-30a4-41c3-8dde-000f46e8a0c6"
      },
      "execution_count": null,
      "outputs": [
        {
          "output_type": "execute_result",
          "data": {
            "text/plain": [
              "'Credit reporting, credit repair services, or other personal consumer reports'"
            ],
            "application/vnd.google.colaboratory.intrinsic+json": {
              "type": "string"
            }
          },
          "metadata": {},
          "execution_count": 37
        }
      ]
    },
    {
      "cell_type": "code",
      "source": [
        "report = pd.DataFrame(columns=['Complaint','Actual Product','Prediction'])\n",
        "report['Complaint']      = X_test\n",
        "report['Actual Product'] = y_test\n",
        "report['Prediction']     = preds\n",
        "report"
      ],
      "metadata": {
        "id": "X0fQYNcYI7cm",
        "colab": {
          "base_uri": "https://localhost:8080/",
          "height": 423
        },
        "outputId": "cb3ea009-1a4e-419f-af3b-4aa0aeb836c5"
      },
      "execution_count": null,
      "outputs": [
        {
          "output_type": "execute_result",
          "data": {
            "text/plain": [
              "                                                Complaint  \\\n",
              "914741  Im asking Chase to stop making credit inquirie...   \n",
              "527347  Please refer to the previous complaint submitt...   \n",
              "536221  I had a XXXX card from XXXX. I had the card on...   \n",
              "294310  HO with delinq mtges with Fifth Third contacte...   \n",
              "38331   I received a call with a unknown number from A...   \n",
              "...                                                   ...   \n",
              "56519   There is a feature on Navient 's website that ...   \n",
              "933529  I had a store Credit Card with XXXX for the pu...   \n",
              "342188  I owed a debt to XXXX credit card which was tu...   \n",
              "829842  I just received a copy of my credit report and...   \n",
              "182290  Again, Chase Bank deducted NSF fees very late ...   \n",
              "\n",
              "                                           Actual Product  \\\n",
              "914741  Credit reporting, credit repair services, or o...   \n",
              "527347                            Bank account or service   \n",
              "536221                                        Credit card   \n",
              "294310                                           Mortgage   \n",
              "38331                                     Debt collection   \n",
              "...                                                   ...   \n",
              "56519                                        Student loan   \n",
              "933529  Credit reporting, credit repair services, or o...   \n",
              "342188                                    Debt collection   \n",
              "829842  Credit reporting, credit repair services, or o...   \n",
              "182290                            Bank account or service   \n",
              "\n",
              "                                               Prediction  \n",
              "914741  Credit reporting, credit repair services, or o...  \n",
              "527347                            Bank account or service  \n",
              "536221                                        Credit card  \n",
              "294310                                           Mortgage  \n",
              "38331                                     Debt collection  \n",
              "...                                                   ...  \n",
              "56519                                        Student loan  \n",
              "933529  Credit reporting, credit repair services, or o...  \n",
              "342188                                    Debt collection  \n",
              "829842  Credit reporting, credit repair services, or o...  \n",
              "182290                            Bank account or service  \n",
              "\n",
              "[69454 rows x 3 columns]"
            ],
            "text/html": [
              "\n",
              "  <div id=\"df-e9bdc33c-fd85-47ad-ab4b-c505481300ed\">\n",
              "    <div class=\"colab-df-container\">\n",
              "      <div>\n",
              "<style scoped>\n",
              "    .dataframe tbody tr th:only-of-type {\n",
              "        vertical-align: middle;\n",
              "    }\n",
              "\n",
              "    .dataframe tbody tr th {\n",
              "        vertical-align: top;\n",
              "    }\n",
              "\n",
              "    .dataframe thead th {\n",
              "        text-align: right;\n",
              "    }\n",
              "</style>\n",
              "<table border=\"1\" class=\"dataframe\">\n",
              "  <thead>\n",
              "    <tr style=\"text-align: right;\">\n",
              "      <th></th>\n",
              "      <th>Complaint</th>\n",
              "      <th>Actual Product</th>\n",
              "      <th>Prediction</th>\n",
              "    </tr>\n",
              "  </thead>\n",
              "  <tbody>\n",
              "    <tr>\n",
              "      <th>914741</th>\n",
              "      <td>Im asking Chase to stop making credit inquirie...</td>\n",
              "      <td>Credit reporting, credit repair services, or o...</td>\n",
              "      <td>Credit reporting, credit repair services, or o...</td>\n",
              "    </tr>\n",
              "    <tr>\n",
              "      <th>527347</th>\n",
              "      <td>Please refer to the previous complaint submitt...</td>\n",
              "      <td>Bank account or service</td>\n",
              "      <td>Bank account or service</td>\n",
              "    </tr>\n",
              "    <tr>\n",
              "      <th>536221</th>\n",
              "      <td>I had a XXXX card from XXXX. I had the card on...</td>\n",
              "      <td>Credit card</td>\n",
              "      <td>Credit card</td>\n",
              "    </tr>\n",
              "    <tr>\n",
              "      <th>294310</th>\n",
              "      <td>HO with delinq mtges with Fifth Third contacte...</td>\n",
              "      <td>Mortgage</td>\n",
              "      <td>Mortgage</td>\n",
              "    </tr>\n",
              "    <tr>\n",
              "      <th>38331</th>\n",
              "      <td>I received a call with a unknown number from A...</td>\n",
              "      <td>Debt collection</td>\n",
              "      <td>Debt collection</td>\n",
              "    </tr>\n",
              "    <tr>\n",
              "      <th>...</th>\n",
              "      <td>...</td>\n",
              "      <td>...</td>\n",
              "      <td>...</td>\n",
              "    </tr>\n",
              "    <tr>\n",
              "      <th>56519</th>\n",
              "      <td>There is a feature on Navient 's website that ...</td>\n",
              "      <td>Student loan</td>\n",
              "      <td>Student loan</td>\n",
              "    </tr>\n",
              "    <tr>\n",
              "      <th>933529</th>\n",
              "      <td>I had a store Credit Card with XXXX for the pu...</td>\n",
              "      <td>Credit reporting, credit repair services, or o...</td>\n",
              "      <td>Credit reporting, credit repair services, or o...</td>\n",
              "    </tr>\n",
              "    <tr>\n",
              "      <th>342188</th>\n",
              "      <td>I owed a debt to XXXX credit card which was tu...</td>\n",
              "      <td>Debt collection</td>\n",
              "      <td>Debt collection</td>\n",
              "    </tr>\n",
              "    <tr>\n",
              "      <th>829842</th>\n",
              "      <td>I just received a copy of my credit report and...</td>\n",
              "      <td>Credit reporting, credit repair services, or o...</td>\n",
              "      <td>Credit reporting, credit repair services, or o...</td>\n",
              "    </tr>\n",
              "    <tr>\n",
              "      <th>182290</th>\n",
              "      <td>Again, Chase Bank deducted NSF fees very late ...</td>\n",
              "      <td>Bank account or service</td>\n",
              "      <td>Bank account or service</td>\n",
              "    </tr>\n",
              "  </tbody>\n",
              "</table>\n",
              "<p>69454 rows × 3 columns</p>\n",
              "</div>\n",
              "      <button class=\"colab-df-convert\" onclick=\"convertToInteractive('df-e9bdc33c-fd85-47ad-ab4b-c505481300ed')\"\n",
              "              title=\"Convert this dataframe to an interactive table.\"\n",
              "              style=\"display:none;\">\n",
              "        \n",
              "  <svg xmlns=\"http://www.w3.org/2000/svg\" height=\"24px\"viewBox=\"0 0 24 24\"\n",
              "       width=\"24px\">\n",
              "    <path d=\"M0 0h24v24H0V0z\" fill=\"none\"/>\n",
              "    <path d=\"M18.56 5.44l.94 2.06.94-2.06 2.06-.94-2.06-.94-.94-2.06-.94 2.06-2.06.94zm-11 1L8.5 8.5l.94-2.06 2.06-.94-2.06-.94L8.5 2.5l-.94 2.06-2.06.94zm10 10l.94 2.06.94-2.06 2.06-.94-2.06-.94-.94-2.06-.94 2.06-2.06.94z\"/><path d=\"M17.41 7.96l-1.37-1.37c-.4-.4-.92-.59-1.43-.59-.52 0-1.04.2-1.43.59L10.3 9.45l-7.72 7.72c-.78.78-.78 2.05 0 2.83L4 21.41c.39.39.9.59 1.41.59.51 0 1.02-.2 1.41-.59l7.78-7.78 2.81-2.81c.8-.78.8-2.07 0-2.86zM5.41 20L4 18.59l7.72-7.72 1.47 1.35L5.41 20z\"/>\n",
              "  </svg>\n",
              "      </button>\n",
              "      \n",
              "  <style>\n",
              "    .colab-df-container {\n",
              "      display:flex;\n",
              "      flex-wrap:wrap;\n",
              "      gap: 12px;\n",
              "    }\n",
              "\n",
              "    .colab-df-convert {\n",
              "      background-color: #E8F0FE;\n",
              "      border: none;\n",
              "      border-radius: 50%;\n",
              "      cursor: pointer;\n",
              "      display: none;\n",
              "      fill: #1967D2;\n",
              "      height: 32px;\n",
              "      padding: 0 0 0 0;\n",
              "      width: 32px;\n",
              "    }\n",
              "\n",
              "    .colab-df-convert:hover {\n",
              "      background-color: #E2EBFA;\n",
              "      box-shadow: 0px 1px 2px rgba(60, 64, 67, 0.3), 0px 1px 3px 1px rgba(60, 64, 67, 0.15);\n",
              "      fill: #174EA6;\n",
              "    }\n",
              "\n",
              "    [theme=dark] .colab-df-convert {\n",
              "      background-color: #3B4455;\n",
              "      fill: #D2E3FC;\n",
              "    }\n",
              "\n",
              "    [theme=dark] .colab-df-convert:hover {\n",
              "      background-color: #434B5C;\n",
              "      box-shadow: 0px 1px 3px 1px rgba(0, 0, 0, 0.15);\n",
              "      filter: drop-shadow(0px 1px 2px rgba(0, 0, 0, 0.3));\n",
              "      fill: #FFFFFF;\n",
              "    }\n",
              "  </style>\n",
              "\n",
              "      <script>\n",
              "        const buttonEl =\n",
              "          document.querySelector('#df-e9bdc33c-fd85-47ad-ab4b-c505481300ed button.colab-df-convert');\n",
              "        buttonEl.style.display =\n",
              "          google.colab.kernel.accessAllowed ? 'block' : 'none';\n",
              "\n",
              "        async function convertToInteractive(key) {\n",
              "          const element = document.querySelector('#df-e9bdc33c-fd85-47ad-ab4b-c505481300ed');\n",
              "          const dataTable =\n",
              "            await google.colab.kernel.invokeFunction('convertToInteractive',\n",
              "                                                     [key], {});\n",
              "          if (!dataTable) return;\n",
              "\n",
              "          const docLinkHtml = 'Like what you see? Visit the ' +\n",
              "            '<a target=\"_blank\" href=https://colab.research.google.com/notebooks/data_table.ipynb>data table notebook</a>'\n",
              "            + ' to learn more about interactive tables.';\n",
              "          element.innerHTML = '';\n",
              "          dataTable['output_type'] = 'display_data';\n",
              "          await google.colab.output.renderOutput(dataTable, element);\n",
              "          const docLink = document.createElement('div');\n",
              "          docLink.innerHTML = docLinkHtml;\n",
              "          element.appendChild(docLink);\n",
              "        }\n",
              "      </script>\n",
              "    </div>\n",
              "  </div>\n",
              "  "
            ]
          },
          "metadata": {},
          "execution_count": 38
        }
      ]
    },
    {
      "cell_type": "code",
      "source": [
        "report['Correct'] = (report['Actual Product'] == report['Prediction']).astype('int')\n",
        "display(report)\n",
        "print(f'Accuracy: {100*report.Correct.sum()/report.Correct.count()} %')"
      ],
      "metadata": {
        "id": "Hv6Atp0XI8p6",
        "colab": {
          "base_uri": "https://localhost:8080/",
          "height": 441
        },
        "outputId": "e5dc1581-207c-4351-ed45-0878ef0a9d22"
      },
      "execution_count": null,
      "outputs": [
        {
          "output_type": "display_data",
          "data": {
            "text/plain": [
              "                                                Complaint  \\\n",
              "914741  Im asking Chase to stop making credit inquirie...   \n",
              "527347  Please refer to the previous complaint submitt...   \n",
              "536221  I had a XXXX card from XXXX. I had the card on...   \n",
              "294310  HO with delinq mtges with Fifth Third contacte...   \n",
              "38331   I received a call with a unknown number from A...   \n",
              "...                                                   ...   \n",
              "56519   There is a feature on Navient 's website that ...   \n",
              "933529  I had a store Credit Card with XXXX for the pu...   \n",
              "342188  I owed a debt to XXXX credit card which was tu...   \n",
              "829842  I just received a copy of my credit report and...   \n",
              "182290  Again, Chase Bank deducted NSF fees very late ...   \n",
              "\n",
              "                                           Actual Product  \\\n",
              "914741  Credit reporting, credit repair services, or o...   \n",
              "527347                            Bank account or service   \n",
              "536221                                        Credit card   \n",
              "294310                                           Mortgage   \n",
              "38331                                     Debt collection   \n",
              "...                                                   ...   \n",
              "56519                                        Student loan   \n",
              "933529  Credit reporting, credit repair services, or o...   \n",
              "342188                                    Debt collection   \n",
              "829842  Credit reporting, credit repair services, or o...   \n",
              "182290                            Bank account or service   \n",
              "\n",
              "                                               Prediction  Correct  \n",
              "914741  Credit reporting, credit repair services, or o...        1  \n",
              "527347                            Bank account or service        1  \n",
              "536221                                        Credit card        1  \n",
              "294310                                           Mortgage        1  \n",
              "38331                                     Debt collection        1  \n",
              "...                                                   ...      ...  \n",
              "56519                                        Student loan        1  \n",
              "933529  Credit reporting, credit repair services, or o...        1  \n",
              "342188                                    Debt collection        1  \n",
              "829842  Credit reporting, credit repair services, or o...        1  \n",
              "182290                            Bank account or service        1  \n",
              "\n",
              "[69454 rows x 4 columns]"
            ],
            "text/html": [
              "\n",
              "  <div id=\"df-bfd9eea5-cff6-4d03-8aaf-45542abdf182\">\n",
              "    <div class=\"colab-df-container\">\n",
              "      <div>\n",
              "<style scoped>\n",
              "    .dataframe tbody tr th:only-of-type {\n",
              "        vertical-align: middle;\n",
              "    }\n",
              "\n",
              "    .dataframe tbody tr th {\n",
              "        vertical-align: top;\n",
              "    }\n",
              "\n",
              "    .dataframe thead th {\n",
              "        text-align: right;\n",
              "    }\n",
              "</style>\n",
              "<table border=\"1\" class=\"dataframe\">\n",
              "  <thead>\n",
              "    <tr style=\"text-align: right;\">\n",
              "      <th></th>\n",
              "      <th>Complaint</th>\n",
              "      <th>Actual Product</th>\n",
              "      <th>Prediction</th>\n",
              "      <th>Correct</th>\n",
              "    </tr>\n",
              "  </thead>\n",
              "  <tbody>\n",
              "    <tr>\n",
              "      <th>914741</th>\n",
              "      <td>Im asking Chase to stop making credit inquirie...</td>\n",
              "      <td>Credit reporting, credit repair services, or o...</td>\n",
              "      <td>Credit reporting, credit repair services, or o...</td>\n",
              "      <td>1</td>\n",
              "    </tr>\n",
              "    <tr>\n",
              "      <th>527347</th>\n",
              "      <td>Please refer to the previous complaint submitt...</td>\n",
              "      <td>Bank account or service</td>\n",
              "      <td>Bank account or service</td>\n",
              "      <td>1</td>\n",
              "    </tr>\n",
              "    <tr>\n",
              "      <th>536221</th>\n",
              "      <td>I had a XXXX card from XXXX. I had the card on...</td>\n",
              "      <td>Credit card</td>\n",
              "      <td>Credit card</td>\n",
              "      <td>1</td>\n",
              "    </tr>\n",
              "    <tr>\n",
              "      <th>294310</th>\n",
              "      <td>HO with delinq mtges with Fifth Third contacte...</td>\n",
              "      <td>Mortgage</td>\n",
              "      <td>Mortgage</td>\n",
              "      <td>1</td>\n",
              "    </tr>\n",
              "    <tr>\n",
              "      <th>38331</th>\n",
              "      <td>I received a call with a unknown number from A...</td>\n",
              "      <td>Debt collection</td>\n",
              "      <td>Debt collection</td>\n",
              "      <td>1</td>\n",
              "    </tr>\n",
              "    <tr>\n",
              "      <th>...</th>\n",
              "      <td>...</td>\n",
              "      <td>...</td>\n",
              "      <td>...</td>\n",
              "      <td>...</td>\n",
              "    </tr>\n",
              "    <tr>\n",
              "      <th>56519</th>\n",
              "      <td>There is a feature on Navient 's website that ...</td>\n",
              "      <td>Student loan</td>\n",
              "      <td>Student loan</td>\n",
              "      <td>1</td>\n",
              "    </tr>\n",
              "    <tr>\n",
              "      <th>933529</th>\n",
              "      <td>I had a store Credit Card with XXXX for the pu...</td>\n",
              "      <td>Credit reporting, credit repair services, or o...</td>\n",
              "      <td>Credit reporting, credit repair services, or o...</td>\n",
              "      <td>1</td>\n",
              "    </tr>\n",
              "    <tr>\n",
              "      <th>342188</th>\n",
              "      <td>I owed a debt to XXXX credit card which was tu...</td>\n",
              "      <td>Debt collection</td>\n",
              "      <td>Debt collection</td>\n",
              "      <td>1</td>\n",
              "    </tr>\n",
              "    <tr>\n",
              "      <th>829842</th>\n",
              "      <td>I just received a copy of my credit report and...</td>\n",
              "      <td>Credit reporting, credit repair services, or o...</td>\n",
              "      <td>Credit reporting, credit repair services, or o...</td>\n",
              "      <td>1</td>\n",
              "    </tr>\n",
              "    <tr>\n",
              "      <th>182290</th>\n",
              "      <td>Again, Chase Bank deducted NSF fees very late ...</td>\n",
              "      <td>Bank account or service</td>\n",
              "      <td>Bank account or service</td>\n",
              "      <td>1</td>\n",
              "    </tr>\n",
              "  </tbody>\n",
              "</table>\n",
              "<p>69454 rows × 4 columns</p>\n",
              "</div>\n",
              "      <button class=\"colab-df-convert\" onclick=\"convertToInteractive('df-bfd9eea5-cff6-4d03-8aaf-45542abdf182')\"\n",
              "              title=\"Convert this dataframe to an interactive table.\"\n",
              "              style=\"display:none;\">\n",
              "        \n",
              "  <svg xmlns=\"http://www.w3.org/2000/svg\" height=\"24px\"viewBox=\"0 0 24 24\"\n",
              "       width=\"24px\">\n",
              "    <path d=\"M0 0h24v24H0V0z\" fill=\"none\"/>\n",
              "    <path d=\"M18.56 5.44l.94 2.06.94-2.06 2.06-.94-2.06-.94-.94-2.06-.94 2.06-2.06.94zm-11 1L8.5 8.5l.94-2.06 2.06-.94-2.06-.94L8.5 2.5l-.94 2.06-2.06.94zm10 10l.94 2.06.94-2.06 2.06-.94-2.06-.94-.94-2.06-.94 2.06-2.06.94z\"/><path d=\"M17.41 7.96l-1.37-1.37c-.4-.4-.92-.59-1.43-.59-.52 0-1.04.2-1.43.59L10.3 9.45l-7.72 7.72c-.78.78-.78 2.05 0 2.83L4 21.41c.39.39.9.59 1.41.59.51 0 1.02-.2 1.41-.59l7.78-7.78 2.81-2.81c.8-.78.8-2.07 0-2.86zM5.41 20L4 18.59l7.72-7.72 1.47 1.35L5.41 20z\"/>\n",
              "  </svg>\n",
              "      </button>\n",
              "      \n",
              "  <style>\n",
              "    .colab-df-container {\n",
              "      display:flex;\n",
              "      flex-wrap:wrap;\n",
              "      gap: 12px;\n",
              "    }\n",
              "\n",
              "    .colab-df-convert {\n",
              "      background-color: #E8F0FE;\n",
              "      border: none;\n",
              "      border-radius: 50%;\n",
              "      cursor: pointer;\n",
              "      display: none;\n",
              "      fill: #1967D2;\n",
              "      height: 32px;\n",
              "      padding: 0 0 0 0;\n",
              "      width: 32px;\n",
              "    }\n",
              "\n",
              "    .colab-df-convert:hover {\n",
              "      background-color: #E2EBFA;\n",
              "      box-shadow: 0px 1px 2px rgba(60, 64, 67, 0.3), 0px 1px 3px 1px rgba(60, 64, 67, 0.15);\n",
              "      fill: #174EA6;\n",
              "    }\n",
              "\n",
              "    [theme=dark] .colab-df-convert {\n",
              "      background-color: #3B4455;\n",
              "      fill: #D2E3FC;\n",
              "    }\n",
              "\n",
              "    [theme=dark] .colab-df-convert:hover {\n",
              "      background-color: #434B5C;\n",
              "      box-shadow: 0px 1px 3px 1px rgba(0, 0, 0, 0.15);\n",
              "      filter: drop-shadow(0px 1px 2px rgba(0, 0, 0, 0.3));\n",
              "      fill: #FFFFFF;\n",
              "    }\n",
              "  </style>\n",
              "\n",
              "      <script>\n",
              "        const buttonEl =\n",
              "          document.querySelector('#df-bfd9eea5-cff6-4d03-8aaf-45542abdf182 button.colab-df-convert');\n",
              "        buttonEl.style.display =\n",
              "          google.colab.kernel.accessAllowed ? 'block' : 'none';\n",
              "\n",
              "        async function convertToInteractive(key) {\n",
              "          const element = document.querySelector('#df-bfd9eea5-cff6-4d03-8aaf-45542abdf182');\n",
              "          const dataTable =\n",
              "            await google.colab.kernel.invokeFunction('convertToInteractive',\n",
              "                                                     [key], {});\n",
              "          if (!dataTable) return;\n",
              "\n",
              "          const docLinkHtml = 'Like what you see? Visit the ' +\n",
              "            '<a target=\"_blank\" href=https://colab.research.google.com/notebooks/data_table.ipynb>data table notebook</a>'\n",
              "            + ' to learn more about interactive tables.';\n",
              "          element.innerHTML = '';\n",
              "          dataTable['output_type'] = 'display_data';\n",
              "          await google.colab.output.renderOutput(dataTable, element);\n",
              "          const docLink = document.createElement('div');\n",
              "          docLink.innerHTML = docLinkHtml;\n",
              "          element.appendChild(docLink);\n",
              "        }\n",
              "      </script>\n",
              "    </div>\n",
              "  </div>\n",
              "  "
            ]
          },
          "metadata": {}
        },
        {
          "output_type": "stream",
          "name": "stdout",
          "text": [
            "Accuracy: 66.55340225185014 %\n"
          ]
        }
      ]
    },
    {
      "cell_type": "code",
      "source": [
        "r = pd.DataFrame()\n",
        "r['Correctly Predicted'] = report.groupby('Actual Product').sum()['Correct']\n",
        "r['Overall Predicted']   = report.groupby('Prediction').count()['Correct']\n",
        "r['Actuals']             = report.groupby('Actual Product').count()['Correct']\n",
        "r"
      ],
      "metadata": {
        "id": "kpj2a61WJCq5",
        "colab": {
          "base_uri": "https://localhost:8080/",
          "height": 645
        },
        "outputId": "940b7c81-392c-4305-87c1-ea48602f4263"
      },
      "execution_count": null,
      "outputs": [
        {
          "output_type": "execute_result",
          "data": {
            "text/plain": [
              "                                                    Correctly Predicted  \\\n",
              "Actual Product                                                            \n",
              "Bank account or service                                            2522   \n",
              "Checking or savings account                                         132   \n",
              "Consumer Loan                                                      1035   \n",
              "Credit card                                                        2789   \n",
              "Credit card or prepaid card                                         384   \n",
              "Credit reporting                                                   3736   \n",
              "Credit reporting, credit repair services, or ot...                 8272   \n",
              "Debt collection                                                   12934   \n",
              "Money transfer, virtual currency, or money service                  392   \n",
              "Money transfers                                                     122   \n",
              "Mortgage                                                          10005   \n",
              "Other financial service                                               1   \n",
              "Payday loan                                                          83   \n",
              "Payday loan, title loan, or personal loan                            32   \n",
              "Prepaid card                                                        204   \n",
              "Student loan                                                       3549   \n",
              "Vehicle loan or lease                                                32   \n",
              "Virtual currency                                                      0   \n",
              "\n",
              "                                                    Overall Predicted  Actuals  \n",
              "Actual Product                                                                  \n",
              "Bank account or service                                        4813.0     3722  \n",
              "Checking or savings account                                     438.0     1622  \n",
              "Consumer Loan                                                  2295.0     2369  \n",
              "Credit card                                                    5692.0     4711  \n",
              "Credit card or prepaid card                                    1273.0     2665  \n",
              "Credit reporting                                               6522.0     7898  \n",
              "Credit reporting, credit repair services, or ot...            13091.0    12252  \n",
              "Debt collection                                               17739.0    15817  \n",
              "Money transfer, virtual currency, or money service              559.0      772  \n",
              "Money transfers                                                 255.0      374  \n",
              "Mortgage                                                      11486.0    10959  \n",
              "Other financial service                                          11.0       73  \n",
              "Payday loan                                                     292.0      437  \n",
              "Payday loan, title loan, or personal loan                       191.0      547  \n",
              "Prepaid card                                                    368.0      362  \n",
              "Student loan                                                   4257.0     4172  \n",
              "Vehicle loan or lease                                           172.0      698  \n",
              "Virtual currency                                                  NaN        4  "
            ],
            "text/html": [
              "\n",
              "  <div id=\"df-45e50b07-e431-4ee5-96bb-12f9150ae399\">\n",
              "    <div class=\"colab-df-container\">\n",
              "      <div>\n",
              "<style scoped>\n",
              "    .dataframe tbody tr th:only-of-type {\n",
              "        vertical-align: middle;\n",
              "    }\n",
              "\n",
              "    .dataframe tbody tr th {\n",
              "        vertical-align: top;\n",
              "    }\n",
              "\n",
              "    .dataframe thead th {\n",
              "        text-align: right;\n",
              "    }\n",
              "</style>\n",
              "<table border=\"1\" class=\"dataframe\">\n",
              "  <thead>\n",
              "    <tr style=\"text-align: right;\">\n",
              "      <th></th>\n",
              "      <th>Correctly Predicted</th>\n",
              "      <th>Overall Predicted</th>\n",
              "      <th>Actuals</th>\n",
              "    </tr>\n",
              "    <tr>\n",
              "      <th>Actual Product</th>\n",
              "      <th></th>\n",
              "      <th></th>\n",
              "      <th></th>\n",
              "    </tr>\n",
              "  </thead>\n",
              "  <tbody>\n",
              "    <tr>\n",
              "      <th>Bank account or service</th>\n",
              "      <td>2522</td>\n",
              "      <td>4813.0</td>\n",
              "      <td>3722</td>\n",
              "    </tr>\n",
              "    <tr>\n",
              "      <th>Checking or savings account</th>\n",
              "      <td>132</td>\n",
              "      <td>438.0</td>\n",
              "      <td>1622</td>\n",
              "    </tr>\n",
              "    <tr>\n",
              "      <th>Consumer Loan</th>\n",
              "      <td>1035</td>\n",
              "      <td>2295.0</td>\n",
              "      <td>2369</td>\n",
              "    </tr>\n",
              "    <tr>\n",
              "      <th>Credit card</th>\n",
              "      <td>2789</td>\n",
              "      <td>5692.0</td>\n",
              "      <td>4711</td>\n",
              "    </tr>\n",
              "    <tr>\n",
              "      <th>Credit card or prepaid card</th>\n",
              "      <td>384</td>\n",
              "      <td>1273.0</td>\n",
              "      <td>2665</td>\n",
              "    </tr>\n",
              "    <tr>\n",
              "      <th>Credit reporting</th>\n",
              "      <td>3736</td>\n",
              "      <td>6522.0</td>\n",
              "      <td>7898</td>\n",
              "    </tr>\n",
              "    <tr>\n",
              "      <th>Credit reporting, credit repair services, or other personal consumer reports</th>\n",
              "      <td>8272</td>\n",
              "      <td>13091.0</td>\n",
              "      <td>12252</td>\n",
              "    </tr>\n",
              "    <tr>\n",
              "      <th>Debt collection</th>\n",
              "      <td>12934</td>\n",
              "      <td>17739.0</td>\n",
              "      <td>15817</td>\n",
              "    </tr>\n",
              "    <tr>\n",
              "      <th>Money transfer, virtual currency, or money service</th>\n",
              "      <td>392</td>\n",
              "      <td>559.0</td>\n",
              "      <td>772</td>\n",
              "    </tr>\n",
              "    <tr>\n",
              "      <th>Money transfers</th>\n",
              "      <td>122</td>\n",
              "      <td>255.0</td>\n",
              "      <td>374</td>\n",
              "    </tr>\n",
              "    <tr>\n",
              "      <th>Mortgage</th>\n",
              "      <td>10005</td>\n",
              "      <td>11486.0</td>\n",
              "      <td>10959</td>\n",
              "    </tr>\n",
              "    <tr>\n",
              "      <th>Other financial service</th>\n",
              "      <td>1</td>\n",
              "      <td>11.0</td>\n",
              "      <td>73</td>\n",
              "    </tr>\n",
              "    <tr>\n",
              "      <th>Payday loan</th>\n",
              "      <td>83</td>\n",
              "      <td>292.0</td>\n",
              "      <td>437</td>\n",
              "    </tr>\n",
              "    <tr>\n",
              "      <th>Payday loan, title loan, or personal loan</th>\n",
              "      <td>32</td>\n",
              "      <td>191.0</td>\n",
              "      <td>547</td>\n",
              "    </tr>\n",
              "    <tr>\n",
              "      <th>Prepaid card</th>\n",
              "      <td>204</td>\n",
              "      <td>368.0</td>\n",
              "      <td>362</td>\n",
              "    </tr>\n",
              "    <tr>\n",
              "      <th>Student loan</th>\n",
              "      <td>3549</td>\n",
              "      <td>4257.0</td>\n",
              "      <td>4172</td>\n",
              "    </tr>\n",
              "    <tr>\n",
              "      <th>Vehicle loan or lease</th>\n",
              "      <td>32</td>\n",
              "      <td>172.0</td>\n",
              "      <td>698</td>\n",
              "    </tr>\n",
              "    <tr>\n",
              "      <th>Virtual currency</th>\n",
              "      <td>0</td>\n",
              "      <td>NaN</td>\n",
              "      <td>4</td>\n",
              "    </tr>\n",
              "  </tbody>\n",
              "</table>\n",
              "</div>\n",
              "      <button class=\"colab-df-convert\" onclick=\"convertToInteractive('df-45e50b07-e431-4ee5-96bb-12f9150ae399')\"\n",
              "              title=\"Convert this dataframe to an interactive table.\"\n",
              "              style=\"display:none;\">\n",
              "        \n",
              "  <svg xmlns=\"http://www.w3.org/2000/svg\" height=\"24px\"viewBox=\"0 0 24 24\"\n",
              "       width=\"24px\">\n",
              "    <path d=\"M0 0h24v24H0V0z\" fill=\"none\"/>\n",
              "    <path d=\"M18.56 5.44l.94 2.06.94-2.06 2.06-.94-2.06-.94-.94-2.06-.94 2.06-2.06.94zm-11 1L8.5 8.5l.94-2.06 2.06-.94-2.06-.94L8.5 2.5l-.94 2.06-2.06.94zm10 10l.94 2.06.94-2.06 2.06-.94-2.06-.94-.94-2.06-.94 2.06-2.06.94z\"/><path d=\"M17.41 7.96l-1.37-1.37c-.4-.4-.92-.59-1.43-.59-.52 0-1.04.2-1.43.59L10.3 9.45l-7.72 7.72c-.78.78-.78 2.05 0 2.83L4 21.41c.39.39.9.59 1.41.59.51 0 1.02-.2 1.41-.59l7.78-7.78 2.81-2.81c.8-.78.8-2.07 0-2.86zM5.41 20L4 18.59l7.72-7.72 1.47 1.35L5.41 20z\"/>\n",
              "  </svg>\n",
              "      </button>\n",
              "      \n",
              "  <style>\n",
              "    .colab-df-container {\n",
              "      display:flex;\n",
              "      flex-wrap:wrap;\n",
              "      gap: 12px;\n",
              "    }\n",
              "\n",
              "    .colab-df-convert {\n",
              "      background-color: #E8F0FE;\n",
              "      border: none;\n",
              "      border-radius: 50%;\n",
              "      cursor: pointer;\n",
              "      display: none;\n",
              "      fill: #1967D2;\n",
              "      height: 32px;\n",
              "      padding: 0 0 0 0;\n",
              "      width: 32px;\n",
              "    }\n",
              "\n",
              "    .colab-df-convert:hover {\n",
              "      background-color: #E2EBFA;\n",
              "      box-shadow: 0px 1px 2px rgba(60, 64, 67, 0.3), 0px 1px 3px 1px rgba(60, 64, 67, 0.15);\n",
              "      fill: #174EA6;\n",
              "    }\n",
              "\n",
              "    [theme=dark] .colab-df-convert {\n",
              "      background-color: #3B4455;\n",
              "      fill: #D2E3FC;\n",
              "    }\n",
              "\n",
              "    [theme=dark] .colab-df-convert:hover {\n",
              "      background-color: #434B5C;\n",
              "      box-shadow: 0px 1px 3px 1px rgba(0, 0, 0, 0.15);\n",
              "      filter: drop-shadow(0px 1px 2px rgba(0, 0, 0, 0.3));\n",
              "      fill: #FFFFFF;\n",
              "    }\n",
              "  </style>\n",
              "\n",
              "      <script>\n",
              "        const buttonEl =\n",
              "          document.querySelector('#df-45e50b07-e431-4ee5-96bb-12f9150ae399 button.colab-df-convert');\n",
              "        buttonEl.style.display =\n",
              "          google.colab.kernel.accessAllowed ? 'block' : 'none';\n",
              "\n",
              "        async function convertToInteractive(key) {\n",
              "          const element = document.querySelector('#df-45e50b07-e431-4ee5-96bb-12f9150ae399');\n",
              "          const dataTable =\n",
              "            await google.colab.kernel.invokeFunction('convertToInteractive',\n",
              "                                                     [key], {});\n",
              "          if (!dataTable) return;\n",
              "\n",
              "          const docLinkHtml = 'Like what you see? Visit the ' +\n",
              "            '<a target=\"_blank\" href=https://colab.research.google.com/notebooks/data_table.ipynb>data table notebook</a>'\n",
              "            + ' to learn more about interactive tables.';\n",
              "          element.innerHTML = '';\n",
              "          dataTable['output_type'] = 'display_data';\n",
              "          await google.colab.output.renderOutput(dataTable, element);\n",
              "          const docLink = document.createElement('div');\n",
              "          docLink.innerHTML = docLinkHtml;\n",
              "          element.appendChild(docLink);\n",
              "        }\n",
              "      </script>\n",
              "    </div>\n",
              "  </div>\n",
              "  "
            ]
          },
          "metadata": {},
          "execution_count": 40
        }
      ]
    },
    {
      "cell_type": "code",
      "source": [
        "from sklearn.metrics import confusion_matrix\n",
        "def plot_confusion_matrix(cm,labels,size=10, rotate_labels=False):\n",
        "    '''\n",
        "    This function receives a confusion matrix object and plots it out using seaborn\n",
        "    '''\n",
        "    import seaborn as sns\n",
        "    import matplotlib.pyplot as plt\n",
        "    font_specs = {\"size\": 20, 'fontweight':'bold'}\n",
        "    title_specs= {\"size\": 16, 'fontweight':'bold'}\n",
        "    figsize = size\n",
        "    fig, ax = plt.subplots(figsize = (figsize,figsize), facecolor = '#ebebeb', frameon = True, edgecolor = 'black')\n",
        "    ax = sns.heatmap(cm,annot=True, cbar = False, cmap = 'Blues',linewidths=5,\n",
        "                  linecolor='#ebebeb', annot_kws=font_specs, fmt='g')\n",
        "    plt.xlabel('Predicted', fontdict = font_specs, labelpad=-(figsize*65))\n",
        "    plt.ylabel('Actual', fontdict = font_specs, labelpad=15)\n",
        "    ax.xaxis.set_ticklabels(labels)\n",
        "    ax.yaxis.set_ticklabels(labels)\n",
        "    if rotate_labels:\n",
        "        ax.set_xticklabels(labels, rotation=90, ha='center')\n",
        "        ax.set_yticklabels(labels, rotation=0, ha='right')\n",
        "\n",
        "    ax.tick_params(labelbottom=False, labeltop=True, labelsize = 12, colors ='#151736' )\n",
        "    plt.title('CONFUSION MATRIX',loc = 'right', pad = figsize*4 , fontdict = title_specs)\n",
        "    plt.show()\n",
        "print('custom function defined')"
      ],
      "metadata": {
        "id": "BxqhXqOPJMV3",
        "colab": {
          "base_uri": "https://localhost:8080/"
        },
        "outputId": "fcf7ad5f-8b67-4ef6-b068-adc1e9820177"
      },
      "execution_count": null,
      "outputs": [
        {
          "output_type": "stream",
          "name": "stdout",
          "text": [
            "custom function defined\n"
          ]
        }
      ]
    },
    {
      "cell_type": "code",
      "source": [
        "cm = confusion_matrix(y_test, preds, labels=encoder.classes_)\n",
        "plot_confusion_matrix(cm=cm,labels=encoder.classes_, size=12, rotate_labels=True)"
      ],
      "metadata": {
        "id": "0QvKSfP1JQ9q",
        "colab": {
          "base_uri": "https://localhost:8080/",
          "height": 1000
        },
        "outputId": "68fb4a00-0186-4980-facf-d45304048094"
      },
      "execution_count": null,
      "outputs": [
        {
          "output_type": "display_data",
          "data": {
            "text/plain": [
              "<Figure size 864x864 with 1 Axes>"
            ],
            "image/png": "[encoded data removed]"
          },
          "metadata": {}
        }
      ]
    }
  ]
}